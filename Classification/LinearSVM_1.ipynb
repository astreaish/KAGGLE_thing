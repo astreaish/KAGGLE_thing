{
 "cells": [
  {
   "cell_type": "code",
   "execution_count": 53,
   "metadata": {
    "collapsed": false
   },
   "outputs": [
    {
     "name": "stdout",
     "output_type": "stream",
     "text": [
      "1963\n"
     ]
    }
   ],
   "source": [
    "from PIL import Image\n",
    "import numpy as np\n",
    "from numpy import *\n",
    "from sklearn import preprocessing as prep\n",
    "from mpl_toolkits.mplot3d import Axes3D\n",
    "from matplotlib.colors import ListedColormap\n",
    "from sklearn.decomposition import PCA\n",
    "import matplotlib.pyplot as plt\n",
    "import sklearn.cross_validation as crval\n",
    "from sklearn.naive_bayes import GaussianNB\n",
    "from sklearn.datasets import fetch_mldata\n",
    "from scipy.interpolate import interp1d\n",
    "from sklearn.svm import LinearSVC\n",
    "from sklearn.svm import SVC\n",
    "import pylab\n",
    "import csv\n",
    "from sklearn.cross_validation import *\n",
    "from sklearn import tree\n",
    "from sklearn.ensemble import GradientBoostingClassifier\n",
    "\n",
    "from sklearn import neighbors\n",
    "\n",
    "#LOADING DATA ..... \n",
    "X=[]\n",
    "with open('x_tr.csv','r') as f:\n",
    "    reader = csv.reader(f)\n",
    "    for row1 in reader:\n",
    "        X.append(row1)\n",
    "y=[]\n",
    "with open('y_tr.csv','r') as f:\n",
    "    reader = csv.reader(f)\n",
    "    for row1 in reader:\n",
    "        y.append(row1)\n",
    "        \n",
    "X_test=[]\n",
    "fp=open('class_test_in.csv','r')\n",
    "trash=fp.readline()\n",
    "#print trash\n",
    "lines=fp.readlines()\n",
    "print len(lines)\n",
    "#print lines[0]\n",
    "\n",
    "for line in lines:\n",
    "    data=line.split(',')\n",
    "    cleaned_data=data[1:len(data)]\n",
    "    X_test.append(cleaned_data)\n",
    "\n"
   ]
  },
  {
   "cell_type": "code",
   "execution_count": 52,
   "metadata": {
    "collapsed": false
   },
   "outputs": [
    {
     "name": "stdout",
     "output_type": "stream",
     "text": [
      "519930\n",
      "1962\n",
      "(1962,)\n",
      "520195\n",
      "(1963, 265)\n",
      "it had mean: 93.7580887936 and std:24628.007464\n",
      "NOW it has mean: -1.45060291886e-17 and std: 1.0\n"
     ]
    }
   ],
   "source": [
    "print size(X)\n",
    "print size(y)\n",
    "X=np.asarray(X)\n",
    "X=X.astype(np.float)\n",
    "X=np.ravel(X)\n",
    "X= X.reshape(1962, 265)\n",
    "\n",
    "y=np.asarray(y)\n",
    "y=np.ravel(y)\n",
    "print shape(y)\n",
    "#print X\n",
    "\n",
    "\n",
    "X_test=np.asarray(X_test)\n",
    "X_test=X_test.astype(np.float)\n",
    "X_test=np.ravel(X_test)\n",
    "print len(X_test)\n",
    "X_test= X_test.reshape(1963, 265)\n",
    "\n",
    "#NORMALIZING DATA\n",
    "print(shape(X_test))    \n",
    "selX=X_test\n",
    "std_scal=prep.StandardScaler()\n",
    "selX_scaled=std_scal.fit_transform(selX)\n",
    "print('it had mean: ' +str(mean(selX))+' and std:'+ str(std(selX)))\n",
    "print('NOW it has mean: '+str(mean(selX_scaled))+' and std: '+str(std(selX_scaled)))\n",
    "\n",
    "X_test=selX_scaled"
   ]
  },
  {
   "cell_type": "code",
   "execution_count": 19,
   "metadata": {
    "collapsed": false
   },
   "outputs": [
    {
     "name": "stdout",
     "output_type": "stream",
     "text": [
      "Lets mess up things a little bit: \n",
      "total matrix of data:(1962, 265)\n",
      "Divide et impera: creation of train/test/val sets:\n",
      "Done. Here the sizes: \n",
      "Train: (1569, 265)\n",
      "Val: (393, 265)\n"
     ]
    }
   ],
   "source": [
    "print('Lets mess up things a little bit: ')\n",
    "selX_scaled=X\n",
    "sely=y\n",
    "indexes=[]\n",
    "shuffly=y\n",
    "shufflX=X\n",
    "for i in range(len(sely)):\n",
    "    indexes.append(i)\n",
    "np.random.shuffle(indexes)\n",
    "#print(indexes)\n",
    "for i in range(len(indexes)):\n",
    "    shuffly[i]=sely[i]\n",
    "    shufflX[i, :]= selX_scaled[i,:]\n",
    "print('total matrix of data:'+str(shape(shufflX)))\n",
    "#print(shape(shuffly))\n",
    "\n",
    "print('Divide et impera: creation of train/test/val sets:')\n",
    "\n",
    "trainData, valData, trainLab, valLab = crval.train_test_split(shufflX, shuffly, test_size=0.2)\n",
    "\n",
    "#trainData, valData, trainLab, valLab = crval.train_test_split(shufflX, shuffly, test_size=0.2)\n",
    "#print(shape(otherData))\n",
    "print('Done. Here the sizes: ')\n",
    "print('Train: '+str(shape(trainData)))\n",
    "print('Val: '+str(shape(valData)))\n",
    "\n"
   ]
  },
  {
   "cell_type": "code",
   "execution_count": 20,
   "metadata": {
    "collapsed": false
   },
   "outputs": [
    {
     "name": "stdout",
     "output_type": "stream",
     "text": [
      "Time to grid-search!\n",
      "Range C: [2^-5,2^11]\n",
      "Range gamma: [2^-15, 2^3]\n",
      "Accuracy for c= 2^-5 gamma= 2^-15:   47.8371501272%\n",
      "Accuracy for c= 2^-3 gamma= 2^-15:   47.8371501272%\n",
      "Accuracy for c= 2^-1 gamma= 2^-15:   47.8371501272%\n",
      "Accuracy for c= 2^1 gamma= 2^-15:   54.1984732824%\n",
      "Accuracy for c= 2^3 gamma= 2^-15:   54.9618320611%\n",
      "Accuracy for c= 2^5 gamma= 2^-15:   55.9796437659%\n",
      "Accuracy for c= 2^7 gamma= 2^-15:   56.2340966921%\n",
      "Accuracy for c= 2^9 gamma= 2^-15:   57.5063613232%\n",
      "Accuracy for c= 2^11 gamma= 2^-15:   62.8498727735%\n",
      "Accuracy for c= 2^-5 gamma= 2^-13:   47.8371501272%\n",
      "Accuracy for c= 2^-3 gamma= 2^-13:   47.8371501272%\n",
      "Accuracy for c= 2^-1 gamma= 2^-13:   54.1984732824%\n",
      "Accuracy for c= 2^1 gamma= 2^-13:   54.1984732824%\n",
      "Accuracy for c= 2^3 gamma= 2^-13:   55.9796437659%\n",
      "Accuracy for c= 2^5 gamma= 2^-13:   59.0330788804%\n",
      "Accuracy for c= 2^7 gamma= 2^-13:   63.6132315522%\n",
      "Accuracy for c= 2^9 gamma= 2^-13:   65.1399491094%\n",
      "Accuracy for c= 2^11 gamma= 2^-13:   67.4300254453%\n",
      "Accuracy for c= 2^-5 gamma= 2^-11:   47.8371501272%\n",
      "Accuracy for c= 2^-3 gamma= 2^-11:   54.4529262087%\n"
     ]
    },
    {
     "ename": "KeyboardInterrupt",
     "evalue": "",
     "output_type": "error",
     "traceback": [
      "\u001b[0;31m---------------------------------------------------------------------------\u001b[0m",
      "\u001b[0;31mKeyboardInterrupt\u001b[0m                         Traceback (most recent call last)",
      "\u001b[0;32m<ipython-input-20-d70390f37b85>\u001b[0m in \u001b[0;36m<module>\u001b[0;34m()\u001b[0m\n\u001b[1;32m     23\u001b[0m         \u001b[0mc\u001b[0m\u001b[0;34m=\u001b[0m\u001b[0mpow\u001b[0m\u001b[0;34m(\u001b[0m\u001b[0;36m2\u001b[0m\u001b[0;34m,\u001b[0m\u001b[0me\u001b[0m\u001b[0;34m)\u001b[0m\u001b[0;34m\u001b[0m\u001b[0m\n\u001b[1;32m     24\u001b[0m         \u001b[0mcls\u001b[0m \u001b[0;34m=\u001b[0m \u001b[0mSVC\u001b[0m\u001b[0;34m(\u001b[0m\u001b[0mC\u001b[0m\u001b[0;34m=\u001b[0m\u001b[0mc\u001b[0m\u001b[0;34m,\u001b[0m \u001b[0mkernel\u001b[0m\u001b[0;34m=\u001b[0m\u001b[0;34m'rbf'\u001b[0m\u001b[0;34m,\u001b[0m \u001b[0mgamma\u001b[0m\u001b[0;34m=\u001b[0m\u001b[0mg\u001b[0m\u001b[0;34m)\u001b[0m\u001b[0;34m\u001b[0m\u001b[0m\n\u001b[0;32m---> 25\u001b[0;31m         \u001b[0mcls\u001b[0m\u001b[0;34m.\u001b[0m\u001b[0mfit\u001b[0m\u001b[0;34m(\u001b[0m\u001b[0mtrainData\u001b[0m\u001b[0;34m,\u001b[0m \u001b[0mtrainLab\u001b[0m\u001b[0;34m)\u001b[0m\u001b[0;34m\u001b[0m\u001b[0m\n\u001b[0m\u001b[1;32m     26\u001b[0m         \u001b[0maccuracy\u001b[0m \u001b[0;34m=\u001b[0m \u001b[0mcls\u001b[0m\u001b[0;34m.\u001b[0m\u001b[0mscore\u001b[0m\u001b[0;34m(\u001b[0m\u001b[0mvalData\u001b[0m\u001b[0;34m,\u001b[0m \u001b[0mvalLab\u001b[0m\u001b[0;34m)\u001b[0m\u001b[0;34m\u001b[0m\u001b[0m\n\u001b[1;32m     27\u001b[0m         \u001b[0;31m#accuracy_kfold = cross_val_score(cls, valData, valLab, cv=5)\u001b[0m\u001b[0;34m\u001b[0m\u001b[0;34m\u001b[0m\u001b[0m\n",
      "\u001b[0;32m/Users/mara/anaconda2/lib/python2.7/site-packages/sklearn/svm/base.pyc\u001b[0m in \u001b[0;36mfit\u001b[0;34m(self, X, y, sample_weight)\u001b[0m\n\u001b[1;32m    191\u001b[0m \u001b[0;34m\u001b[0m\u001b[0m\n\u001b[1;32m    192\u001b[0m         \u001b[0mseed\u001b[0m \u001b[0;34m=\u001b[0m \u001b[0mrnd\u001b[0m\u001b[0;34m.\u001b[0m\u001b[0mrandint\u001b[0m\u001b[0;34m(\u001b[0m\u001b[0mnp\u001b[0m\u001b[0;34m.\u001b[0m\u001b[0miinfo\u001b[0m\u001b[0;34m(\u001b[0m\u001b[0;34m'i'\u001b[0m\u001b[0;34m)\u001b[0m\u001b[0;34m.\u001b[0m\u001b[0mmax\u001b[0m\u001b[0;34m)\u001b[0m\u001b[0;34m\u001b[0m\u001b[0m\n\u001b[0;32m--> 193\u001b[0;31m         \u001b[0mfit\u001b[0m\u001b[0;34m(\u001b[0m\u001b[0mX\u001b[0m\u001b[0;34m,\u001b[0m \u001b[0my\u001b[0m\u001b[0;34m,\u001b[0m \u001b[0msample_weight\u001b[0m\u001b[0;34m,\u001b[0m \u001b[0msolver_type\u001b[0m\u001b[0;34m,\u001b[0m \u001b[0mkernel\u001b[0m\u001b[0;34m,\u001b[0m \u001b[0mrandom_seed\u001b[0m\u001b[0;34m=\u001b[0m\u001b[0mseed\u001b[0m\u001b[0;34m)\u001b[0m\u001b[0;34m\u001b[0m\u001b[0m\n\u001b[0m\u001b[1;32m    194\u001b[0m         \u001b[0;31m# see comment on the other call to np.iinfo in this file\u001b[0m\u001b[0;34m\u001b[0m\u001b[0;34m\u001b[0m\u001b[0m\n\u001b[1;32m    195\u001b[0m \u001b[0;34m\u001b[0m\u001b[0m\n",
      "\u001b[0;32m/Users/mara/anaconda2/lib/python2.7/site-packages/sklearn/svm/base.pyc\u001b[0m in \u001b[0;36m_dense_fit\u001b[0;34m(self, X, y, sample_weight, solver_type, kernel, random_seed)\u001b[0m\n\u001b[1;32m    249\u001b[0m                 \u001b[0mcache_size\u001b[0m\u001b[0;34m=\u001b[0m\u001b[0mself\u001b[0m\u001b[0;34m.\u001b[0m\u001b[0mcache_size\u001b[0m\u001b[0;34m,\u001b[0m \u001b[0mcoef0\u001b[0m\u001b[0;34m=\u001b[0m\u001b[0mself\u001b[0m\u001b[0;34m.\u001b[0m\u001b[0mcoef0\u001b[0m\u001b[0;34m,\u001b[0m\u001b[0;34m\u001b[0m\u001b[0m\n\u001b[1;32m    250\u001b[0m                 \u001b[0mgamma\u001b[0m\u001b[0;34m=\u001b[0m\u001b[0mself\u001b[0m\u001b[0;34m.\u001b[0m\u001b[0m_gamma\u001b[0m\u001b[0;34m,\u001b[0m \u001b[0mepsilon\u001b[0m\u001b[0;34m=\u001b[0m\u001b[0mself\u001b[0m\u001b[0;34m.\u001b[0m\u001b[0mepsilon\u001b[0m\u001b[0;34m,\u001b[0m\u001b[0;34m\u001b[0m\u001b[0m\n\u001b[0;32m--> 251\u001b[0;31m                 max_iter=self.max_iter, random_seed=random_seed)\n\u001b[0m\u001b[1;32m    252\u001b[0m \u001b[0;34m\u001b[0m\u001b[0m\n\u001b[1;32m    253\u001b[0m         \u001b[0mself\u001b[0m\u001b[0;34m.\u001b[0m\u001b[0m_warn_from_fit_status\u001b[0m\u001b[0;34m(\u001b[0m\u001b[0;34m)\u001b[0m\u001b[0;34m\u001b[0m\u001b[0m\n",
      "\u001b[0;31mKeyboardInterrupt\u001b[0m: "
     ]
    }
   ],
   "source": [
    "#trainData, valData, trainLab, valLab = crval.train_test_split(shufflX, shuffly, test_size=0.2)\n",
    "#alltrainData=trainData\n",
    "#alltrainLab=trainLab\n",
    "#print('Lets subsample the datasets, we do not have that much time')\n",
    "#trainData, rubbishData, trainLab, rubbishLab= crval.train_test_split(trainData, trainLab, test_size=0.9)\n",
    "#valData, rubbishData, valLab, rubbishLab= crval.train_test_split(valData, valLab, test_size=0.9)\n",
    "#print('Train: '+str(shape(trainData)))\n",
    "#print('Test: '+str(shape(testData)))\n",
    "#print('Val: '+str(shape(valData)))\n",
    "#countall(trainLab)\n",
    "\n",
    "print('Time to grid-search!')\n",
    "print('Range C: [2^-5,2^11]')\n",
    "print('Range gamma: [2^-15, 2^3]')\n",
    "\n",
    "accuracies=[]\n",
    "best_choice_c=-5\n",
    "best_choice_g=-15\n",
    "old_accuracy=0\n",
    "for ge in range(-15, 5, 2):\n",
    "    g = pow(2,ge)\n",
    "    for e in range(-5, 13, 2):\n",
    "        c=pow(2,e)\n",
    "        cls = SVC(C=c, kernel='rbf', gamma=g)\n",
    "        cls.fit(trainData, trainLab)\n",
    "        accuracy = cls.score(valData, valLab)\n",
    "        #accuracy_kfold = cross_val_score(cls, valData, valLab, cv=5)\n",
    "        #print accuracy_kfold\n",
    "        #accuracy = np.sum(accuracy_kfold)\n",
    "        #print np.sum(accuracy_kfold)\n",
    "        if old_accuracy < accuracy:\n",
    "            old_accuracy=accuracy\n",
    "            best_choice_c=e\n",
    "            best_choice_g=ge\n",
    "        accuracies.append(accuracy)\n",
    "        #plt.scatter(2**e,accuracy,color='c')\n",
    "        print('Accuracy for c= 2^'+ str(e) + ' gamma= 2^'+str(ge)+':   ' + str(accuracy*100) +'%')\n",
    "print('We will use c= 2^'+str(best_choice_c)+' and gamma= 2^'+str(best_choice_g)+'   '+str(old_accuracy))\n",
    "\n",
    "c=pow(2,best_choice_c)\n",
    "g=pow(2,best_choice_g)\n",
    "cls = SVC(C=c, kernel='rbf', gamma=g)\n",
    "cls.fit(alltrainData, alltrainLab)\n",
    "#accuracy = cls.score(testData, testLab)\n",
    "print('Getting back to the whole datasets: ')\n",
    "print('Training with the c and gamma best performing values found')\n",
    "#print ('Accuracy: '+str(accuracy*100)+'%')\n",
    "#LOAD TEST SET, Compute predictions, save them on a csv"
   ]
  },
  {
   "cell_type": "code",
   "execution_count": 11,
   "metadata": {
    "collapsed": false
   },
   "outputs": [
    {
     "name": "stdout",
     "output_type": "stream",
     "text": [
      "Time to grid-search!\n",
      "Range C: [2^-5,2^11]\n",
      "Range gamma: [2^-15, 2^3]\n"
     ]
    },
    {
     "ename": "NameError",
     "evalue": "name 'trainData' is not defined",
     "output_type": "error",
     "traceback": [
      "\u001b[0;31m---------------------------------------------------------------------------\u001b[0m",
      "\u001b[0;31mNameError\u001b[0m                                 Traceback (most recent call last)",
      "\u001b[0;32m<ipython-input-11-00aa12b3516a>\u001b[0m in \u001b[0;36m<module>\u001b[0;34m()\u001b[0m\n\u001b[1;32m     20\u001b[0m         \u001b[0mc\u001b[0m\u001b[0;34m=\u001b[0m\u001b[0mpow\u001b[0m\u001b[0;34m(\u001b[0m\u001b[0;36m2\u001b[0m\u001b[0;34m,\u001b[0m\u001b[0me\u001b[0m\u001b[0;34m)\u001b[0m\u001b[0;34m\u001b[0m\u001b[0m\n\u001b[1;32m     21\u001b[0m         \u001b[0mcls\u001b[0m \u001b[0;34m=\u001b[0m \u001b[0mSVC\u001b[0m\u001b[0;34m(\u001b[0m\u001b[0mC\u001b[0m\u001b[0;34m=\u001b[0m\u001b[0mc\u001b[0m\u001b[0;34m,\u001b[0m \u001b[0mkernel\u001b[0m\u001b[0;34m=\u001b[0m\u001b[0;34m'poly'\u001b[0m\u001b[0;34m,\u001b[0m \u001b[0mdegree\u001b[0m\u001b[0;34m=\u001b[0m\u001b[0mge\u001b[0m\u001b[0;34m)\u001b[0m\u001b[0;34m\u001b[0m\u001b[0m\n\u001b[0;32m---> 22\u001b[0;31m         \u001b[0mcls\u001b[0m\u001b[0;34m.\u001b[0m\u001b[0mfit\u001b[0m\u001b[0;34m(\u001b[0m\u001b[0mtrainData\u001b[0m\u001b[0;34m,\u001b[0m \u001b[0mtrainLab\u001b[0m\u001b[0;34m)\u001b[0m\u001b[0;34m\u001b[0m\u001b[0m\n\u001b[0m\u001b[1;32m     23\u001b[0m         \u001b[0maccuracy\u001b[0m \u001b[0;34m=\u001b[0m \u001b[0mcls\u001b[0m\u001b[0;34m.\u001b[0m\u001b[0mscore\u001b[0m\u001b[0;34m(\u001b[0m\u001b[0mvalData\u001b[0m\u001b[0;34m,\u001b[0m \u001b[0mvalLab\u001b[0m\u001b[0;34m)\u001b[0m\u001b[0;34m\u001b[0m\u001b[0m\n\u001b[1;32m     24\u001b[0m         \u001b[0;31m#accuracy_kfold = cross_val_score(cls, valData, valLab, cv=5)\u001b[0m\u001b[0;34m\u001b[0m\u001b[0;34m\u001b[0m\u001b[0m\n",
      "\u001b[0;31mNameError\u001b[0m: name 'trainData' is not defined"
     ]
    }
   ],
   "source": [
    "#from sklearn.metrics import fbeta_score, make_scorer\n",
    "#ftwo_scorer = make_scorer(fbeta_score, beta=2)\n",
    "#from sklearn.cross_validation import *\n",
    "#scores = cross_val_score(cls, alltrainData, alltrainLab, cv=5)\n",
    "#print scores\n",
    "\n",
    "print('Time to grid-search!')\n",
    "print('Range C: [2^-5,2^11]')\n",
    "print('Range gamma: [2^-15, 2^3]')\n",
    "\n",
    "accuracies=[]\n",
    "best_choice_c=-5\n",
    "best_choice_g=-15\n",
    "old_accuracy=0\n",
    "order=2\n",
    "for ge in range(2, 6, 1):\n",
    "    g = pow(2,ge)\n",
    "    ge=order\n",
    "    for e in range(-1, 5, 1):\n",
    "        c=pow(2,e)\n",
    "        cls = SVC(C=c, kernel='poly', degree=ge)\n",
    "        cls.fit(trainData, trainLab)\n",
    "        accuracy = cls.score(valData, valLab)\n",
    "        #accuracy_kfold = cross_val_score(cls, valData, valLab, cv=5)\n",
    "        #print accuracy_kfold\n",
    "        #accuracy = np.sum(accuracy_kfold)\n",
    "        #print np.sum(accuracy_kfold)\n",
    "        if old_accuracy < accuracy:\n",
    "            old_accuracy=accuracy\n",
    "            best_choice_c=e\n",
    "            best_choice_g=ge\n",
    "        accuracies.append(accuracy)\n",
    "        #plt.scatter(2**e,accuracy,color='c')\n",
    "        print('Accuracy for c= 2^'+ str(e) + ' gamma= 2^'+str(ge)+':   ' + str(accuracy*100) +'%')\n",
    "print('We will use c= 2^'+str(best_choice_c)+' and gamma= 2^'+str(best_choice_g)+'   '+str(old_accuracy))\n",
    "\n",
    "c=pow(2,best_choice_c)\n",
    "g=pow(2,best_choice_g)\n",
    "cls = SVC(C=c, kernel='rbf', gamma=g)\n",
    "cls.fit(alltrainData, alltrainLab)\n",
    "#accuracy = cls.score(testData, testLab)\n",
    "print('Getting back to the whole datasets: ')\n",
    "print('Training with the c and gamma best performing values found')\n",
    "#print ('Accuracy: '+str(accuracy*100)+'%')\n",
    "#LOAD TEST SET, Compute predictions, save them on a csv\n",
    "\n",
    "\n",
    "\n",
    "\n"
   ]
  },
  {
   "cell_type": "code",
   "execution_count": 5,
   "metadata": {
    "collapsed": false
   },
   "outputs": [
    {
     "ename": "NameError",
     "evalue": "name 'trainData' is not defined",
     "output_type": "error",
     "traceback": [
      "\u001b[0;31m---------------------------------------------------------------------------\u001b[0m",
      "\u001b[0;31mNameError\u001b[0m                                 Traceback (most recent call last)",
      "\u001b[0;32m<ipython-input-5-ef47f3d7b76d>\u001b[0m in \u001b[0;36m<module>\u001b[0;34m()\u001b[0m\n\u001b[1;32m      2\u001b[0m \u001b[0mg\u001b[0m\u001b[0;34m=\u001b[0m\u001b[0mpow\u001b[0m\u001b[0;34m(\u001b[0m\u001b[0;36m2\u001b[0m\u001b[0;34m,\u001b[0m\u001b[0;34m-\u001b[0m\u001b[0;36m7\u001b[0m\u001b[0;34m)\u001b[0m\u001b[0;34m\u001b[0m\u001b[0m\n\u001b[1;32m      3\u001b[0m \u001b[0mcls\u001b[0m \u001b[0;34m=\u001b[0m \u001b[0mSVC\u001b[0m\u001b[0;34m(\u001b[0m\u001b[0mC\u001b[0m\u001b[0;34m=\u001b[0m\u001b[0mC\u001b[0m\u001b[0;34m,\u001b[0m \u001b[0mkernel\u001b[0m\u001b[0;34m=\u001b[0m\u001b[0;34m'rbf'\u001b[0m\u001b[0;34m,\u001b[0m \u001b[0mgamma\u001b[0m\u001b[0;34m=\u001b[0m\u001b[0mg\u001b[0m\u001b[0;34m)\u001b[0m\u001b[0;34m\u001b[0m\u001b[0m\n\u001b[0;32m----> 4\u001b[0;31m \u001b[0mcls\u001b[0m\u001b[0;34m.\u001b[0m\u001b[0mfit\u001b[0m\u001b[0;34m(\u001b[0m\u001b[0mtrainData\u001b[0m\u001b[0;34m,\u001b[0m \u001b[0mtrainLab\u001b[0m\u001b[0;34m)\u001b[0m\u001b[0;34m\u001b[0m\u001b[0m\n\u001b[0m\u001b[1;32m      5\u001b[0m \u001b[0maccuracy\u001b[0m \u001b[0;34m=\u001b[0m \u001b[0mcls\u001b[0m\u001b[0;34m.\u001b[0m\u001b[0mpredict\u001b[0m\u001b[0;34m(\u001b[0m\u001b[0mX_test\u001b[0m\u001b[0;34m)\u001b[0m\u001b[0;34m\u001b[0m\u001b[0m\n",
      "\u001b[0;31mNameError\u001b[0m: name 'trainData' is not defined"
     ]
    }
   ],
   "source": [
    "C=pow(2,1)\n",
    "g=pow(2,-7)\n",
    "cls = SVC(C=C, kernel='rbf', gamma=g)\n",
    "cls.fit(trainData, trainLab)\n",
    "accuracy = cls.predict(X_test)\n"
   ]
  },
  {
   "cell_type": "code",
   "execution_count": 6,
   "metadata": {
    "collapsed": false
   },
   "outputs": [
    {
     "ename": "NameError",
     "evalue": "name 'accuracy' is not defined",
     "output_type": "error",
     "traceback": [
      "\u001b[0;31m---------------------------------------------------------------------------\u001b[0m",
      "\u001b[0;31mNameError\u001b[0m                                 Traceback (most recent call last)",
      "\u001b[0;32m<ipython-input-6-08a769e8b9eb>\u001b[0m in \u001b[0;36m<module>\u001b[0;34m()\u001b[0m\n\u001b[1;32m      2\u001b[0m \u001b[0mfp\u001b[0m\u001b[0;34m.\u001b[0m\u001b[0mwrite\u001b[0m\u001b[0;34m(\u001b[0m\u001b[0;34m'Point_ID,Output\\n'\u001b[0m\u001b[0;34m)\u001b[0m\u001b[0;34m\u001b[0m\u001b[0m\n\u001b[1;32m      3\u001b[0m \u001b[0mi\u001b[0m\u001b[0;34m=\u001b[0m\u001b[0;36m1\u001b[0m\u001b[0;34m\u001b[0m\u001b[0m\n\u001b[0;32m----> 4\u001b[0;31m \u001b[0;32mfor\u001b[0m \u001b[0ma\u001b[0m \u001b[0;32min\u001b[0m \u001b[0maccuracy\u001b[0m\u001b[0;34m:\u001b[0m\u001b[0;34m\u001b[0m\u001b[0m\n\u001b[0m\u001b[1;32m      5\u001b[0m     \u001b[0mfp\u001b[0m\u001b[0;34m.\u001b[0m\u001b[0mwrite\u001b[0m\u001b[0;34m(\u001b[0m\u001b[0mstr\u001b[0m\u001b[0;34m(\u001b[0m\u001b[0mi\u001b[0m\u001b[0;34m)\u001b[0m\u001b[0;34m+\u001b[0m\u001b[0;34m','\u001b[0m\u001b[0;34m+\u001b[0m\u001b[0ma\u001b[0m\u001b[0;34m+\u001b[0m\u001b[0;34m'\\n'\u001b[0m\u001b[0;34m)\u001b[0m\u001b[0;34m\u001b[0m\u001b[0m\n\u001b[1;32m      6\u001b[0m     \u001b[0mi\u001b[0m\u001b[0;34m+=\u001b[0m\u001b[0;36m1\u001b[0m\u001b[0;34m\u001b[0m\u001b[0m\n",
      "\u001b[0;31mNameError\u001b[0m: name 'accuracy' is not defined"
     ]
    }
   ],
   "source": [
    "fp=open('answers.txt','w')\n",
    "fp.write('Point_ID,Output\\n')\n",
    "i=1\n",
    "for a in accuracy:\n",
    "    fp.write(str(i)+','+a+'\\n')\n",
    "    i+=1\n",
    "fp.close()"
   ]
  },
  {
   "cell_type": "code",
   "execution_count": 13,
   "metadata": {
    "collapsed": false
   },
   "outputs": [
    {
     "name": "stdout",
     "output_type": "stream",
     "text": [
      "Range C: [2^5,2^11]\n"
     ]
    },
    {
     "ename": "NameError",
     "evalue": "name 'trainData' is not defined",
     "output_type": "error",
     "traceback": [
      "\u001b[0;31m---------------------------------------------------------------------------\u001b[0m",
      "\u001b[0;31mNameError\u001b[0m                                 Traceback (most recent call last)",
      "\u001b[0;32m<ipython-input-13-25940eead128>\u001b[0m in \u001b[0;36m<module>\u001b[0;34m()\u001b[0m\n\u001b[1;32m      6\u001b[0m     \u001b[0;31m#print(old_accuracy)\u001b[0m\u001b[0;34m\u001b[0m\u001b[0;34m\u001b[0m\u001b[0m\n\u001b[1;32m      7\u001b[0m     \u001b[0mcls\u001b[0m \u001b[0;34m=\u001b[0m \u001b[0mLinearSVC\u001b[0m\u001b[0;34m(\u001b[0m\u001b[0mC\u001b[0m\u001b[0;34m=\u001b[0m\u001b[0mc\u001b[0m\u001b[0;34m)\u001b[0m\u001b[0;34m\u001b[0m\u001b[0m\n\u001b[0;32m----> 8\u001b[0;31m     \u001b[0mcls\u001b[0m\u001b[0;34m.\u001b[0m\u001b[0mfit\u001b[0m\u001b[0;34m(\u001b[0m\u001b[0mtrainData\u001b[0m\u001b[0;34m,\u001b[0m \u001b[0mtrainLab\u001b[0m\u001b[0;34m)\u001b[0m\u001b[0;34m\u001b[0m\u001b[0m\n\u001b[0m\u001b[1;32m      9\u001b[0m     \u001b[0maccuracy\u001b[0m \u001b[0;34m=\u001b[0m \u001b[0mcls\u001b[0m\u001b[0;34m.\u001b[0m\u001b[0mscore\u001b[0m\u001b[0;34m(\u001b[0m\u001b[0mvalData\u001b[0m\u001b[0;34m,\u001b[0m \u001b[0mvalLab\u001b[0m\u001b[0;34m)\u001b[0m\u001b[0;34m\u001b[0m\u001b[0m\n\u001b[1;32m     10\u001b[0m     \u001b[0;32mif\u001b[0m \u001b[0mold_accuracy\u001b[0m\u001b[0;34m<\u001b[0m\u001b[0maccuracy\u001b[0m\u001b[0;34m:\u001b[0m\u001b[0;34m\u001b[0m\u001b[0m\n",
      "\u001b[0;31mNameError\u001b[0m: name 'trainData' is not defined"
     ]
    }
   ],
   "source": [
    "print('Range C: [2^5,2^11]')\n",
    "best_choice=-5\n",
    "old_accuracy = 0\n",
    "for e in range(5, 11, 2):\n",
    "    c=pow(2,e)\n",
    "    #print(old_accuracy)\n",
    "    cls = LinearSVC(C=c)\n",
    "    cls.fit(trainData, trainLab)\n",
    "    accuracy = cls.score(valData, valLab)\n",
    "    if old_accuracy<accuracy:\n",
    "        old_accuracy=accuracy\n",
    "        best_choice=e\n",
    "    print('Accuracy for c= 2^'+ str(e) + ' :   ' + str(accuracy*100) +'%')\n",
    "print('Best choice, at this moment: 2^' +str(best_choice))\n",
    "print('It seems that c= 2^'+str(best_choice)+' works best, maybe we can try shifting the interval a little bit..' )\n",
    "left=best_choice-5\n",
    "right=best_choice+5\n",
    "print('Range C: [2^'+str(left)+',2^'+str(right)+']')\n",
    "i=0\n",
    "accuracies=[0, 0, 0, 0, 0, 0, 0, 0, 0]\n",
    "x = np.linspace(-15, 3, num=9, endpoint=True)\n",
    "#print(shape(x))\n",
    "#print(shape(accuracies))\n",
    "for e in range(best_choice-5, best_choice+5, 2):\n",
    "    c=pow(2,e)\n",
    "    #print(c)\n",
    "    cls = LinearSVC(C=c)\n",
    "    cls.fit(trainData, trainLab)\n",
    "    accuracy = cls.score(valData, valLab)\n",
    "    #accuracy_kfold = cross_val_score(cls, valData, valLab, cv=5)\n",
    "    print accuracy_kfold\n",
    "    #print np.norm(accuracy_kfold)\n",
    "    if old_accuracy < accuracy:\n",
    "        old_accuracy=accuracy\n",
    "        best_choice=e\n",
    "    accuracies[i]=accuracy\n",
    "    i+=1\n",
    "    #plt.scatter(2**e,accuracy,color='c')\n",
    "    print('Accuracy for c= 2^'+ str(e) + ' :   ' + str(accuracy*100) +'%')\n",
    "print('Yes! Our intuition was good. We will use c= 2^'+str(best_choice))\n",
    "\n",
    "#xnew = np.linspace(best_choice-5, best_choice-5, num=9, endpoint=True)\n",
    "#f=interp1d(x,accuracies)\n",
    "#plt.plot(xnew, f(xnew), '-')\n",
    "#plt.grid(True)\n",
    "#plt.show()\n",
    "\n",
    "#c=pow(2,best_choice)\n",
    "#cls = LinearSVC(C=c)\n",
    "#cls.fit(trainData, trainLab)\n",
    "#accuracy = cls.score(testData, testLab)\n",
    "#print('Testing now the SVM with c= 2^'+str(best_choice)+' on testingDataset')\n",
    "#print('Accuracy: '+ str(accuracy*100) +'%')"
   ]
  },
  {
   "cell_type": "code",
   "execution_count": 24,
   "metadata": {
    "collapsed": false
   },
   "outputs": [
    {
     "ename": "NameError",
     "evalue": "name 'gpc' is not defined",
     "output_type": "error",
     "traceback": [
      "\u001b[0;31m---------------------------------------------------------------------------\u001b[0m",
      "\u001b[0;31mNameError\u001b[0m                                 Traceback (most recent call last)",
      "\u001b[0;32m<ipython-input-24-93ee41d1cad6>\u001b[0m in \u001b[0;36m<module>\u001b[0;34m()\u001b[0m\n\u001b[0;32m----> 1\u001b[0;31m \u001b[0mGPclassifier\u001b[0m\u001b[0;34m=\u001b[0m\u001b[0mgpc\u001b[0m\u001b[0;34m.\u001b[0m\u001b[0mGaussianProcessClassifier\u001b[0m\u001b[0;34m(\u001b[0m\u001b[0;36m1.0\u001b[0m \u001b[0;34m*\u001b[0m \u001b[0mRBF\u001b[0m\u001b[0;34m(\u001b[0m\u001b[0;36m1.0\u001b[0m\u001b[0;34m)\u001b[0m\u001b[0;34m,\u001b[0m \u001b[0mwarm_start\u001b[0m\u001b[0;34m=\u001b[0m\u001b[0mTrue\u001b[0m\u001b[0;34m)\u001b[0m\u001b[0;34m\u001b[0m\u001b[0m\n\u001b[0m\u001b[1;32m      2\u001b[0m \u001b[0mGPclassier\u001b[0m\u001b[0;34m.\u001b[0m\u001b[0mfit\u001b[0m\u001b[0;34m(\u001b[0m\u001b[0mtrainData\u001b[0m\u001b[0;34m,\u001b[0m \u001b[0mtrainLab\u001b[0m\u001b[0;34m)\u001b[0m\u001b[0;34m\u001b[0m\u001b[0m\n\u001b[1;32m      3\u001b[0m \u001b[0maccuracy\u001b[0m \u001b[0;34m=\u001b[0m \u001b[0mGPclassifier\u001b[0m\u001b[0;34m.\u001b[0m\u001b[0mscore\u001b[0m\u001b[0;34m(\u001b[0m\u001b[0mvalData\u001b[0m\u001b[0;34m,\u001b[0m \u001b[0mvalLab\u001b[0m\u001b[0;34m)\u001b[0m\u001b[0;34m\u001b[0m\u001b[0m\n",
      "\u001b[0;31mNameError\u001b[0m: name 'gpc' is not defined"
     ]
    }
   ],
   "source": [
    "GPclassifier= GaussianProcessClassifier(1.0 * RBF(1.0), warm_start=True)\n",
    "GPclassier.fit(trainData, trainLab)\n",
    "accuracy = GPclassifier.score(valData, valLab)"
   ]
  },
  {
   "cell_type": "code",
   "execution_count": 29,
   "metadata": {
    "collapsed": false
   },
   "outputs": [
    {
     "name": "stdout",
     "output_type": "stream",
     "text": [
      "0.613231552163\n"
     ]
    }
   ],
   "source": [
    "#DECISION TREES\n",
    "\n",
    "clf = tree.DecisionTreeClassifier()\n",
    "clf = clf.fit(trainData, trainLab)\n",
    "accuracy = clf.score(valData, valLab)\n",
    "print accuracy"
   ]
  },
  {
   "cell_type": "code",
   "execution_count": 31,
   "metadata": {
    "collapsed": false
   },
   "outputs": [
    {
     "name": "stdout",
     "output_type": "stream",
     "text": [
      "0.648854961832\n"
     ]
    }
   ],
   "source": [
    "#GRADIENT BOOSTING TREES\n",
    "\n",
    "clf = GradientBoostingClassifier()\n",
    "clf = clf.fit(trainData, trainLab)\n",
    "accuracy = clf.score(valData, valLab)\n",
    "print accuracy"
   ]
  },
  {
   "cell_type": "code",
   "execution_count": 54,
   "metadata": {
    "collapsed": false
   },
   "outputs": [],
   "source": [
    "#RADIUS NEAREST NEIGHBORS \n",
    "n_neighbors=14\n",
    "weights='distance' #otherwise 'uniform'\n",
    "clf = neighbors.KNeighborsClassifier(n_neighbors, weights=weights)\n",
    "clf.fit(trainData, trainLab)\n",
    "accuracy = clf.predict(X_test)\n",
    "#print accuracy\n",
    "#accuracy valSet 77.86 -- bingo!\n"
   ]
  },
  {
   "cell_type": "code",
   "execution_count": 55,
   "metadata": {
    "collapsed": true
   },
   "outputs": [],
   "source": [
    "fp=open('answers.txt','w')\n",
    "fp.write('Point_ID,Output\\n')\n",
    "i=1\n",
    "for a in accuracy:\n",
    "    fp.write(str(i)+','+a+'\\n')\n",
    "    i+=1\n",
    "fp.close()"
   ]
  },
  {
   "cell_type": "code",
   "execution_count": null,
   "metadata": {
    "collapsed": true
   },
   "outputs": [],
   "source": []
  }
 ],
 "metadata": {
  "kernelspec": {
   "display_name": "Python 2",
   "language": "python",
   "name": "python2"
  },
  "language_info": {
   "codemirror_mode": {
    "name": "ipython",
    "version": 2
   },
   "file_extension": ".py",
   "mimetype": "text/x-python",
   "name": "python",
   "nbconvert_exporter": "python",
   "pygments_lexer": "ipython2",
   "version": "2.7.11"
  }
 },
 "nbformat": 4,
 "nbformat_minor": 0
}
