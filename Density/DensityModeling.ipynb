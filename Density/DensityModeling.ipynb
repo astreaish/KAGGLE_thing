{
 "cells": [
  {
   "cell_type": "code",
   "execution_count": 6,
   "metadata": {
    "collapsed": false
   },
   "outputs": [
    {
     "name": "stdout",
     "output_type": "stream",
     "text": [
      "70000\n",
      "['0.11515' '1.5813' '0.62853' '-3.1255' '0.8644' '0.56255' '-4.7037'\n",
      " '0.76546' '-0.43798' '1' '0.80504' '0.97626' '0' '1']\n",
      "(5000, 14)\n",
      "it had mean: 0.189320838757 and std:2.26790120867\n",
      "NOW it has mean: 0.189320838757 and std: 2.26790120867\n",
      "done\n"
     ]
    }
   ],
   "source": [
    "from PIL import Image\n",
    "import numpy as np\n",
    "from numpy import *\n",
    "from sklearn import preprocessing as prep\n",
    "from mpl_toolkits.mplot3d import Axes3D\n",
    "from matplotlib.colors import ListedColormap\n",
    "from sklearn.decomposition import PCA\n",
    "import matplotlib.pyplot as plt\n",
    "import sklearn.cross_validation as crval\n",
    "from sklearn.naive_bayes import GaussianNB\n",
    "from sklearn.datasets import fetch_mldata\n",
    "from scipy.interpolate import interp1d\n",
    "from sklearn.svm import LinearSVC\n",
    "import pylab\n",
    "from sklearn.svm import SVC\n",
    "from sklearn.cluster import KMeans\n",
    "from matplotlib import pyplot\n",
    "from sklearn.mixture import GMM\n",
    "from sklearn.neighbors import KernelDensity\n",
    "import csv\n",
    "\n",
    "X=[]\n",
    "with open('X_tr.csv','r') as f:\n",
    "    reader = csv.reader(f)\n",
    "    for row1 in reader:\n",
    "        X.append(row1)\n",
    "print size(X)\n",
    "\n",
    "X=np.asarray(X)\n",
    "print X[0,:]\n",
    "\n",
    "X=X.astype(np.float)\n",
    "\n",
    "\n",
    "X=np.ravel(X)\n",
    "X= X.reshape(5000, 14)\n",
    "print(shape(X))\n",
    "\n",
    "selX=X\n",
    "\n",
    "selX_scaled=X\n",
    "#std_scal=prep.StandardScaler()\n",
    "#selX_scaled=std_scal.fit_transform(selX)\n",
    "print('it had mean: ' +str(mean(selX))+' and std:'+ str(std(selX)))\n",
    "print('NOW it has mean: '+str(mean(selX_scaled))+' and std: '+str(std(selX_scaled)))\n",
    "\n",
    "\n",
    "for clusters in range(3,3, 3):\n",
    "    clusterer=GMM(clusters, 'full')\n",
    "    clusterer.fit(selX_scaled)\n",
    "    cluster_labels= clusterer.score(X)\n",
    "\n",
    "\n",
    "    #pur= purity(cluster_labels, 5);\n",
    "    #print(pur)\n",
    "    #for p in cluster_labels:\n",
    "    old_mean=np.mean(cluster_labels)\n",
    "    print str(clusters)+str(np.mean(cluster_labels))\n",
    "    if np.mean(cluster_labels)<old_mean:\n",
    "        cluster_labels_towrite=cluster_labels\n",
    "    \n",
    "\n",
    "print('done')"
   ]
  },
  {
   "cell_type": "code",
   "execution_count": 7,
   "metadata": {
    "collapsed": false
   },
   "outputs": [
    {
     "ename": "NameError",
     "evalue": "name 'cluster_labels' is not defined",
     "output_type": "error",
     "traceback": [
      "\u001b[0;31m---------------------------------------------------------------------------\u001b[0m",
      "\u001b[0;31mNameError\u001b[0m                                 Traceback (most recent call last)",
      "\u001b[0;32m<ipython-input-7-6a1581587969>\u001b[0m in \u001b[0;36m<module>\u001b[0;34m()\u001b[0m\n\u001b[1;32m      2\u001b[0m \u001b[0mfp\u001b[0m\u001b[0;34m.\u001b[0m\u001b[0mwrite\u001b[0m\u001b[0;34m(\u001b[0m\u001b[0;34m'Point_ID,Output\\n'\u001b[0m\u001b[0;34m)\u001b[0m\u001b[0;34m\u001b[0m\u001b[0m\n\u001b[1;32m      3\u001b[0m \u001b[0mi\u001b[0m\u001b[0;34m=\u001b[0m\u001b[0;36m1\u001b[0m\u001b[0;34m\u001b[0m\u001b[0m\n\u001b[0;32m----> 4\u001b[0;31m \u001b[0;32mfor\u001b[0m \u001b[0ma\u001b[0m \u001b[0;32min\u001b[0m \u001b[0mcluster_labels\u001b[0m\u001b[0;34m:\u001b[0m\u001b[0;34m\u001b[0m\u001b[0m\n\u001b[0m\u001b[1;32m      5\u001b[0m     \u001b[0mfp\u001b[0m\u001b[0;34m.\u001b[0m\u001b[0mwrite\u001b[0m\u001b[0;34m(\u001b[0m\u001b[0mstr\u001b[0m\u001b[0;34m(\u001b[0m\u001b[0mi\u001b[0m\u001b[0;34m)\u001b[0m\u001b[0;34m+\u001b[0m\u001b[0;34m','\u001b[0m\u001b[0;34m+\u001b[0m\u001b[0mstr\u001b[0m\u001b[0;34m(\u001b[0m\u001b[0ma\u001b[0m\u001b[0;34m)\u001b[0m\u001b[0;34m+\u001b[0m\u001b[0;34m'\\n'\u001b[0m\u001b[0;34m)\u001b[0m\u001b[0;34m\u001b[0m\u001b[0m\n\u001b[1;32m      6\u001b[0m     \u001b[0mi\u001b[0m\u001b[0;34m+=\u001b[0m\u001b[0;36m1\u001b[0m\u001b[0;34m\u001b[0m\u001b[0m\n",
      "\u001b[0;31mNameError\u001b[0m: name 'cluster_labels' is not defined"
     ]
    }
   ],
   "source": [
    "fp=open('answers.txt','w')\n",
    "fp.write('Point_ID,Output\\n')\n",
    "i=1\n",
    "for a in cluster_labels:\n",
    "    fp.write(str(i)+','+str(a)+'\\n')\n",
    "    i+=1\n",
    "fp.close()"
   ]
  },
  {
   "cell_type": "code",
   "execution_count": 48,
   "metadata": {
    "collapsed": false
   },
   "outputs": [
    {
     "name": "stdout",
     "output_type": "stream",
     "text": [
      "1.69891949654\n"
     ]
    }
   ],
   "source": [
    "kde = KernelDensity(kernel='tophat', bandwidth=0.5).fit(X)\n",
    "log_dens = kde.score_samples(X)\n",
    "print log_dens[1]"
   ]
  },
  {
   "cell_type": "code",
   "execution_count": 49,
   "metadata": {
    "collapsed": false
   },
   "outputs": [
    {
     "name": "stdout",
     "output_type": "stream",
     "text": [
      "5.51829557148\n"
     ]
    }
   ],
   "source": [
    "print(str(exp(np.mean(log_dens))))"
   ]
  },
  {
   "cell_type": "code",
   "execution_count": 23,
   "metadata": {
    "collapsed": false
   },
   "outputs": [],
   "source": [
    "fp=open('answers.txt','w')\n",
    "fp.write('Point_ID,Output\\n')\n",
    "e=1\n",
    "for a in log_dens:\n",
    "    fp.write(str(e)+','+str(a)+'\\n')\n",
    "    e=e+1\n",
    "fp.close()"
   ]
  },
  {
   "cell_type": "code",
   "execution_count": 31,
   "metadata": {
    "collapsed": true
   },
   "outputs": [],
   "source": [
    "#\n",
    "# cluster=KMeans(5, 'random')\n",
    "# cluster.fit(selX)\n",
    "#\n",
    "#\n",
    "# reduced_data = PCA(n_components=2).fit_transform(selX_scaled)\n",
    "# kmeans = KMeans(3, 'random')\n",
    "# kmeans.fit(reduced_data)\n",
    "#\n",
    "# # Step size of the mesh. Decrease to increase the quality of the VQ.\n",
    "# h = .02     # point in the mesh [x_min, m_max]x[y_min, y_max].\n",
    "#\n",
    "# # Plot the decision boundary. For that, we will assign a color to each\n",
    "# x_min, x_max = reduced_data[:, 0].min() - 1, reduced_data[:, 0].max() + 1\n",
    "# y_min, y_max = reduced_data[:, 1].min() - 1, reduced_data[:, 1].max() + 1\n",
    "# xx, yy = np.meshgrid(np.arange(x_min, x_max, h), np.arange(y_min, y_max, h))\n",
    "#\n",
    "# # Obtain labels for each point in mesh. Use last trained model.\n",
    "# Z = kmeans.predict(np.c_[xx.ravel(), yy.ravel()])\n",
    "#\n",
    "# # Put the result into a color plot\n",
    "# Z = Z.reshape(xx.shape)\n",
    "# plt.figure(1)\n",
    "# plt.clf()\n",
    "# #plt.imshow(Z, interpolation='nearest',\n",
    "#  #          extent=(xx.min(), xx.max(), yy.min(), yy.max()),\n",
    "#   #         cmap=plt.cm.Pastel1,\n",
    "#    #        aspect='auto', origin='lower')\n",
    "# for i in range(0,1000,1):\n",
    "#     plt.scatter(reduced_data[i, 0], reduced_data[i, 1], color=getcol(i,sely),s=5) #put a function getcolor\n",
    "#\n",
    "# #plt.plot(reduced_data[:, 0], reduced_data[:, 1], 'k.', markersize=1)\n",
    "# # Plot the centroids as a white X\n",
    "# centroids = kmeans.cluster_centers_\n",
    "# plt.scatter(centroids[:, 0], centroids[:, 1],\n",
    "#             marker='o', s=70, linewidths=1,\n",
    "#             color='k', zorder=10)\n",
    "# plt.title('K-means centroids\\n'\n",
    "#           '3 clusters')\n",
    "# plt.xlim(x_min, x_max)\n",
    "# plt.ylim(y_min, y_max)\n",
    "# plt.xticks(())\n",
    "# plt.yticks(())\n",
    "# plt.show()\n",
    "\n",
    "#def purity(clus, classes):\n",
    "    # A = np.c_[(clusters,classes)]\n",
    "    # n_accurate = 0.\n",
    "    # for j in np.unique(A[:,0]):\n",
    "    #     z = A[A[:,0] == j, 1]\n",
    "    #     x = np.argmax(np.bincount(z))\n",
    "    #     n_accurate += len(z[z == x])\n",
    "    # return n_accurate / A.shape[0]\n",
    "    #return 0"
   ]
  }
 ],
 "metadata": {
  "kernelspec": {
   "display_name": "Python 2",
   "language": "python",
   "name": "python2"
  },
  "language_info": {
   "codemirror_mode": {
    "name": "ipython",
    "version": 2
   },
   "file_extension": ".py",
   "mimetype": "text/x-python",
   "name": "python",
   "nbconvert_exporter": "python",
   "pygments_lexer": "ipython2",
   "version": "2.7.11"
  }
 },
 "nbformat": 4,
 "nbformat_minor": 0
}
