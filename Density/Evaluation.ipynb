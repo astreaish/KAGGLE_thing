{
 "cells": [
  {
   "cell_type": "markdown",
   "metadata": {},
   "source": [
    "# Evaluation"
   ]
  },
  {
   "cell_type": "code",
   "execution_count": 2,
   "metadata": {
    "collapsed": false
   },
   "outputs": [
    {
     "name": "stderr",
     "output_type": "stream",
     "text": [
      "/Users/mara/anaconda2/lib/python2.7/site-packages/sklearn/cross_validation.py:44: DeprecationWarning: This module was deprecated in version 0.18 in favor of the model_selection module into which all the refactored classes and functions are moved. Also note that the interface of the new CV iterators are different from that of this module. This module will be removed in 0.20.\n",
      "  \"This module will be removed in 0.20.\", DeprecationWarning)\n"
     ]
    }
   ],
   "source": [
    "%matplotlib inline\n",
    "from PIL import Image\n",
    "import numpy as np\n",
    "from numpy import *\n",
    "from sklearn import preprocessing as prep\n",
    "from mpl_toolkits.mplot3d import Axes3D\n",
    "from matplotlib.colors import ListedColormap\n",
    "from sklearn.decomposition import PCA, FactorAnalysis\n",
    "import matplotlib.pyplot as plt\n",
    "import sklearn.cross_validation as crval\n",
    "from sklearn.naive_bayes import GaussianNB\n",
    "from sklearn.datasets import fetch_mldata\n",
    "from scipy.interpolate import interp1d\n",
    "from sklearn.svm import LinearSVC\n",
    "import pylab\n",
    "from sklearn.svm import SVC\n",
    "from sklearn.cluster import KMeans\n",
    "from matplotlib import pyplot\n",
    "from sklearn.mixture import GMM\n",
    "from sklearn.neighbors import KernelDensity\n",
    "from sklearn import datasets\n",
    "from sklearn import linear_model\n",
    "import matplotlib.pyplot as plt\n",
    "from sklearn import svm\n",
    "import csv\n",
    "from mpl_toolkits.mplot3d import Axes3D\n",
    "from scipy import stats\n",
    "import warnings\n",
    "warnings.filterwarnings(\"ignore\")\n",
    "\n"
   ]
  },
  {
   "cell_type": "code",
   "execution_count": 19,
   "metadata": {
    "collapsed": false
   },
   "outputs": [
    {
     "name": "stdout",
     "output_type": "stream",
     "text": [
      "Data dimensions: \n",
      "(5000,)\n",
      "2365.34284488\n"
     ]
    }
   ],
   "source": [
    "X=[]\n",
    "with open('answers/5answers.csv','r') as f:\n",
    "    reader = csv.reader(f)\n",
    "    for row1 in reader:\n",
    "        X.append(row1)\n",
    "#print size(X)\n",
    "\n",
    "X=np.asarray(X)\n",
    "X=X[1:len(X),1] # removing the first column since it contains indexes\n",
    "\n",
    "print 'Data dimensions: ' \n",
    "print X.shape\n",
    "\n",
    "X=X.astype(np.float)\n",
    "\n",
    "\n",
    "X= np.ravel(X)\n",
    "#X= X.reshape(5000, 14)\n",
    "#print(shape(X))\n",
    "\n",
    "# splitting .. \n",
    "#selX = X # (atm) we take all data --> no splitting \n",
    "\n",
    "# scaling\n",
    "#std_scal=prep.StandardScaler()\n",
    "#selX_scaled=std_scal.fit_transform(selX)\n",
    "#print('Original mean: ' +str(mean(selX))+' and std:'+ str(std(selX)))\n",
    "#print('After-cleaning mean: '+str(mean(selX_scaled))+' and std: '+str(std(selX_scaled)))\n",
    "\n",
    "\n",
    "#X=selX_scaled\n",
    "print sum(X)"
   ]
  },
  {
   "cell_type": "code",
   "execution_count": 15,
   "metadata": {
    "collapsed": false
   },
   "outputs": [
    {
     "name": "stdout",
     "output_type": "stream",
     "text": [
      "Data dimensions: \n",
      "(5000,)\n",
      "14903.8985349\n"
     ]
    }
   ],
   "source": [
    "X=[]\n",
    "with open('bayesiangmm_35components.csv','r') as f:\n",
    "    reader = csv.reader(f)\n",
    "    for row1 in reader:\n",
    "        X.append(row1)\n",
    "X=np.asarray(X)\n",
    "X=X[1:len(X),1] # removing the first column since it contains indexes\n",
    "\n",
    "print 'Data dimensions: ' \n",
    "print X.shape\n",
    "\n",
    "X=X.astype(np.float)\n",
    "\n",
    "X= np.ravel(X)\n",
    "print sum(X)"
   ]
  },
  {
   "cell_type": "code",
   "execution_count": 20,
   "metadata": {
    "collapsed": false
   },
   "outputs": [
    {
     "name": "stdout",
     "output_type": "stream",
     "text": [
      "Data dimensions: \n",
      "(5000,)\n",
      "-22547.1848837\n"
     ]
    }
   ],
   "source": [
    "X=[]\n",
    "with open('Variational-autoencoder-master/variational_autoencoder_3rd_attempt.csv','r') as f:\n",
    "    reader = csv.reader(f)\n",
    "    for row1 in reader:\n",
    "        X.append(row1)\n",
    "X=np.asarray(X)\n",
    "X=X[1:len(X),1] # removing the first column since it contains indexes\n",
    "\n",
    "print 'Data dimensions: ' \n",
    "print X.shape\n",
    "\n",
    "X=X.astype(np.float)\n",
    "\n",
    "X= np.ravel(X)\n",
    "print sum(X)"
   ]
  },
  {
   "cell_type": "code",
   "execution_count": null,
   "metadata": {
    "collapsed": true
   },
   "outputs": [],
   "source": []
  }
 ],
 "metadata": {
  "kernelspec": {
   "display_name": "Python 2",
   "language": "python",
   "name": "python2"
  },
  "language_info": {
   "codemirror_mode": {
    "name": "ipython",
    "version": 2
   },
   "file_extension": ".py",
   "mimetype": "text/x-python",
   "name": "python",
   "nbconvert_exporter": "python",
   "pygments_lexer": "ipython2",
   "version": "2.7.13"
  }
 },
 "nbformat": 4,
 "nbformat_minor": 0
}
