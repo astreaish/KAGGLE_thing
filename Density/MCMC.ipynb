{
 "cells": [
  {
   "cell_type": "code",
   "execution_count": 17,
   "metadata": {
    "collapsed": false
   },
   "outputs": [],
   "source": [
    "%matplotlib inline\n",
    "from PIL import Image\n",
    "import numpy as np\n",
    "from numpy import *\n",
    "from sklearn import preprocessing as prep\n",
    "from mpl_toolkits.mplot3d import Axes3D\n",
    "from matplotlib.colors import ListedColormap\n",
    "from sklearn.decomposition import PCA, FactorAnalysis\n",
    "import matplotlib.pyplot as plt\n",
    "import sklearn.cross_validation as crval\n",
    "from sklearn.naive_bayes import GaussianNB\n",
    "from sklearn.datasets import fetch_mldata\n",
    "from scipy.interpolate import interp1d\n",
    "from sklearn.svm import LinearSVC\n",
    "import pylab\n",
    "from sklearn.svm import SVC\n",
    "from sklearn.cluster import KMeans\n",
    "from matplotlib import pyplot\n",
    "from sklearn.mixture import GMM\n",
    "from sklearn.neighbors import KernelDensity\n",
    "from sklearn import datasets\n",
    "from sklearn import linear_model\n",
    "import matplotlib.pyplot as plt\n",
    "from sklearn import svm\n",
    "import csv\n",
    "from mpl_toolkits.mplot3d import Axes3D\n",
    "from scipy import stats\n",
    "import warnings\n",
    "warnings.filterwarnings(\"ignore\")\n",
    "\n"
   ]
  },
  {
   "cell_type": "code",
   "execution_count": 18,
   "metadata": {
    "collapsed": false
   },
   "outputs": [
    {
     "name": "stdout",
     "output_type": "stream",
     "text": [
      "Data dimensions: \n",
      "(5000, 14)\n",
      "Original mean: 0.189320842874 and std:2.26790054052\n",
      "After-cleaning mean: 4.3038588566e-17 and std: 1.0\n"
     ]
    }
   ],
   "source": [
    "X=[]\n",
    "with open('density_data.csv','r') as f:\n",
    "    reader = csv.reader(f)\n",
    "    for row1 in reader:\n",
    "        X.append(row1)\n",
    "#print size(X)\n",
    "\n",
    "X=np.asarray(X)\n",
    "X=X[:,1:15] # removing the first column since it contains indexes\n",
    "\n",
    "print 'Data dimensions: ' \n",
    "print X.shape\n",
    "\n",
    "X=X.astype(np.float)\n",
    "\n",
    "\n",
    "X= np.ravel(X)\n",
    "X= X.reshape(5000, 14)\n",
    "#print(shape(X))\n",
    "\n",
    "# splitting .. \n",
    "selX = X # (atm) we take all data --> no splitting \n",
    "\n",
    "# scaling\n",
    "std_scal=prep.StandardScaler()\n",
    "selX_scaled=std_scal.fit_transform(selX)\n",
    "print('Original mean: ' +str(mean(selX))+' and std:'+ str(std(selX)))\n",
    "print('After-cleaning mean: '+str(mean(selX_scaled))+' and std: '+str(std(selX_scaled)))\n",
    "\n",
    "\n",
    "X=selX_scaled"
   ]
  },
  {
   "cell_type": "code",
   "execution_count": 20,
   "metadata": {
    "collapsed": false
   },
   "outputs": [
    {
     "name": "stderr",
     "output_type": "stream",
     "text": [
      "100%|██████████| 5000/5000 [1:19:44<00:00,  1.22it/s]"
     ]
    },
    {
     "name": "stdout",
     "output_type": "stream",
     "text": [
      "<MultiTrace: 1 chains, 5000 iterations, 1 variables>\n"
     ]
    },
    {
     "name": "stderr",
     "output_type": "stream",
     "text": [
      "\n"
     ]
    }
   ],
   "source": [
    "import pymc3 as pm\n",
    "data=X\n",
    "with pm.Model():\n",
    "    mu = pm.Normal('mu', 0, 1)\n",
    "    sigma = 1.\n",
    "    returns = pm.Normal('returns', mu=mu, sd=sigma, observed=data)\n",
    "    \n",
    "    step = pm.Metropolis()\n",
    "    trace = pm.sample(5000, step)\n",
    "    \n",
    "#sns.distplot(trace[2000:]['mu'], label='PyMC3 sampler');\n",
    "#sns.distplot(posterior[500:], label='Hand-written sampler');\n",
    "#plt.legend();\n",
    "print trace"
   ]
  },
  {
   "cell_type": "code",
   "execution_count": 16,
   "metadata": {
    "collapsed": false
   },
   "outputs": [
    {
     "name": "stdout",
     "output_type": "stream",
     "text": [
      "[ 0.  0.  0.  0.  0.  0.  0.  0.  0.  0.]\n"
     ]
    }
   ],
   "source": [
    "print trace['mu']"
   ]
  },
  {
   "cell_type": "code",
   "execution_count": null,
   "metadata": {
    "collapsed": true
   },
   "outputs": [],
   "source": []
  }
 ],
 "metadata": {
  "kernelspec": {
   "display_name": "Python 2",
   "language": "python",
   "name": "python2"
  },
  "language_info": {
   "codemirror_mode": {
    "name": "ipython",
    "version": 2
   },
   "file_extension": ".py",
   "mimetype": "text/x-python",
   "name": "python",
   "nbconvert_exporter": "python",
   "pygments_lexer": "ipython2",
   "version": "2.7.13"
  }
 },
 "nbformat": 4,
 "nbformat_minor": 0
}
