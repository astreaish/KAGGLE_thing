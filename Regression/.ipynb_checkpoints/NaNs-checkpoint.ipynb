{
 "cells": [
  {
   "cell_type": "code",
   "execution_count": 111,
   "metadata": {
    "collapsed": false
   },
   "outputs": [],
   "source": [
    "import csv\n",
    "import numpy as np \n",
    "import pandas as pd \n",
    "import random\n",
    "import matplotlib.pyplot as plt\n",
    "# sklearn modules\n",
    "from sklearn import preprocessing\n",
    "from sklearn.model_selection import train_test_split\n",
    "from sklearn.model_selection import ShuffleSplit\n",
    "from sklearn.decomposition import PCA\n",
    "from sklearn.svm import SVR\n",
    "# Metric mean squared error, the lower the better\n",
    "from sklearn.metrics import mean_squared_error\n",
    "\n",
    "\n",
    "def read_csv(csv_file):\n",
    "    '''Returns numpy array and panda version of the file'''\n",
    "    csv_file = csv_file +\".csv\"\n",
    "    df = pd.DataFrame()\n",
    "    df = df.from_csv(csv_file, header=0, sep=',', index_col=0)\n",
    "#n=df.shape[0] # number of samples\n",
    "#d=df.shape[1] # number of features\n",
    "    array = np.asarray(df,dtype=\"float64\")\n",
    "    if np.shape(array)[1] == 1:\n",
    "        array = array.ravel()\n",
    "    return array, df\n",
    "\n",
    "tr_in, df_in = read_csv(\"reg_train_in\")\n",
    "tr_in = np.asarray(tr_in,dtype=\"float64\")\n",
    "tr_out, df_out = read_csv(\"reg_train_out\")\n",
    "tr_out = np.asarray(tr_out,dtype=\"float64\")\n",
    "te_in, df = read_csv(\"reg_test_in\") # Still have to deal with NaNs best\n",
    "\n",
    "# CLEAN DATA PLEASE\n",
    "tr_in_scaled = preprocessing.scale(tr_in)"
   ]
  },
  {
   "cell_type": "markdown",
   "metadata": {},
   "source": [
    "# About NaN in test-input set:"
   ]
  },
  {
   "cell_type": "code",
   "execution_count": 40,
   "metadata": {
    "collapsed": false
   },
   "outputs": [
    {
     "name": "stdout",
     "output_type": "stream",
     "text": [
      "the percentage of samples with missing features is: 0.222222222222\n"
     ]
    }
   ],
   "source": [
    "ind = np.where(np.isnan(te_in))[0]\n",
    "ind = list(set(ind))\n",
    "print \"the percentage of samples with missing features is: {}\" .format(float(len(ind))/np.shape(te_in)[0])"
   ]
  },
  {
   "cell_type": "code",
   "execution_count": 53,
   "metadata": {
    "collapsed": false
   },
   "outputs": [],
   "source": [
    "def generate_NaN(X_test, ratio):\n",
    "    N = np.floor(ratio*np.shape(X_test)[0])\n",
    "    index = np.random.randint(np.shape(X_test)[0], size=N)\n",
    "    X_test[index, 1:14] = np.nan\n",
    "    return X_test"
   ]
  },
  {
   "cell_type": "code",
   "execution_count": 56,
   "metadata": {
    "collapsed": false
   },
   "outputs": [],
   "source": [
    "def subset(X,N):\n",
    "    index = np.random.randint(np.shape(X)[0], size=N)\n",
    "    if len(np.shape(X)) == 1: \n",
    "        X_sub = X[index]\n",
    "    else:\n",
    "        X_sub = X[index,:]\n",
    "    return X_sub"
   ]
  },
  {
   "cell_type": "markdown",
   "metadata": {},
   "source": [
    "# Generate test-sets that also have missing entries"
   ]
  },
  {
   "cell_type": "code",
   "execution_count": 110,
   "metadata": {
    "collapsed": false
   },
   "outputs": [
    {
     "name": "stderr",
     "output_type": "stream",
     "text": [
      "/remote/mlsalt-2016/sp838/miniconda2/envs/Python/lib/python2.7/site-packages/ipykernel/__main__.py:3: VisibleDeprecationWarning: using a non-integer number instead of an integer will result in an error in the future\n",
      "  app.launch_new_instance()\n"
     ]
    }
   ],
   "source": [
    "ok = generate_NaN(subset(tr_in,10),0.2)"
   ]
  },
  {
   "cell_type": "markdown",
   "metadata": {},
   "source": [
    "# Replacing NaN with diff methods\n",
    "### Try with interpolation, 0s, KNNs"
   ]
  },
  {
   "cell_type": "code",
   "execution_count": 59,
   "metadata": {
    "collapsed": false
   },
   "outputs": [
    {
     "name": "stderr",
     "output_type": "stream",
     "text": [
      "/remote/mlsalt-2016/sp838/miniconda2/envs/Python/lib/python2.7/site-packages/ipykernel/__main__.py:3: VisibleDeprecationWarning: using a non-integer number instead of an integer will result in an error in the future\n",
      "  app.launch_new_instance()\n"
     ]
    }
   ],
   "source": [
    "X = generate_NaN(subset(tr_in,10),0.2)"
   ]
  },
  {
   "cell_type": "markdown",
   "metadata": {},
   "source": [
    "## Try generating a gaussian process to predict features 2,3,4,5,6,8,9,10,12,13,14 from 1\n",
    "## Sample 7, 11 from a gaussian distribution centred at 0"
   ]
  },
  {
   "cell_type": "markdown",
   "metadata": {},
   "source": [
    "![http://stackoverflow.com/questions/9537543/replace-nans-in-numpy-array-with-closest-non-nan-value]"
   ]
  },
  {
   "cell_type": "markdown",
   "metadata": {},
   "source": [
    "[https://github.com/mwhoffman/pygp/blob/master/pygp/demos/basic.py]"
   ]
  },
  {
   "cell_type": "code",
   "execution_count": null,
   "metadata": {
    "collapsed": false
   },
   "outputs": [],
   "source": []
  },
  {
   "cell_type": "code",
   "execution_count": null,
   "metadata": {
    "collapsed": true
   },
   "outputs": [],
   "source": []
  },
  {
   "cell_type": "markdown",
   "metadata": {},
   "source": [
    "## Normalise before/after replacing NaNs??"
   ]
  },
  {
   "cell_type": "code",
   "execution_count": 85,
   "metadata": {
    "collapsed": false
   },
   "outputs": [
    {
     "data": {
      "text/plain": [
       "array([ 0.97402971,  0.01103438])"
      ]
     },
     "execution_count": 85,
     "metadata": {},
     "output_type": "execute_result"
    }
   ],
   "source": [
    "#for before: mean = np.nanmean(X, axis=0)\n",
    "pca2.components_\n",
    "pca2.explained_variance_ratio_"
   ]
  },
  {
   "cell_type": "code",
   "execution_count": null,
   "metadata": {
    "collapsed": true
   },
   "outputs": [],
   "source": []
  }
 ],
 "metadata": {
  "anaconda-cloud": {},
  "kernelspec": {
   "display_name": "Python [conda env:Python]",
   "language": "python",
   "name": "conda-env-Python-py"
  },
  "language_info": {
   "codemirror_mode": {
    "name": "ipython",
    "version": 2
   },
   "file_extension": ".py",
   "mimetype": "text/x-python",
   "name": "python",
   "nbconvert_exporter": "python",
   "pygments_lexer": "ipython2",
   "version": "2.7.12"
  }
 },
 "nbformat": 4,
 "nbformat_minor": 2
}
