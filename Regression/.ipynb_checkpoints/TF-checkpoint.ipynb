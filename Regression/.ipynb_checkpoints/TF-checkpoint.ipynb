{
 "cells": [
  {
   "cell_type": "code",
   "execution_count": 3,
   "metadata": {
    "collapsed": false
   },
   "outputs": [],
   "source": [
    "import tensorflow as tf\n",
    "import pandas as pd \n",
    "import numpy as np\n",
    "import matplotlib.pyplot as plt\n",
    "import random\n",
    "# sklearn modules\n",
    "from sklearn import preprocessing\n",
    "from sklearn.model_selection import train_test_split\n",
    "from sklearn.model_selection import ShuffleSplit\n",
    "# Metric mean squared error, the lower the better\n",
    "from sklearn.metrics import mean_squared_error\n",
    "\n",
    "def read_csv(csv_file):\n",
    "    '''Returns numpy array and panda version of the file'''\n",
    "    csv_file = csv_file +\".csv\"\n",
    "    df = pd.DataFrame()\n",
    "    df = df.from_csv(csv_file, header=0, sep=',', index_col=0)\n",
    "#n=df.shape[0] # number of samples\n",
    "#d=df.shape[1] # number of features\n",
    "    array = np.asarray(df,dtype=\"float64\")\n",
    "    if np.shape(array)[1] == 1:\n",
    "        array = array.ravel()\n",
    "    return array, df\n",
    "\n",
    "def publish_pred(y_pred, file_name):\n",
    "    df = pd.DataFrame()\n",
    "    df = df.from_csv(\"data/reg_sample_submission.csv\", \n",
    "                     header=0, sep=',', index_col=0)\n",
    "    df[\"Output\"] = y_pred\n",
    "    df.to_csv(file_name)"
   ]
  },
  {
   "cell_type": "markdown",
   "metadata": {},
   "source": [
    "# Load data"
   ]
  },
  {
   "cell_type": "code",
   "execution_count": 6,
   "metadata": {
    "collapsed": false
   },
   "outputs": [],
   "source": [
    "tr_in, df_in = read_csv(\"data/reg_train_in\")\n",
    "tr_in = np.asarray(tr_in,dtype=\"float64\")\n",
    "tr_out, df_out = read_csv(\"data/reg_train_out\")\n",
    "tr_out = np.asarray(tr_out,dtype=\"float64\")\n",
    "te_in, df = read_csv(\"data/reg_test_in\") # Still have to deal with NaNs best\n",
    "\n",
    "# Load file with NaNs replace using GP inference\n",
    "df = pd.DataFrame()\n",
    "df = df.from_csv(\"data/reg_test_gp2.csv\", header=None, sep=',', index_col=None)\n",
    "te_gp= np.asarray(df,dtype=\"float64\")"
   ]
  },
  {
   "cell_type": "markdown",
   "metadata": {},
   "source": [
    "# Split data into training set and validation set\n",
    "Use test % between 20% and 30% to ensure no-overfitting"
   ]
  },
  {
   "cell_type": "code",
   "execution_count": 7,
   "metadata": {
    "collapsed": false
   },
   "outputs": [],
   "source": [
    "cv = ShuffleSplit(n_splits=1,  test_size=0.30, random_state=random.randint(0,20), train_size=None)\n",
    "for train_index, test_index in cv.split(tr_in):\n",
    "    X_tr , y_tr = tr_in[list(train_index)], tr_out[list(train_index)]\n",
    "    X_vl , y_vl = tr_in[list(test_index)], tr_out[list(test_index)]"
   ]
  },
  {
   "cell_type": "markdown",
   "metadata": {},
   "source": [
    "# Clean data: normalise train and val set according to train set\n",
    "#### Note: normalisation is performed after the splitting (GOAL: ensure NN has normalised inputs)"
   ]
  },
  {
   "cell_type": "code",
   "execution_count": 8,
   "metadata": {
    "collapsed": false
   },
   "outputs": [],
   "source": [
    "tr_scale = preprocessing.StandardScaler().fit(X_tr)\n",
    "\n",
    "X_train = tr_scale.transform(X_tr)\n",
    "y_train = y_tr.reshape(-1,1)\n",
    "\n",
    "X_val = tr_scale.transform(X_vl)\n",
    "y_val = y_vl.reshape(-1,1) # only works if shape = (*,1) //(*, ) fails\n",
    "\n",
    "X = tr_scale.transform(tr_in)\n",
    "y = tr_out.reshape(-1,1)\n",
    "\n",
    "# DATA NOW PREPARED TO ENTER NETWORK\n",
    "#X_test = tr_scale.transform(te_gp)"
   ]
  },
  {
   "cell_type": "markdown",
   "metadata": {},
   "source": [
    "# Computation graph // Shape neural net"
   ]
  },
  {
   "cell_type": "code",
   "execution_count": 9,
   "metadata": {
    "collapsed": false
   },
   "outputs": [],
   "source": [
    "def shape_tensor(T):\n",
    "    dim = tuple( T.get_shape()[i].value for i in range(len(T.get_shape())))\n",
    "    return dim\n",
    "\n",
    "def hidden_layer(input_tensor, out_nodes):\n",
    "    in_nodes = shape_tensor(input_tensor)[1]\n",
    "    W = tf.Variable(tf.truncated_normal([in_nodes,out_nodes],stddev=0.1))\n",
    "    b = tf.Variable(tf.ones([out_nodes])/10)\n",
    "    logits = tf.add(tf.matmul(input_tensor, W),b)\n",
    "    a = tf.nn.dropout(tf.nn.relu(logits),keep_prob=0.95)\n",
    "    return a"
   ]
  },
  {
   "cell_type": "markdown",
   "metadata": {},
   "source": [
    "# BY DEFAULT (work best)\n",
    "## Tip : avoid dim reduction techniques (eg: PCA, LDA, even autoencoder)\n",
    "#### 14x80x50x50x50x1\n",
    "#### Activation: ReLu \n",
    "#### Initiation weights: tf.truncated_normal([n_nodes,n_nodes],stddev=0.1)\n",
    "#### Initiation bias: tf.ones([n_nodes])/10 (small positive value)\n",
    "#### Dropout prob: 0.75 (see documentation)\n",
    "#### Minibatchs\n",
    "#### Adaptative Learning Rate\n",
    "#### Adam optimizer\n",
    "#### No bias in output layer"
   ]
  },
  {
   "cell_type": "code",
   "execution_count": 10,
   "metadata": {
    "collapsed": false
   },
   "outputs": [],
   "source": [
    "# Placeholders for input and output\n",
    "inputX = tf.placeholder(tf.float32, [None, 14])\n",
    "inputY = tf.placeholder(tf.float32, [None, 1])\n",
    "\n",
    "n_nodes = 50\n",
    "# Weights and bias for INPUT LAYER\n",
    "W = tf.Variable(tf.truncated_normal([14,50],stddev=0.1))\n",
    "b = tf.Variable(tf.ones([50])/10)\n",
    "nodes = tf.add(tf.matmul(inputX, W),b)\n",
    "\n",
    "# USE PREVIOUS WEIGHTS\n",
    "#W = tf.Variable(W_past)\n",
    "#b = tf.Variable(b_past)\n",
    "\n",
    "with tf.name_scope(\"feature_compression_layer\") as scope:\n",
    "    a = tf.nn.dropout(tf.nn.relu(nodes),keep_prob=0.95) \n",
    "\n",
    "# ADD SUMMARY OPTIONS TO COLLECT DATA (make net understandable)\n",
    "w_h = tf.summary.histogram(\"weights\", W)\n",
    "b_h = tf.summary.histogram(\"weights\", b)\n",
    "\n",
    "# Next 5 hidden layers\n",
    "a_out =hidden_layer(hidden_layer(hidden_layer(hidden_layer(a, n_nodes),n_nodes),n_nodes),n_nodes)\n",
    "# Weights and bias for OUTPUT LAYER\n",
    "W_out = tf.Variable(tf.truncated_normal([n_nodes,1],stddev=0.1))\n",
    "#b_out = tf.Variable(tf.ones([n_nodes])/10)\n",
    "y_pred = tf.matmul(a_out, W_out)"
   ]
  },
  {
   "cell_type": "markdown",
   "metadata": {},
   "source": [
    "# Model Hyperparameters\n",
    "![learning_rate](http://cs231n.github.io/assets/nn3/learningrates.jpeg)\n",
    "## TO-DO: try different learning rates"
   ]
  },
  {
   "cell_type": "code",
   "execution_count": 11,
   "metadata": {
    "collapsed": false
   },
   "outputs": [],
   "source": [
    "global_step = tf.Variable(0, trainable=False) # keep track of numb of epochs\n",
    "# Fancy Learning rate with decay\n",
    "starter_learning_rate = 0.001\n",
    "learning_rate = tf.train.exponential_decay(starter_learning_rate, global_step,\n",
    "                                         500, 0.96, staircase=True)\n",
    "\n",
    "n_samples = y_train.size\n",
    "n_epochs = 15000\n",
    "display_step = 800\n",
    "\n",
    "def minibach(X, y,batch_size): \n",
    "    ind = np.random.choice(y.size, size=batch_size, replace=False)\n",
    "    X_batch, y_batch = X[ind,:], y[ind,:]\n",
    "    # GET RID OFF normalisation in every minibatch\n",
    "    #X_batch = preprocessing.scale(X_batch) \n",
    "    return X_batch, y_batch"
   ]
  },
  {
   "cell_type": "markdown",
   "metadata": {},
   "source": [
    "# Training step\n",
    "#### Loss: sqrt(MSE)\n",
    "#### Optimizer: Adam (100x better than gradient descent)"
   ]
  },
  {
   "cell_type": "code",
   "execution_count": 12,
   "metadata": {
    "collapsed": true
   },
   "outputs": [],
   "source": [
    "with tf.name_scope(\"loss_function\"):\n",
    "    loss = tf.sqrt(tf.reduce_sum(tf.pow(y_pred-inputY,2))/n_samples)\n",
    "    loss2 = tf.sqrt(tf.reduce_sum(tf.pow(y_pred-inputY,2))/y_val.size) \n",
    "    tf.summary.scalar(\"loss_train\", loss)\n",
    "    tf.summary.scalar(\"loss_val\", loss2)\n",
    "    \n",
    "with tf.name_scope(\"train\"):\n",
    "    #traning_step = tf.train.GradientDescentOptimizer(learning_rate).minimize(loss)\n",
    "    traning_step = tf.train.AdamOptimizer(\n",
    "                            learning_rate).minimize(loss, global_step=global_step)\n",
    "    \n",
    "#merged_summary_op = tf.summary.merge_all()"
   ]
  },
  {
   "cell_type": "markdown",
   "metadata": {
    "collapsed": false
   },
   "source": [
    "# Initialise Session\n",
    "## TO-DO: use tensorboard to display information about weights, etc."
   ]
  },
  {
   "cell_type": "code",
   "execution_count": 13,
   "metadata": {
    "collapsed": false
   },
   "outputs": [
    {
     "name": "stdout",
     "output_type": "stream",
     "text": [
      "loss = 0.995014369488, val_loss = 0.992360949516\n",
      "loss = 0.632192254066, val_loss = 0.633347630501\n",
      "loss = 0.617373347282, val_loss = 0.620917916298\n",
      "loss = 0.606648743153, val_loss = 0.614287793636\n",
      "loss = 0.595017790794, val_loss = 0.604884624481\n",
      "loss = 0.589996278286, val_loss = 0.606197416782\n",
      "loss = 0.58389633894, val_loss = 0.602258145809\n",
      "loss = 0.579094290733, val_loss = 0.59907323122\n",
      "loss = 0.576981067657, val_loss = 0.599213957787\n",
      "loss = 0.570965588093, val_loss = 0.596397042274\n",
      "loss = 0.568369686604, val_loss = 0.599679768085\n",
      "loss = 0.563012421131, val_loss = 0.596962630749\n",
      "loss = 0.561224877834, val_loss = 0.59470063448\n",
      "loss = 0.55857115984, val_loss = 0.595360159874\n",
      "loss = 0.558405995369, val_loss = 0.59671652317\n",
      "loss = 0.553875684738, val_loss = 0.591514766216\n",
      "loss = 0.550064325333, val_loss = 0.593555271626\n",
      "loss = 0.54964184761, val_loss = 0.592898130417\n",
      "loss = 0.547704398632, val_loss = 0.592928349972\n"
     ]
    }
   ],
   "source": [
    "init = tf.global_variables_initializer()\n",
    "session = tf.Session()\n",
    "session.run(init)\n",
    "#summary_writer = tf.summary.FileWriter('/home/sp838/KAGGLE_thing/Regression/logs',\n",
    "#                                        graph=session.graph)\n",
    "for i in range(n_epochs):\n",
    "    X_batch, y_batch = minibach(X_train, y_train,1000)\n",
    "    session.run(traning_step,feed_dict={inputX:X_batch, inputY:y_batch})\n",
    "    if (i) % display_step == 0:\n",
    "        cc = session.run(loss,feed_dict={inputX:X_train, inputY:y_train})\n",
    "        cc2 = session.run(loss2,feed_dict={inputX:X_val, inputY:y_val})\n",
    "        print \"loss = {}, val_loss = {}\".format(cc,cc2)"
   ]
  },
  {
   "cell_type": "markdown",
   "metadata": {},
   "source": [
    "# Keep training running\n",
    "With higher batch size"
   ]
  },
  {
   "cell_type": "code",
   "execution_count": 11,
   "metadata": {
    "collapsed": false,
    "scrolled": true
   },
   "outputs": [
    {
     "name": "stdout",
     "output_type": "stream",
     "text": [
      "loss = 0.547165155411, val_loss = 0.571042120457\n",
      "loss = 0.550785541534, val_loss = 0.565855205059\n",
      "loss = 0.547003030777, val_loss = 0.566982209682\n",
      "loss = 0.548365056515, val_loss = 0.561747014523\n",
      "loss = 0.54721146822, val_loss = 0.563212990761\n",
      "loss = 0.544652223587, val_loss = 0.562495648861\n",
      "loss = 0.545519828796, val_loss = 0.561309576035\n"
     ]
    }
   ],
   "source": [
    "for i in range(5000):\n",
    "    X_batch, y_batch = minibach(X, y,1000)\n",
    "    session.run(traning_step,feed_dict={inputX:X_batch, inputY:y_batch})\n",
    "    if (i) % display_step == 0:\n",
    "        cc = session.run(loss,feed_dict={inputX:X_train, inputY:y_train})\n",
    "        cc2 = session.run(loss2,feed_dict={inputX:X_val, inputY:y_val})\n",
    "        print \"loss = {}, val_loss = {}\".format(cc,cc2)\n"
   ]
  },
  {
   "cell_type": "markdown",
   "metadata": {
    "collapsed": false
   },
   "source": [
    "# Test Neural Network"
   ]
  },
  {
   "cell_type": "code",
   "execution_count": 15,
   "metadata": {
    "collapsed": false
   },
   "outputs": [
    {
     "name": "stdout",
     "output_type": "stream",
     "text": [
      "0.302963840338 0.550421511515\n"
     ]
    }
   ],
   "source": [
    "# Testing in the whole set\n",
    "y_ = session.run(y_pred,feed_dict={inputX:X})\n",
    "score = mean_squared_error(y, y_)\n",
    "print score, np.sqrt(score)"
   ]
  },
  {
   "cell_type": "markdown",
   "metadata": {},
   "source": [
    "## Best results: \n",
    "loss = 0.612698078156, val_loss = 0.626387417316 (after 3000 * 5)"
   ]
  },
  {
   "cell_type": "markdown",
   "metadata": {},
   "source": [
    "- Watch out for the local minima with loss = 0.999330401421, val_loss = 0.99540913105\n",
    "\n",
    "- Check on final updates of certain parameters\n",
    "\n",
    "- Save Net weights"
   ]
  },
  {
   "cell_type": "code",
   "execution_count": null,
   "metadata": {
    "collapsed": true
   },
   "outputs": [],
   "source": [
    "session.run(learning_rate)\n",
    "session.run(W)\n",
    "session.run(a, feed_dict={inputX:X_train})\n",
    "W_past = session.run(W)\n",
    "b_past = session.run(b)"
   ]
  },
  {
   "cell_type": "markdown",
   "metadata": {},
   "source": [
    "- View summarise info"
   ]
  },
  {
   "cell_type": "code",
   "execution_count": 12,
   "metadata": {
    "collapsed": false
   },
   "outputs": [],
   "source": [
    "#! tensorboard --help"
   ]
  },
  {
   "cell_type": "code",
   "execution_count": 13,
   "metadata": {
    "collapsed": false
   },
   "outputs": [],
   "source": [
    "# ! tensorboard --logdir=/home/sp838/KAGGLE_thing/Regression/logs/"
   ]
  },
  {
   "cell_type": "markdown",
   "metadata": {},
   "source": [
    "# Building a separate Neural Net for NaNs and NonNaNs in X_test"
   ]
  },
  {
   "cell_type": "code",
   "execution_count": null,
   "metadata": {
    "collapsed": true
   },
   "outputs": [],
   "source": [
    "# Types of indices in te_in\n",
    "NaN_ind = list(np.argwhere(np.isnan(te_in[:,2])).transpose())\n",
    "NonNaN = list(np.argwhere(~np.isnan(te_in[:,2])).transpose())\n",
    "\n",
    "# Select data to make predictions on\n",
    "X_test_nonNaN = tr_scale.transform(te_in[NonNaN])\n",
    "\n",
    "y_test_nonNaN = session.run(y_pred,feed_dict={inputX:X_test_nonNaN})\n",
    "\n",
    "# Create empty array to store predictions in NonNaN entries\n",
    "y_test = np.zeros(dtype=float,shape=(1800,1))\n",
    "y_test[NonNaN] = y_test_nonNaN"
   ]
  },
  {
   "cell_type": "code",
   "execution_count": 27,
   "metadata": {
    "collapsed": false
   },
   "outputs": [],
   "source": [
    "# PUBLISH (PARTIAL) RESULTS IN A TEMP FILE \n",
    "# LOAD THEM AGAIN IN one_feature_problem.iptnb\n",
    "publish_pred(y_test, \"predictions/reg_nonNaN_pred_TF.csv\")"
   ]
  }
 ],
 "metadata": {
  "anaconda-cloud": {},
  "kernelspec": {
   "display_name": "Python [default]",
   "language": "python",
   "name": "python2"
  },
  "language_info": {
   "codemirror_mode": {
    "name": "ipython",
    "version": 2
   },
   "file_extension": ".py",
   "mimetype": "text/x-python",
   "name": "python",
   "nbconvert_exporter": "python",
   "pygments_lexer": "ipython2",
   "version": "2.7.12"
  }
 },
 "nbformat": 4,
 "nbformat_minor": 2
}
