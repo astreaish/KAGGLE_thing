{
 "cells": [
  {
   "cell_type": "code",
   "execution_count": 42,
   "metadata": {
    "collapsed": true
   },
   "outputs": [],
   "source": [
    "import tensorflow as tf\n",
    "import numpy as np \n",
    "import pandas as pd \n",
    "import matplotlib.pyplot as plt\n",
    "# sklearn modules\n",
    "from sklearn import preprocessing\n",
    "from sklearn.model_selection import train_test_split\n",
    "from sklearn.model_selection import ShuffleSplit\n",
    "# Metric mean squared error, the lower the better\n",
    "from sklearn.metrics import mean_squared_error\n",
    "\n",
    "def read_csv(csv_file):\n",
    "    '''Returns numpy array and panda version of the file'''\n",
    "    csv_file = csv_file +\".csv\"\n",
    "    df = pd.DataFrame()\n",
    "    df = df.from_csv(csv_file, header=0, sep=',', index_col=0)\n",
    "    array = np.asarray(df,dtype=\"float64\")\n",
    "    if np.shape(array)[1] == 1:\n",
    "        array = array.ravel()\n",
    "    return array, df\n",
    "\n",
    "def publish_pred(y_pred, file_name):\n",
    "    df = pd.DataFrame()\n",
    "    df = df.from_csv(\"data/reg_sample_submission.csv\", header=0, sep=',', index_col=0)\n",
    "    df[\"Output\"] = list(y_pred)\n",
    "    df.to_csv(file_name)\n",
    "    \n",
    "#LOAD DATA    \n",
    "tr_in, df_in = read_csv(\"data/reg_train_in\")\n",
    "tr_in = np.asarray(tr_in,dtype=\"float64\")\n",
    "tr_out, df_out = read_csv(\"data/reg_train_out\")\n",
    "tr_out = np.asarray(tr_out,dtype=\"float64\")\n",
    "te_in, df = read_csv(\"data/reg_test_in\") # Still have to deal with NaNs best\n",
    "\n",
    "# Here we don't care about the GP-prediction of the NaNs"
   ]
  },
  {
   "cell_type": "markdown",
   "metadata": {},
   "source": [
    "# Split and Clean data"
   ]
  },
  {
   "cell_type": "code",
   "execution_count": 49,
   "metadata": {
    "collapsed": false
   },
   "outputs": [],
   "source": [
    "cv = ShuffleSplit(n_splits=1,  test_size=0.30, random_state=random.randint(0,20), train_size=None)\n",
    "for train_index, test_index in cv.split(tr_in):\n",
    "    X_tr , y_tr = tr_in[list(train_index),0].reshape(-1,1), tr_out[list(train_index)].reshape(-1,1)\n",
    "    X_vl , y_vl = tr_in[list(test_index),0].reshape(-1,1), tr_out[list(test_index)].reshape(-1,1)"
   ]
  },
  {
   "cell_type": "code",
   "execution_count": 51,
   "metadata": {
    "collapsed": false
   },
   "outputs": [],
   "source": [
    "# VALIDATION AND TRAINING SET:\n",
    "X_tr_scale = preprocessing.StandardScaler().fit(X_tr)\n",
    "\n",
    "X = X_tr_scale.transform(tr_in[:,0].reshape(-1,1))\n",
    "y = tr_out.reshape(-1,1)\n",
    "\n",
    "X_train = X_tr_scale.transform(X_tr)\n",
    "y_train = y_tr\n",
    "\n",
    "X_val = X_tr_scale.transform(X_vl)\n",
    "y_val = y_vl # only works if shape = (*,1) //(*, ) fails\n",
    "\n",
    "# DATA NOW PREPARED TO ENTER NETWORK\n",
    "X_test = X_tr_scale.transform(te_in[:,0].reshape(-1,1))"
   ]
  },
  {
   "cell_type": "markdown",
   "metadata": {},
   "source": [
    "# Build Neural Net Regressor"
   ]
  },
  {
   "cell_type": "code",
   "execution_count": 37,
   "metadata": {
    "collapsed": true
   },
   "outputs": [],
   "source": [
    "def shape_tensor(T):\n",
    "    dim = tuple( T.get_shape()[i].value for i in range(len(T.get_shape())))\n",
    "    return dim\n",
    "\n",
    "def hidden_layer(input_tensor, out_nodes):\n",
    "    in_nodes = shape_tensor(input_tensor)[1]\n",
    "    W = tf.Variable(tf.truncated_normal([in_nodes,out_nodes],stddev=0.1))\n",
    "    b = tf.Variable(tf.ones([out_nodes])/10)\n",
    "    logits = tf.add(tf.matmul(input_tensor, W),b)\n",
    "    a = tf.nn.dropout(tf.nn.relu(logits),keep_prob=0.95)\n",
    "    return a"
   ]
  },
  {
   "cell_type": "markdown",
   "metadata": {},
   "source": [
    "GO WIDER INSTEAD OF DEEPER"
   ]
  },
  {
   "cell_type": "code",
   "execution_count": 38,
   "metadata": {
    "collapsed": false
   },
   "outputs": [],
   "source": [
    "# Placeholders for input and output\n",
    "inputX = tf.placeholder(tf.float32, [None, 1])\n",
    "inputY = tf.placeholder(tf.float32, [None, 1])\n",
    "\n",
    "n_nodes = 500\n",
    "# Weights and bias for INPUT LAYER\n",
    "W = tf.Variable(tf.truncated_normal([1,100],stddev=0.1))\n",
    "b = tf.Variable(tf.ones([100])/10)\n",
    "nodes = tf.add(tf.matmul(inputX, W),b)\n",
    "\n",
    "# USE PREVIOUS WEIGHTS\n",
    "#W = tf.Variable(W_past)\n",
    "#b = tf.Variable(b_past)\n",
    "\n",
    "with tf.name_scope(\"feature_compression_layer\") as scope:\n",
    "    a = tf.nn.dropout(tf.nn.relu(nodes),keep_prob=0.95) \n",
    "\n",
    "# ADD SUMMARY OPTIONS TO COLLECT DATA (make net understandable)\n",
    "w_h = tf.summary.histogram(\"weights\", W)\n",
    "b_h = tf.summary.histogram(\"weights\", b)\n",
    "\n",
    "# Next 5 hidden layers\n",
    "a_out =hidden_layer(hidden_layer(a, n_nodes),n_nodes)\n",
    "# Weights and bias for OUTPUT LAYER\n",
    "W_out = tf.Variable(tf.truncated_normal([n_nodes,1],stddev=0.1))\n",
    "#b_out = tf.Variable(tf.ones([n_nodes])/10)\n",
    "y_pred = tf.matmul(a_out, W_out)"
   ]
  },
  {
   "cell_type": "code",
   "execution_count": 39,
   "metadata": {
    "collapsed": false
   },
   "outputs": [],
   "source": [
    "global_step = tf.Variable(0, trainable=False) # keep track of numb of epochs\n",
    "# Fancy Learning rate with decay\n",
    "starter_learning_rate = 0.001\n",
    "learning_rate = tf.train.exponential_decay(starter_learning_rate, global_step,\n",
    "                                         500, 0.96, staircase=True)\n",
    "\n",
    "n_samples = y_train.size\n",
    "n_epochs = 15000\n",
    "display_step = 800\n",
    "\n",
    "def minibach(X, y,batch_size): \n",
    "    ind = np.random.choice(y.size, size=batch_size, replace=False)\n",
    "    X_batch, y_batch = X[ind,:], y[ind,:]\n",
    "    # GET RID OFF normalisation in every minibatch\n",
    "    #X_batch = preprocessing.scale(X_batch) \n",
    "    return X_batch, y_batch"
   ]
  },
  {
   "cell_type": "code",
   "execution_count": 40,
   "metadata": {
    "collapsed": true
   },
   "outputs": [],
   "source": [
    "with tf.name_scope(\"loss_function\"):\n",
    "    loss = tf.sqrt(tf.reduce_sum(tf.pow(y_pred-inputY,2))/n_samples)\n",
    "    loss2 = tf.sqrt(tf.reduce_sum(tf.pow(y_pred-inputY,2))/y_val.size) \n",
    "    tf.summary.scalar(\"loss_train\", loss)\n",
    "    tf.summary.scalar(\"loss_val\", loss2)\n",
    "    \n",
    "with tf.name_scope(\"train\"):\n",
    "    #traning_step = tf.train.GradientDescentOptimizer(learning_rate).minimize(loss)\n",
    "    traning_step = tf.train.AdamOptimizer(\n",
    "                            learning_rate).minimize(loss, global_step=global_step)\n",
    "    \n",
    "#merged_summary_op = tf.summary.merge_all()"
   ]
  },
  {
   "cell_type": "markdown",
   "metadata": {},
   "source": [
    "# Initialize session"
   ]
  },
  {
   "cell_type": "code",
   "execution_count": null,
   "metadata": {
    "collapsed": true
   },
   "outputs": [],
   "source": [
    "init = tf.global_variables_initializer()\n",
    "session = tf.Session()\n",
    "session.run(init)\n",
    "#summary_writer = tf.summary.FileWriter('/home/sp838/KAGGLE_thing/Regression/logs',\n",
    "#                                        graph=session.graph)\n",
    "for i in range(n_epochs):\n",
    "    X_batch, y_batch = minibach(X_train, y_train,500)\n",
    "    session.run(traning_step,feed_dict={inputX:X_batch, inputY:y_batch})\n",
    "    if (i) % display_step == 0:\n",
    "        cc = session.run(loss,feed_dict={inputX:X_train, inputY:y_train})\n",
    "        cc2 = session.run(loss2,feed_dict={inputX:X_val, inputY:y_val})\n",
    "        print \"loss = {}, val_loss = {}\".format(cc,cc2)"
   ]
  },
  {
   "cell_type": "code",
   "execution_count": 52,
   "metadata": {
    "collapsed": false
   },
   "outputs": [
    {
     "data": {
      "text/plain": [
       "array([[ 0.01273801,  0.06102614,  0.25166133, ...,  0.06001911,\n",
       "         0.0116888 ,  0.21419793],\n",
       "       [ 0.2616742 ,  0.21861073,  0.01593253, ...,  0.2156716 ,\n",
       "         0.25472808,  0.06252324],\n",
       "       [ 0.16550475,  0.1577324 ,  0.10699967, ...,  0.15553968,\n",
       "         0.        ,  0.12111846],\n",
       "       ..., \n",
       "       [ 0.17199931,  0.16184366,  0.10084968, ...,  0.15960054,\n",
       "         0.16717745,  0.11716138],\n",
       "       [ 0.        ,  0.28095382,  0.        , ...,  0.27725032,\n",
       "         0.35087842,  0.00251822],\n",
       "       [ 0.22091885,  0.19281131,  0.05452557, ...,  0.19018848,\n",
       "         0.        ,  0.08735511]], dtype=float32)"
      ]
     },
     "execution_count": 52,
     "metadata": {},
     "output_type": "execute_result"
    }
   ],
   "source": [
    "session.run(learning_rate)\n",
    "session.run(W)\n",
    "session.run(a, feed_dict={inputX:X_train})"
   ]
  },
  {
   "cell_type": "markdown",
   "metadata": {},
   "source": [
    "KEEP RUNNING FOR FINE-TUNNING"
   ]
  },
  {
   "cell_type": "code",
   "execution_count": 60,
   "metadata": {
    "collapsed": false
   },
   "outputs": [
    {
     "name": "stdout",
     "output_type": "stream",
     "text": [
      "loss = 0.867838323116, val_loss = 0.861643671989\n",
      "loss = 0.860314369202, val_loss = 0.85356760025\n",
      "loss = 0.859369456768, val_loss = 0.852475464344\n",
      "loss = 0.854378163815, val_loss = 0.849298357964\n",
      "loss = 0.853880941868, val_loss = 0.848384976387\n",
      "loss = 0.855462014675, val_loss = 0.849990844727\n",
      "loss = 0.853386521339, val_loss = 0.84497231245\n"
     ]
    }
   ],
   "source": [
    "for i in range(5000):\n",
    "    X_batch, y_batch = minibach(X, y,1000)\n",
    "    session.run(traning_step,feed_dict={inputX:X_batch, inputY:y_batch})\n",
    "    if (i) % display_step == 0:\n",
    "        cc = session.run(loss,feed_dict={inputX:X_train, inputY:y_train})\n",
    "        cc2 = session.run(loss2,feed_dict={inputX:X_val, inputY:y_val})\n",
    "        print \"loss = {}, val_loss = {}\".format(cc,cc2)\n",
    "        "
   ]
  },
  {
   "cell_type": "code",
   "execution_count": 33,
   "metadata": {
    "collapsed": false
   },
   "outputs": [
    {
     "name": "stdout",
     "output_type": "stream",
     "text": [
      "0.756965163596 0.870037449536\n"
     ]
    }
   ],
   "source": [
    "y_ = session.run(y_pred,feed_dict={inputX:X})\n",
    "score = mean_squared_error(y, y_)\n",
    "print score, np.sqrt(score)"
   ]
  },
  {
   "cell_type": "markdown",
   "metadata": {},
   "source": [
    "# Replace remaining entries in y_test (NaN ind)"
   ]
  },
  {
   "cell_type": "code",
   "execution_count": 30,
   "metadata": {
    "collapsed": false
   },
   "outputs": [],
   "source": [
    "# LOAD Y_TEST FROM FILE. THIS ONLY CONTAINS PREDITIONS IN NONNAN INDICES\n",
    "y_test ,df = read_csv(\"predictions/reg_nonNaN_pred_TF\")\n",
    "y_test = y_test.reshape(-1,1)\n",
    "\n",
    "# DEFINE INDICES\n",
    "NaN_ind = list(np.argwhere(np.isnan(te_in[:,2])).transpose())\n",
    "NonNaN = list(np.argwhere(~np.isnan(te_in[:,2])).transpose())"
   ]
  },
  {
   "cell_type": "code",
   "execution_count": 31,
   "metadata": {
    "collapsed": false
   },
   "outputs": [],
   "source": [
    "# SELECT INPUTS FOR NN IN NAN_IND AND PREDICT\n",
    "X_test_NaN = X_test[NaN_ind]\n",
    "y_test_NaN = session.run(y_pred,feed_dict={inputX:X_test_NaN})\n",
    "# STORE THESE PREDCITIONS IN NAN_IND OF Y_TES\n",
    "y_test[NaN_ind] = y_test_NaN"
   ]
  },
  {
   "cell_type": "code",
   "execution_count": 69,
   "metadata": {
    "collapsed": false
   },
   "outputs": [],
   "source": [
    "publish_pred(y_test,\"predictions/reg_pred_TF.csv\")"
   ]
  },
  {
   "cell_type": "markdown",
   "metadata": {},
   "source": [
    "# Alternative: Use classic Kernel SVRs\n",
    "They don't perform better"
   ]
  },
  {
   "cell_type": "code",
   "execution_count": 12,
   "metadata": {
    "collapsed": false
   },
   "outputs": [
    {
     "name": "stdout",
     "output_type": "stream",
     "text": [
      "0.978248864524\n"
     ]
    }
   ],
   "source": [
    "from sklearn.svm import SVR\n",
    "regression = SVR(kernel='rbf')\n",
    "y_train.reshape(-1,)\n",
    "regression.fit(X_train, y_train)\n",
    "y_pred = regression.predict(X_val)\n",
    "score = mean_squared_error(y_val, y_pred)\n",
    "print np.sqrt(score)"
   ]
  }
 ],
 "metadata": {
  "anaconda-cloud": {},
  "kernelspec": {
   "display_name": "Python [default]",
   "language": "python",
   "name": "python2"
  },
  "language_info": {
   "codemirror_mode": {
    "name": "ipython",
    "version": 2
   },
   "file_extension": ".py",
   "mimetype": "text/x-python",
   "name": "python",
   "nbconvert_exporter": "python",
   "pygments_lexer": "ipython2",
   "version": "2.7.12"
  }
 },
 "nbformat": 4,
 "nbformat_minor": 2
}
