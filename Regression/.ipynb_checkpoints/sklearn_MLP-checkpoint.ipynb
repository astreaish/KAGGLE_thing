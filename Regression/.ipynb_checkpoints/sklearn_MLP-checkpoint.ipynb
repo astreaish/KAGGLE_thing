{
 "cells": [
  {
   "cell_type": "code",
   "execution_count": 27,
   "metadata": {
    "collapsed": false
   },
   "outputs": [],
   "source": [
    "import csv\n",
    "import numpy as np \n",
    "import pandas as pd \n",
    "import random\n",
    "import matplotlib.pyplot as plt\n",
    "# sklearn modules\n",
    "from sklearn import preprocessing\n",
    "from sklearn.model_selection import train_test_split\n",
    "from sklearn.model_selection import ShuffleSplit\n",
    "from sklearn.decomposition import PCA\n",
    "# Metric mean squared error, the lower the better\n",
    "from sklearn.metrics import mean_squared_error\n",
    "\n",
    "def read_csv(csv_file):\n",
    "    '''Returns numpy array and panda version of the file'''\n",
    "    csv_file = csv_file +\".csv\"\n",
    "    df = pd.DataFrame()\n",
    "    df = df.from_csv(csv_file, header=0, sep=',', index_col=0)\n",
    "#n=df.shape[0] # number of samples\n",
    "#d=df.shape[1] # number of features\n",
    "    array = np.asarray(df,dtype=\"float64\")\n",
    "    if np.shape(array)[1] == 1:\n",
    "        array = array.ravel()\n",
    "    return array, df\n",
    "\n",
    "def publish_pred(y_pred, file_name):\n",
    "    df = pd.DataFrame()\n",
    "    df = df.from_csv(\"data/reg_sample_submission.csv\", header=0, sep=',', index_col=0)\n",
    "    df[\"Output\"] = list(y_pred)\n",
    "    df.to_csv(file_name)\n",
    "\n",
    "tr_in, df_in = read_csv(\"data/reg_train_in\")\n",
    "tr_in = np.asarray(tr_in,dtype=\"float64\")\n",
    "tr_out, df_out = read_csv(\"data/reg_train_out\")\n",
    "tr_out = np.asarray(tr_out,dtype=\"float64\")\n",
    "te_in, df = read_csv(\"data/reg_test_in\") # Still have to deal with NaNs best\n",
    "\n",
    "df = pd.DataFrame()\n",
    "df = df.from_csv(\"data/reg_test_gp.csv\", header=None, sep=',', index_col=None)\n",
    "te_gp= np.asarray(df,dtype=\"float64\")"
   ]
  },
  {
   "cell_type": "markdown",
   "metadata": {
    "collapsed": true
   },
   "source": [
    "# Training and Testing sets for cv"
   ]
  },
  {
   "cell_type": "code",
   "execution_count": 30,
   "metadata": {
    "collapsed": false
   },
   "outputs": [],
   "source": [
    "cv = ShuffleSplit(n_splits=1,  test_size=0.30, random_state=random.randint(0,20), train_size=None)\n",
    "for train_index, test_index in cv.split(tr_in):\n",
    "    X_tr , y_tr = tr_in[list(train_index)], tr_out[list(train_index)]\n",
    "    X_vl , y_vl = tr_in[list(test_index)], tr_out[list(test_index)]"
   ]
  },
  {
   "cell_type": "code",
   "execution_count": 31,
   "metadata": {
    "collapsed": false
   },
   "outputs": [],
   "source": [
    "tr_scale = preprocessing.StandardScaler().fit(X_tr)\n",
    "X = tr_scale.transform(tr_in)\n",
    "y = tr_out\n",
    "\n",
    "X_train = tr_scale.transform(X_tr)\n",
    "y_train = y_tr\n",
    "X_val = tr_scale.transform(X_vl)\n",
    "y_val = y_vl\n",
    "\n",
    "X_test = tr_scale.transform(te_gp)"
   ]
  },
  {
   "cell_type": "markdown",
   "metadata": {},
   "source": [
    "# Dimensionality reduction: 4-comp PCA\n",
    "Not a good idea if you want to use a Neural Net later on..."
   ]
  },
  {
   "cell_type": "code",
   "execution_count": 21,
   "metadata": {
    "collapsed": true
   },
   "outputs": [],
   "source": [
    "def use_pca(X,list_of_features, n_comp):\n",
    "    out = list(set(range(0,14))-set(list_of_features))\n",
    "    out.sort()\n",
    "    pca = PCA(n_components=n_comp)\n",
    "    pca.fit(X[:,list_of_features])\n",
    "    X_pca = pca.transform(X[:,list_of_features])\n",
    "    Z = np.concatenate((X_pca,X[:,out]),axis=1)\n",
    "    print pca.explained_variance_ratio_\n",
    "    return Z"
   ]
  },
  {
   "cell_type": "markdown",
   "metadata": {},
   "source": [
    "Everything below is good, the PCA with two comp for 0,1,2, etc is not as good 1 comp for 1,2 etc and then 0 separatelly"
   ]
  },
  {
   "cell_type": "markdown",
   "metadata": {},
   "source": [
    "# Adding noise to the Network "
   ]
  },
  {
   "cell_type": "markdown",
   "metadata": {},
   "source": [
    "noise_Z = np.random.randn(34200,1)\n",
    "Z_noisy = np.concatenate((Z,noise_Z),axis=1)\n",
    "noise_Z_test = np.random.randn(1800,1)\n",
    "Z_test_noisy = np.concatenate((Z_test,noise_Z_test),axis=1)"
   ]
  },
  {
   "cell_type": "code",
   "execution_count": 22,
   "metadata": {
    "collapsed": true
   },
   "outputs": [],
   "source": [
    "def add_noise_feature(X):\n",
    "    noise_X = np.random.randn(np.shape(X)[0],1)\n",
    "    X_noisy = np.concatenate((X,noise_X),axis=1)\n",
    "    return X_noisy"
   ]
  },
  {
   "cell_type": "markdown",
   "metadata": {},
   "source": [
    "# Multilayer perceptron \n"
   ]
  },
  {
   "cell_type": "code",
   "execution_count": 23,
   "metadata": {
    "collapsed": false,
    "scrolled": true
   },
   "outputs": [
    {
     "name": "stdout",
     "output_type": "stream",
     "text": [
      "0.628950587748\n"
     ]
    },
    {
     "name": "stderr",
     "output_type": "stream",
     "text": [
      "/home/sp838/miniconda2/envs/Python/lib/python2.7/site-packages/sklearn/neural_network/multilayer_perceptron.py:563: ConvergenceWarning: Stochastic Optimizer: Maximum iterations reached and the optimization hasn't converged yet.\n",
      "  % (), ConvergenceWarning)\n"
     ]
    }
   ],
   "source": [
    "from sklearn.neural_network import MLPRegressor\n",
    "regression = MLPRegressor(hidden_layer_sizes=(50,50,50,50), activation='relu', solver='sgd', alpha=1)\n",
    "regression.fit(X_train, y_train)\n",
    "y_pred_val = regression.predict(X_val)\n",
    "y_pred = regression.predict(X_test)\n",
    "score = mean_squared_error(y_val, y_pred_val)\n",
    "print np.sqrt(score)\n",
    "# to improve 0.680718311155 without New PCA and add_noise\n",
    "# with noise and everythin still 0.680920057225"
   ]
  },
  {
   "cell_type": "code",
   "execution_count": 24,
   "metadata": {
    "collapsed": true
   },
   "outputs": [],
   "source": [
    "publish_pred(y_pred, \"predictions/reg_pred.csv\")"
   ]
  },
  {
   "cell_type": "markdown",
   "metadata": {},
   "source": [
    "http://scikit-learn.org/stable/modules/generated/sklearn.neural_network.MLPRegressor.html#sklearn.neural_network.MLPRegressor\n",
    "\n",
    "0.628975302474 hidden_layer_sizes=(50,50,50,50,50), activation='tanh', solver='sgd', alpha=0.1 vs 0.77 in Kaggle\n",
    "0.683643321796 hidden_layer_sizes=(50,50,50,50), activation='tanh', solver='sgd', alpha=1\n",
    "0.680718311155 hidden_layer_sizes=(50,50,50,50), activation='relu', solver='sgd', alpha=1)"
   ]
  }
 ],
 "metadata": {
  "anaconda-cloud": {},
  "kernelspec": {
   "display_name": "Python [conda env:Python]",
   "language": "python",
   "name": "conda-env-Python-py"
  },
  "language_info": {
   "codemirror_mode": {
    "name": "ipython",
    "version": 2
   },
   "file_extension": ".py",
   "mimetype": "text/x-python",
   "name": "python",
   "nbconvert_exporter": "python",
   "pygments_lexer": "ipython2",
   "version": "2.7.12"
  }
 },
 "nbformat": 4,
 "nbformat_minor": 2
}
