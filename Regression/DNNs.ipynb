{
 "cells": [
  {
   "cell_type": "code",
   "execution_count": 1,
   "metadata": {
    "collapsed": false
   },
   "outputs": [],
   "source": [
    "import csv\n",
    "import numpy as np \n",
    "import pandas as pd \n",
    "import random\n",
    "import matplotlib.pyplot as plt\n",
    "# sklearn modules\n",
    "from sklearn import preprocessing\n",
    "from sklearn.model_selection import train_test_split\n",
    "from sklearn.model_selection import ShuffleSplit\n",
    "from sklearn.decomposition import PCA\n",
    "from sklearn.svm import SVR\n",
    "# Metric mean squared error, the lower the better\n",
    "from sklearn.metrics import mean_squared_error\n",
    "\n",
    "def read_csv(csv_file):\n",
    "    '''Returns numpy array and panda version of the file'''\n",
    "    csv_file = csv_file +\".csv\"\n",
    "    df = pd.DataFrame()\n",
    "    df = df.from_csv(csv_file, header=0, sep=',', index_col=0)\n",
    "#n=df.shape[0] # number of samples\n",
    "#d=df.shape[1] # number of features\n",
    "    array = np.asarray(df,dtype=\"|S6\")\n",
    "    if np.shape(array)[1] == 1:\n",
    "        array = array.ravel()\n",
    "    return array, df\n",
    "\n",
    "def publish_pred(y_pred, file_name):\n",
    "    df = pd.DataFrame()\n",
    "    df = df.from_csv(\"reg_sample_submission.csv\", header=0, sep=',', index_col=0)\n",
    "    df[\"Output\"] = list(y_pred)\n",
    "    df.to_csv(file_name)\n",
    "\n",
    "tr_in, df_in = read_csv(\"reg_train_in\")\n",
    "tr_in = np.asarray(tr_in,dtype=\"float64\")\n",
    "tr_out, df_out = read_csv(\"reg_train_out\")\n",
    "tr_out = np.asarray(tr_out,dtype=\"float64\")\n",
    "te_in, df = read_csv(\"reg_test_in\") # Still have to deal with NaNs best\n",
    "\n",
    "\n",
    "X = preprocessing.scale(tr_in)# Clean (mean 0, variance 1) data-set\n",
    "y = tr_out"
   ]
  },
  {
   "cell_type": "markdown",
   "metadata": {
    "collapsed": true
   },
   "source": [
    "# Training and Testing sets for cv"
   ]
  },
  {
   "cell_type": "code",
   "execution_count": 7,
   "metadata": {
    "collapsed": false
   },
   "outputs": [
    {
     "name": "stdout",
     "output_type": "stream",
     "text": [
      "('TRAIN:', 22230, 'TEST:', 11970)\n"
     ]
    }
   ],
   "source": [
    "cv = ShuffleSplit(n_splits=1,  test_size=0.35, random_state=random.randint(0,20), train_size=None) # 10_splits\n",
    "for train_index, test_index in cv.split(X):\n",
    "    print(\"TRAIN:\", len(list(train_index)), \"TEST:\", len(test_index))"
   ]
  },
  {
   "cell_type": "code",
   "execution_count": 8,
   "metadata": {
    "collapsed": true
   },
   "outputs": [],
   "source": [
    "X_train , y_train = X[train_index], y[train_index]\n",
    "Xs , ys = X[test_index], y[test_index]"
   ]
  },
  {
   "cell_type": "code",
   "execution_count": 2,
   "metadata": {
    "collapsed": true
   },
   "outputs": [],
   "source": [
    "mean_tr = np.mean(tr_in,axis = 0)\n",
    "std_tr = np.std(tr_in,axis = 0)\n",
    "df = pd.DataFrame()\n",
    "df = df.from_csv(\"reg_test_gp.csv\", header=None, sep=',', index_col=None)\n",
    "te_gp= np.asarray(df,dtype=\"float64\")\n",
    "X_test = np.divide(np.add(te_gp,-mean_tr),std_tr)"
   ]
  },
  {
   "cell_type": "markdown",
   "metadata": {},
   "source": [
    "# Dimensionality reduction: 4-comp PCA"
   ]
  },
  {
   "cell_type": "markdown",
   "metadata": {},
   "source": [
    "Everything below is good, the PCA with two comp for 0,1,2, etc is not as good 1 comp for 1,2 etc and then 0 separatelly"
   ]
  },
  {
   "cell_type": "markdown",
   "metadata": {
    "collapsed": false
   },
   "source": [
    "corr = [0,1,2,3,4,5,7,8,9,11,12,13]\n",
    "PCA only on related features, leave 'noisy' features separate 7,11\n",
    "pca = PCA(n_components=2)\n",
    "pca.fit(X[:,corr])\n",
    "print \"Variance taken by each of the principal components\", pca.explained_variance_ratio_\n",
    "X_pca = pca.transform(X[:,corr])\n",
    "Z = np.concatenate((X_pca,X[:,[6,10]]),axis=1)\n",
    "X_test_pca = pca.transform(X_test[:,corr])\n",
    "Z_test = np.concatenate((X_test_pca,X_test[:,[6,10]]),axis=1)"
   ]
  },
  {
   "cell_type": "code",
   "execution_count": 107,
   "metadata": {
    "collapsed": true
   },
   "outputs": [],
   "source": [
    "def use_pca(X,list_of_features, n_comp):\n",
    "    out = list(set(range(0,14))-set(list_of_features))\n",
    "    out.sort()\n",
    "    pca = PCA(n_components=n_comp)\n",
    "    pca.fit(X[:,list_of_features])\n",
    "    X_pca = pca.transform(X[:,list_of_features])\n",
    "    Z = np.concatenate((X_pca,X[:,out]),axis=1)\n",
    "    print pca.explained_variance_ratio_\n",
    "    return Z"
   ]
  },
  {
   "cell_type": "code",
   "execution_count": 108,
   "metadata": {
    "collapsed": false
   },
   "outputs": [
    {
     "name": "stdout",
     "output_type": "stream",
     "text": [
      "[ 0.97402246]\n",
      "[ 0.94915771]\n"
     ]
    }
   ],
   "source": [
    "corr = [1,2,3,4,5,7,8,9,11,12,13]\n",
    "Z = use_pca(X,corr,1)\n",
    "Z_test = use_pca(X_test,corr,1)"
   ]
  },
  {
   "cell_type": "markdown",
   "metadata": {},
   "source": [
    "# Adding noise to the Network "
   ]
  },
  {
   "cell_type": "markdown",
   "metadata": {},
   "source": [
    "noise_Z = np.random.randn(34200,1)\n",
    "Z_noisy = np.concatenate((Z,noise_Z),axis=1)\n",
    "noise_Z_test = np.random.randn(1800,1)\n",
    "Z_test_noisy = np.concatenate((Z_test,noise_Z_test),axis=1)"
   ]
  },
  {
   "cell_type": "code",
   "execution_count": 49,
   "metadata": {
    "collapsed": true
   },
   "outputs": [],
   "source": [
    "def add_noise_feature(X):\n",
    "    noise_X = np.random.randn(np.shape(X)[0],1)\n",
    "    X_noisy = np.concatenate((X,noise_X),axis=1)\n",
    "    return X_noisy"
   ]
  },
  {
   "cell_type": "markdown",
   "metadata": {},
   "source": [
    "# Multilayer perceptron \n"
   ]
  },
  {
   "cell_type": "code",
   "execution_count": 110,
   "metadata": {
    "collapsed": false,
    "scrolled": true
   },
   "outputs": [
    {
     "name": "stdout",
     "output_type": "stream",
     "text": [
      "0.680920057225\n"
     ]
    }
   ],
   "source": [
    "from sklearn.neural_network import MLPRegressor\n",
    "regression = MLPRegressor(hidden_layer_sizes=(50,50,50,50), activation='relu', solver='sgd', alpha=1)\n",
    "regression.fit(add_noise_feature(Z), y)\n",
    "y_pred_test = regression.predict(add_noise_feature(Z_test))\n",
    "y_pred = regression.predict(add_noise_feature(Z))\n",
    "score = mean_squared_error(y, y_pred)\n",
    "print np.sqrt(score)\n",
    "# to improve 0.680718311155 without New PCA and add_noise\n",
    "# with noise and everythin still 0.680920057225"
   ]
  },
  {
   "cell_type": "code",
   "execution_count": 10,
   "metadata": {
    "collapsed": true
   },
   "outputs": [],
   "source": [
    "publish_pred(y_pred_test, \"reg_pred.csv\")"
   ]
  },
  {
   "cell_type": "markdown",
   "metadata": {},
   "source": [
    "http://scikit-learn.org/stable/modules/generated/sklearn.neural_network.MLPRegressor.html#sklearn.neural_network.MLPRegressor\n",
    "\n",
    "0.628975302474 hidden_layer_sizes=(50,50,50,50,50), activation='tanh', solver='sgd', alpha=0.1 vs 0.77 in Kaggle\n",
    "0.683643321796 hidden_layer_sizes=(50,50,50,50), activation='tanh', solver='sgd', alpha=1\n",
    "0.680718311155 hidden_layer_sizes=(50,50,50,50), activation='relu', solver='sgd', alpha=1)"
   ]
  },
  {
   "cell_type": "markdown",
   "metadata": {
    "collapsed": true
   },
   "source": [
    "# Extra feature with just gaussian noise : no improvement \n",
    "Good way to reduce overfitting of the training set"
   ]
  },
  {
   "cell_type": "code",
   "execution_count": 48,
   "metadata": {
    "collapsed": false
   },
   "outputs": [
    {
     "name": "stdout",
     "output_type": "stream",
     "text": [
      "0.68499305435\n"
     ]
    }
   ],
   "source": [
    "from sklearn.neural_network import MLPRegressor\n",
    "regression = MLPRegressor(hidden_layer_sizes=(10,10,10,10,10,10,10), activation='relu', solver='sgd', alpha=0.1)\n",
    "regression.fit(Z_noisy, y)\n",
    "y_pred_test = regression.predict(Z_test_noisy)\n",
    "y_pred = regression.predict(Z_noisy)\n",
    "score = mean_squared_error(y, y_pred)\n",
    "print np.sqrt(score)"
   ]
  },
  {
   "cell_type": "code",
   "execution_count": 52,
   "metadata": {
    "collapsed": false
   },
   "outputs": [
    {
     "name": "stdout",
     "output_type": "stream",
     "text": [
      "0.617552541041\n"
     ]
    }
   ],
   "source": [
    "from sklearn.neural_network import MLPRegressor\n",
    "regression = MLPRegressor(hidden_layer_sizes=(50,50,50,50), activation='relu', solver='sgd', alpha=0.1)\n",
    "regression.fit(add_noise_feature(X), y)\n",
    "y_pred_test = regression.predict(add_noise_feature(X_test))\n",
    "y_pred = regression.predict(add_noise_feature(X))\n",
    "score = mean_squared_error(y, y_pred)\n",
    "print np.sqrt(score)"
   ]
  },
  {
   "cell_type": "markdown",
   "metadata": {},
   "source": [
    "publish_pred(y_pred_test, \"reg_pred.csv\")"
   ]
  },
  {
   "cell_type": "markdown",
   "metadata": {},
   "source": [
    "0.6828975302474 (noisy) hidden_layer_sizes=(50,50,50,50,50), activation='tanh', solver='sgd', alpha=0.1 vs 0.77 in Kaggle"
   ]
  }
 ],
 "metadata": {
  "anaconda-cloud": {},
  "kernelspec": {
   "display_name": "Python [conda env:Python]",
   "language": "python",
   "name": "conda-env-Python-py"
  },
  "language_info": {
   "codemirror_mode": {
    "name": "ipython",
    "version": 2
   },
   "file_extension": ".py",
   "mimetype": "text/x-python",
   "name": "python",
   "nbconvert_exporter": "python",
   "pygments_lexer": "ipython2",
   "version": "2.7.12"
  }
 },
 "nbformat": 4,
 "nbformat_minor": 2
}
