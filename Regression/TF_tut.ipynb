{
 "cells": [
  {
   "cell_type": "code",
   "execution_count": 6,
   "metadata": {
    "collapsed": false
   },
   "outputs": [],
   "source": [
    "import tensorflow as tf\n",
    "import pandas as pd \n",
    "import numpy as np\n",
    "import matplotlib.pyplot as plt"
   ]
  },
  {
   "cell_type": "markdown",
   "metadata": {},
   "source": [
    "# Step 1, 2 Load and clean data in Pandas"
   ]
  },
  {
   "cell_type": "code",
   "execution_count": 33,
   "metadata": {
    "collapsed": false
   },
   "outputs": [
    {
     "data": {
      "text/html": [
       "<div>\n",
       "<table border=\"1\" class=\"dataframe\">\n",
       "  <thead>\n",
       "    <tr style=\"text-align: right;\">\n",
       "      <th></th>\n",
       "      <th>area</th>\n",
       "      <th>bathrooms</th>\n",
       "      <th>y1</th>\n",
       "      <th>y2</th>\n",
       "    </tr>\n",
       "    <tr>\n",
       "      <th>index</th>\n",
       "      <th></th>\n",
       "      <th></th>\n",
       "      <th></th>\n",
       "      <th></th>\n",
       "    </tr>\n",
       "  </thead>\n",
       "  <tbody>\n",
       "    <tr>\n",
       "      <th>0</th>\n",
       "      <td>2104.0</td>\n",
       "      <td>3.0</td>\n",
       "      <td>1</td>\n",
       "      <td>0</td>\n",
       "    </tr>\n",
       "    <tr>\n",
       "      <th>1</th>\n",
       "      <td>1600.0</td>\n",
       "      <td>3.0</td>\n",
       "      <td>1</td>\n",
       "      <td>0</td>\n",
       "    </tr>\n",
       "    <tr>\n",
       "      <th>2</th>\n",
       "      <td>2400.0</td>\n",
       "      <td>3.0</td>\n",
       "      <td>1</td>\n",
       "      <td>0</td>\n",
       "    </tr>\n",
       "    <tr>\n",
       "      <th>3</th>\n",
       "      <td>1416.0</td>\n",
       "      <td>2.0</td>\n",
       "      <td>0</td>\n",
       "      <td>1</td>\n",
       "    </tr>\n",
       "    <tr>\n",
       "      <th>4</th>\n",
       "      <td>3000.0</td>\n",
       "      <td>4.0</td>\n",
       "      <td>0</td>\n",
       "      <td>1</td>\n",
       "    </tr>\n",
       "    <tr>\n",
       "      <th>5</th>\n",
       "      <td>1985.0</td>\n",
       "      <td>4.0</td>\n",
       "      <td>1</td>\n",
       "      <td>0</td>\n",
       "    </tr>\n",
       "    <tr>\n",
       "      <th>6</th>\n",
       "      <td>1534.0</td>\n",
       "      <td>3.0</td>\n",
       "      <td>0</td>\n",
       "      <td>1</td>\n",
       "    </tr>\n",
       "    <tr>\n",
       "      <th>7</th>\n",
       "      <td>1427.0</td>\n",
       "      <td>3.0</td>\n",
       "      <td>1</td>\n",
       "      <td>0</td>\n",
       "    </tr>\n",
       "    <tr>\n",
       "      <th>8</th>\n",
       "      <td>1380.0</td>\n",
       "      <td>3.0</td>\n",
       "      <td>1</td>\n",
       "      <td>0</td>\n",
       "    </tr>\n",
       "    <tr>\n",
       "      <th>9</th>\n",
       "      <td>1494.0</td>\n",
       "      <td>3.0</td>\n",
       "      <td>1</td>\n",
       "      <td>0</td>\n",
       "    </tr>\n",
       "  </tbody>\n",
       "</table>\n",
       "</div>"
      ],
      "text/plain": [
       "         area  bathrooms  y1  y2\n",
       "index                           \n",
       "0      2104.0        3.0   1   0\n",
       "1      1600.0        3.0   1   0\n",
       "2      2400.0        3.0   1   0\n",
       "3      1416.0        2.0   0   1\n",
       "4      3000.0        4.0   0   1\n",
       "5      1985.0        4.0   1   0\n",
       "6      1534.0        3.0   0   1\n",
       "7      1427.0        3.0   1   0\n",
       "8      1380.0        3.0   1   0\n",
       "9      1494.0        3.0   1   0"
      ]
     },
     "execution_count": 33,
     "metadata": {},
     "output_type": "execute_result"
    }
   ],
   "source": [
    "df = pd.read_csv('/home/sp838/How_to_use_Tensorflow_for_classification-LIVE/data.csv',header=0, sep=',', index_col=0)\n",
    "df = df.drop(['price','sq_price'],axis=1)\n",
    "df = df[0:10]\n",
    "df['y1'] = [1,1,1,0,0,1,0,1,1,1]\n",
    "df['y2'] = df['y1'] == 0\n",
    "df['y2'] = df['y2'].astype(int)\n",
    "df"
   ]
  },
  {
   "cell_type": "markdown",
   "metadata": {},
   "source": [
    "# Step 3 - prepare data for tensorflow\n",
    "A tensor is a generic version of vectors and matrices etc ie: list of list of list.\n"
   ]
  },
  {
   "cell_type": "code",
   "execution_count": 41,
   "metadata": {
    "collapsed": false
   },
   "outputs": [],
   "source": [
    "# convert features to input tensor\n",
    "inputX = df[['area','bathrooms']].as_matrix()\n",
    "# convert labels to output tensor\n",
    "inputY = df[['y1','y2']].as_matrix()"
   ]
  },
  {
   "cell_type": "markdown",
   "metadata": {},
   "source": [
    "# Step 4 write out hiperparameters "
   ]
  },
  {
   "cell_type": "code",
   "execution_count": 42,
   "metadata": {
    "collapsed": false
   },
   "outputs": [],
   "source": [
    "# Neural Network training hyperparameters (NEED TUNING)\n",
    "learning_rate = 0.000001 #defines how was we reach convergence \n",
    "training_epochs = 2000\n",
    "display_step = 50\n",
    "n_samples = inputY.size"
   ]
  },
  {
   "cell_type": "markdown",
   "metadata": {},
   "source": [
    "# Step 5 create computation graph/neural network"
   ]
  },
  {
   "cell_type": "code",
   "execution_count": 48,
   "metadata": {
    "collapsed": false
   },
   "outputs": [],
   "source": [
    "#create a place holder for our input feature vector/tensor X: None - any number of samples and 2 - since 2 features\n",
    "#placeholders in tf are gateways for data, how we feed data into our computation graph\n",
    "x = tf.placeholder(tf.float32, [None,2])"
   ]
  },
  {
   "cell_type": "code",
   "execution_count": 60,
   "metadata": {
    "collapsed": false
   },
   "outputs": [],
   "source": [
    "# create weights \n",
    "# 2x2 float matrix\n",
    "W = tf.Variable(tf.zeros([2,2]))    #it could be nonzero if we had a pretrained network\n",
    "# variables in tf hold and update parameters UPDATES\n",
    "# in memory buffers containing tensors\n",
    "\n",
    "# add biases 1 per input feature\n",
    "b = tf.Variable(tf.zeros([2]))   #it could initialise randomly\n"
   ]
  },
  {
   "cell_type": "code",
   "execution_count": 61,
   "metadata": {
    "collapsed": false
   },
   "outputs": [],
   "source": [
    "# multiply our weights by our inputs\n",
    "y_values = tf.add(tf.matmul(x,W),b)"
   ]
  },
  {
   "cell_type": "code",
   "execution_count": 65,
   "metadata": {
    "collapsed": false
   },
   "outputs": [],
   "source": [
    "# Apply softmax activation function\n",
    "y = tf.nn.softmax(y_values)\n",
    "# And save answers\n",
    "y_ = tf.placeholder(tf.float32, [None,2])\n"
   ]
  },
  {
   "cell_type": "markdown",
   "metadata": {},
   "source": [
    "# Step 6 define training"
   ]
  },
  {
   "cell_type": "code",
   "execution_count": 66,
   "metadata": {
    "collapsed": false
   },
   "outputs": [],
   "source": [
    "# create our cost function, mean squared error\n",
    "# reduce sum computes the sum of elements across dimensions of a tensor\n",
    "cost = tf.reduce_sum(tf.pow(y_ - y,2))/(2*n_samples)\n",
    "# gradient descent \n",
    "optimizer = tf.train.GradientDescentOptimizer(learning_rate).minimize(cost)"
   ]
  },
  {
   "cell_type": "markdown",
   "metadata": {},
   "source": [
    "# Step 7 start training, initialize variables  and tensorflow session"
   ]
  },
  {
   "cell_type": "code",
   "execution_count": 70,
   "metadata": {
    "collapsed": false
   },
   "outputs": [],
   "source": [
    "init = tf.global_variables_initializer()\n",
    "sess = tf.Session()\n",
    "sess.run(init)"
   ]
  },
  {
   "cell_type": "code",
   "execution_count": 80,
   "metadata": {
    "collapsed": false
   },
   "outputs": [
    {
     "name": "stdout",
     "output_type": "stream",
     "text": [
      "cost = 0.109523631632\n",
      "cost = 0.109523572028\n",
      "cost = 0.109523497522\n",
      "cost = 0.109523437917\n",
      "cost = 0.109523370862\n",
      "cost = 0.109523296356\n",
      "cost = 0.10952322185\n",
      "cost = 0.109523154795\n",
      "cost = 0.109523095191\n",
      "cost = 0.109523020685\n",
      "cost = 0.10952296108\n",
      "cost = 0.109522894025\n",
      "cost = 0.109522819519\n",
      "cost = 0.109522745013\n",
      "cost = 0.109522677958\n",
      "cost = 0.109522603452\n",
      "cost = 0.109522558749\n",
      "cost = 0.109522476792\n",
      "cost = 0.109522417188\n",
      "cost = 0.109522342682\n",
      "cost = 0.109522268176\n",
      "cost = 0.109522201121\n",
      "cost = 0.109522141516\n",
      "cost = 0.10952206701\n",
      "cost = 0.109522007406\n",
      "cost = 0.109521940351\n",
      "cost = 0.109521865845\n",
      "cost = 0.109521791339\n",
      "cost = 0.109521724284\n",
      "cost = 0.10952167213\n",
      "cost = 0.109521590173\n",
      "cost = 0.109521530569\n",
      "cost = 0.109521448612\n",
      "cost = 0.109521389008\n",
      "cost = 0.109521314502\n",
      "cost = 0.109521247447\n",
      "cost = 0.109521172941\n",
      "cost = 0.109521113336\n",
      "cost = 0.109521053731\n",
      "cost = 0.109520986676\n",
      "0.109521\n",
      "[[ 0.00021353 -0.00021353]\n",
      " [ 0.00035661 -0.00035661]]\n",
      "[  8.26629112e-05  -8.26629184e-05]\n"
     ]
    }
   ],
   "source": [
    "for i in range(training_epochs):\n",
    "    sess.run(optimizer,feed_dict={x:inputX, y_: inputY})\n",
    "    #write out logs of training\n",
    "    if (i) % display_step == 0:\n",
    "        cc = sess.run(cost,feed_dict={x:inputX, y_: inputY})\n",
    "        print \"cost = {}\".format(cc)\n",
    "training_cost = sess.run (cost,feed_dict={x:inputX, y_: inputY})\n",
    "\n",
    "print training_cost\n",
    "print sess.run(W)\n",
    "print sess.run(b)"
   ]
  },
  {
   "cell_type": "markdown",
   "metadata": {},
   "source": [
    "# Step 8 test the model"
   ]
  },
  {
   "cell_type": "code",
   "execution_count": 83,
   "metadata": {
    "collapsed": false
   },
   "outputs": [
    {
     "data": {
      "text/plain": [
       "array([[ 0.71112382,  0.28887618],\n",
       "       [ 0.66498917,  0.3350108 ],\n",
       "       [ 0.73638427,  0.26361573],\n",
       "       [ 0.64709973,  0.3529003 ],\n",
       "       [ 0.78316581,  0.21683425],\n",
       "       [ 0.70072258,  0.29927745],\n",
       "       [ 0.65868098,  0.34131905],\n",
       "       [ 0.64833438,  0.35166562],\n",
       "       [ 0.64374453,  0.3562555 ],\n",
       "       [ 0.6548301 ,  0.34516987]], dtype=float32)"
      ]
     },
     "execution_count": 83,
     "metadata": {},
     "output_type": "execute_result"
    }
   ],
   "source": [
    "# generate predictions\n",
    "sess.run(y, feed_dict={x:inputX}) \n",
    "# it's saying all houses are good cause first column is the bigger than 0.5"
   ]
  },
  {
   "cell_type": "code",
   "execution_count": null,
   "metadata": {
    "collapsed": true
   },
   "outputs": [],
   "source": []
  }
 ],
 "metadata": {
  "anaconda-cloud": {},
  "kernelspec": {
   "display_name": "Python [default]",
   "language": "python",
   "name": "python2"
  },
  "language_info": {
   "codemirror_mode": {
    "name": "ipython",
    "version": 2
   },
   "file_extension": ".py",
   "mimetype": "text/x-python",
   "name": "python",
   "nbconvert_exporter": "python",
   "pygments_lexer": "ipython2",
   "version": "2.7.12"
  }
 },
 "nbformat": 4,
 "nbformat_minor": 2
}
