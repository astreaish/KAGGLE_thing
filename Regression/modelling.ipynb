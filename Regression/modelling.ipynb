{
 "cells": [
  {
   "cell_type": "code",
   "execution_count": 1,
   "metadata": {
    "collapsed": true
   },
   "outputs": [],
   "source": [
    "import csv\n",
    "import numpy as np \n",
    "import pandas as pd \n",
    "import random\n",
    "import matplotlib.pyplot as plt\n",
    "# sklearn modules\n",
    "from sklearn import preprocessing\n",
    "from sklearn.model_selection import train_test_split\n",
    "from sklearn.model_selection import ShuffleSplit\n",
    "from sklearn.decomposition import PCA\n",
    "from sklearn.svm import SVR\n",
    "# Metric mean squared error, the lower the better\n",
    "from sklearn.metrics import mean_squared_error\n",
    "\n",
    "def read_csv(csv_file):\n",
    "    '''Returns numpy array and panda version of the file'''\n",
    "    csv_file = csv_file +\".csv\"\n",
    "    df = pd.DataFrame()\n",
    "    df = df.from_csv(csv_file, header=0, sep=',', index_col=0)\n",
    "#n=df.shape[0] # number of samples\n",
    "#d=df.shape[1] # number of features\n",
    "    array = np.asarray(df,dtype=\"|S6\")\n",
    "    if np.shape(array)[1] == 1:\n",
    "        array = array.ravel()\n",
    "    return array, df\n",
    "\n",
    "def publish_pred(y_pred, file_name):\n",
    "    df = pd.DataFrame()\n",
    "    df = df.from_csv(\"reg_sample_submission.csv\", header=0, sep=',', index_col=0)\n",
    "    df[\"Output\"] = list(y_pred)\n",
    "    df.to_csv(file_name)\n",
    "\n",
    "tr_in, df_in = read_csv(\"reg_train_in\")\n",
    "tr_in = np.asarray(tr_in,dtype=\"float64\")\n",
    "tr_out, df_out = read_csv(\"reg_train_out\")\n",
    "tr_out = np.asarray(tr_out,dtype=\"float64\")\n",
    "te_in, df = read_csv(\"reg_test_in\") # Still have to deal with NaNs best"
   ]
  },
  {
   "cell_type": "markdown",
   "metadata": {},
   "source": [
    "# Cleanning data"
   ]
  },
  {
   "cell_type": "code",
   "execution_count": 2,
   "metadata": {
    "collapsed": true
   },
   "outputs": [],
   "source": [
    "X = preprocessing.scale(tr_in)# Clean (mean 0, variance 1) data-set\n",
    "y = tr_out"
   ]
  },
  {
   "cell_type": "markdown",
   "metadata": {},
   "source": [
    "# Test-data with replacements"
   ]
  },
  {
   "cell_type": "code",
   "execution_count": 3,
   "metadata": {
    "collapsed": true
   },
   "outputs": [],
   "source": [
    "mean_tr = np.mean(tr_in,axis = 0)\n",
    "std_tr = np.std(tr_in,axis = 0)\n",
    "df = pd.DataFrame()\n",
    "df = df.from_csv(\"reg_test_gp.csv\", header=None, sep=',', index_col=None)\n",
    "te_gp= np.asarray(df,dtype=\"float64\")\n",
    "X_test = np.divide(np.add(te_gp,-mean_tr),std_tr)"
   ]
  },
  {
   "cell_type": "markdown",
   "metadata": {},
   "source": [
    "# Split data: train & test (5-fold cv)"
   ]
  },
  {
   "cell_type": "code",
   "execution_count": 4,
   "metadata": {
    "collapsed": false
   },
   "outputs": [
    {
     "name": "stdout",
     "output_type": "stream",
     "text": [
      "('TRAIN:', 22230, 'TEST:', 11970)\n"
     ]
    }
   ],
   "source": [
    "cv = ShuffleSplit(n_splits=1,  test_size=0.35, random_state=random.randint(0,20), train_size=None) # 10_splits\n",
    "for train_index, test_index in cv.split(X):\n",
    "    print(\"TRAIN:\", len(list(train_index)), \"TEST:\", len(test_index))"
   ]
  },
  {
   "cell_type": "code",
   "execution_count": 5,
   "metadata": {
    "collapsed": false
   },
   "outputs": [],
   "source": [
    "X_train , y_train = X[train_index], y[train_index]\n",
    "Xs , ys = X[test_index], y[test_index]"
   ]
  },
  {
   "cell_type": "markdown",
   "metadata": {},
   "source": [
    "# Dimensionality reduction: 4-comp PCA"
   ]
  },
  {
   "cell_type": "code",
   "execution_count": 6,
   "metadata": {
    "collapsed": false
   },
   "outputs": [
    {
     "name": "stdout",
     "output_type": "stream",
     "text": [
      "Variance taken by each of the principal components [ 0.76459237  0.07244221  0.07189891  0.07092882]\n"
     ]
    }
   ],
   "source": [
    "pca = PCA(n_components=4)\n",
    "pca.fit(X_train)\n",
    "print \"Variance taken by each of the principal components\", pca.explained_variance_ratio_\n",
    "Z_train = pca.transform(X_train)\n",
    "Zs = pca.transform(Xs)"
   ]
  },
  {
   "cell_type": "code",
   "execution_count": 7,
   "metadata": {
    "collapsed": false
   },
   "outputs": [
    {
     "name": "stdout",
     "output_type": "stream",
     "text": [
      "Variance taken by each of the principal components [ 0.76530528  0.07220808  0.07137663  0.07086174]\n"
     ]
    }
   ],
   "source": [
    "pca = PCA(n_components=4)\n",
    "pca.fit(X)\n",
    "print \"Variance taken by each of the principal components\", pca.explained_variance_ratio_\n",
    "Z = pca.transform(X)\n",
    "Z_test = pca.transform(X_test)"
   ]
  },
  {
   "cell_type": "markdown",
   "metadata": {},
   "source": [
    "# Cross-validation function"
   ]
  },
  {
   "cell_type": "code",
   "execution_count": 8,
   "metadata": {
    "collapsed": false
   },
   "outputs": [],
   "source": [
    "def cross_validation(tr_in, tr_out, regression_type, test_percent, folds):\n",
    "    cv = ShuffleSplit(n_splits=folds,  test_size=test_percent, random_state=random.randint(0,20), train_size=None)\n",
    "    scores = [50]\n",
    "    for train_index, test_index in cv.split(X):\n",
    "        X_train = X[train_index]\n",
    "        y_train = y[train_index]\n",
    "        X_test = X[test_index]\n",
    "        y_test = y[test_index]\n",
    "        pca = PCA(n_components=4)\n",
    "        pca.fit(X_train)\n",
    "        Z = pca.transform(X_train)\n",
    "        Z_test = pca.transform(X_test)\n",
    "        regression_type.fit(Z, y_train)\n",
    "        y_pred = regression_type.predict(Z_test)\n",
    "        score = mean_squared_error(y_test, y_pred)\n",
    "        print score\n",
    "        if score < min(scores+[50]):\n",
    "            regression = regression_type\n",
    "            best_score = score\n",
    "        scores.append(score)\n",
    "    results = [np.mean(scores), regression, best_score]\n",
    "    return results"
   ]
  },
  {
   "cell_type": "code",
   "execution_count": 9,
   "metadata": {
    "collapsed": false
   },
   "outputs": [],
   "source": [
    "#regression = SVR(kernel='linear')\n",
    "#cross_validation(tr_in, tr_out, regression, 0.2, 5)"
   ]
  },
  {
   "cell_type": "markdown",
   "metadata": {},
   "source": [
    "# Exp 1: lasso"
   ]
  },
  {
   "cell_type": "markdown",
   "metadata": {},
   "source": [
    "# Exp 2: SVR linear\n"
   ]
  },
  {
   "cell_type": "code",
   "execution_count": 9,
   "metadata": {
    "collapsed": false
   },
   "outputs": [
    {
     "data": {
      "text/plain": [
       "SVR(C=1.0, cache_size=200, coef0=0.0, degree=3, epsilon=0.1, gamma='auto',\n",
       "  kernel='linear', max_iter=-1, shrinking=True, tol=0.001, verbose=False)"
      ]
     },
     "execution_count": 9,
     "metadata": {},
     "output_type": "execute_result"
    }
   ],
   "source": [
    "from sklearn.svm import SVR\n",
    "regression = SVR(kernel='linear')\n",
    "regression.fit(Z_train, y_train)"
   ]
  },
  {
   "cell_type": "code",
   "execution_count": 62,
   "metadata": {
    "collapsed": false
   },
   "outputs": [
    {
     "name": "stdout",
     "output_type": "stream",
     "text": [
      "0.976873892727\n"
     ]
    }
   ],
   "source": [
    "y_pred = regression.predict(Zs)\n",
    "score = mean_squared_error(ys, y_pred)\n",
    "print score"
   ]
  },
  {
   "cell_type": "markdown",
   "metadata": {},
   "source": [
    "# Exp 3: SVR rbf"
   ]
  },
  {
   "cell_type": "code",
   "execution_count": 34,
   "metadata": {
    "collapsed": false
   },
   "outputs": [
    {
     "name": "stdout",
     "output_type": "stream",
     "text": [
      "0.69081530806\n"
     ]
    }
   ],
   "source": [
    "from sklearn.svm import SVR\n",
    "regression = SVR(kernel='rbf')\n",
    "regression.fit(Z_train, y_train)\n",
    "y_pred = regression.predict(Zs)\n",
    "score = mean_squared_error(y_test, y_pred)\n",
    "print np.sqrt(score)"
   ]
  },
  {
   "cell_type": "code",
   "execution_count": 10,
   "metadata": {
    "collapsed": false
   },
   "outputs": [
    {
     "data": {
      "text/plain": [
       "SVR(C=1.0, cache_size=200, coef0=0.0, degree=3, epsilon=0.1, gamma='auto',\n",
       "  kernel='rbf', max_iter=-1, shrinking=True, tol=0.001, verbose=False)"
      ]
     },
     "execution_count": 10,
     "metadata": {},
     "output_type": "execute_result"
    }
   ],
   "source": [
    "regression = SVR(kernel='rbf')\n",
    "regression.fit(Z, y)"
   ]
  },
  {
   "cell_type": "code",
   "execution_count": 12,
   "metadata": {
    "collapsed": false
   },
   "outputs": [
    {
     "name": "stdout",
     "output_type": "stream",
     "text": [
      "0.674454061824\n"
     ]
    }
   ],
   "source": [
    "y_pred_test = regression.predict(Z_test)\n",
    "y_pred = regression.predict(Z)\n",
    "score = mean_squared_error(y, y_pred)\n",
    "print np.sqrt(score)\n",
    "publish_pred(y_pred_test, \"reg_pred.csv\")\n"
   ]
  },
  {
   "cell_type": "code",
   "execution_count": null,
   "metadata": {
    "collapsed": true
   },
   "outputs": [],
   "source": []
  }
 ],
 "metadata": {
  "anaconda-cloud": {},
  "kernelspec": {
   "display_name": "Python [conda env:Python]",
   "language": "python",
   "name": "conda-env-Python-py"
  },
  "language_info": {
   "codemirror_mode": {
    "name": "ipython",
    "version": 2
   },
   "file_extension": ".py",
   "mimetype": "text/x-python",
   "name": "python",
   "nbconvert_exporter": "python",
   "pygments_lexer": "ipython2",
   "version": "2.7.12"
  }
 },
 "nbformat": 4,
 "nbformat_minor": 2
}
