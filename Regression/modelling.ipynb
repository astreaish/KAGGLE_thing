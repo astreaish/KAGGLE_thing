{
 "cells": [
  {
   "cell_type": "code",
   "execution_count": 46,
   "metadata": {
    "collapsed": true
   },
   "outputs": [],
   "source": [
    "import csv\n",
    "import numpy as np \n",
    "import pandas as pd \n",
    "import random\n",
    "import matplotlib.pyplot as plt\n",
    "# sklearn modules\n",
    "from sklearn import preprocessing\n",
    "from sklearn.model_selection import train_test_split\n",
    "from sklearn.model_selection import ShuffleSplit\n",
    "from sklearn.decomposition import PCA\n",
    "from sklearn.svm import SVR\n",
    "# Metric mean squared error, the lower the better\n",
    "from sklearn.metrics import mean_squared_error\n",
    "\n",
    "def read_csv(csv_file):\n",
    "    '''Returns numpy array and panda version of the file'''\n",
    "    csv_file = csv_file +\".csv\"\n",
    "    df = pd.DataFrame()\n",
    "    df = df.from_csv(csv_file, header=0, sep=',', index_col=0)\n",
    "#n=df.shape[0] # number of samples\n",
    "#d=df.shape[1] # number of features\n",
    "    array = np.asarray(df,dtype=\"|S6\")\n",
    "    if np.shape(array)[1] == 1:\n",
    "        array = array.ravel()\n",
    "    return array, df\n",
    "\n",
    "def publish_pred(y_pred, file_name):\n",
    "    df = pd.DataFrame()\n",
    "    df = df.from_csv(\"reg_sample_submission.csv\", header=0, sep=',', index_col=0)\n",
    "    df[\"Output\"] = list(y_pred)\n",
    "    df.to_csv(file_name)\n",
    "\n",
    "tr_in, df_in = read_csv(\"reg_train_in\")\n",
    "tr_in = np.asarray(tr_in,dtype=\"float64\")\n",
    "tr_out, df_out = read_csv(\"reg_train_out\")\n",
    "tr_out = np.asarray(tr_out,dtype=\"float64\")\n",
    "te_in, df = read_csv(\"reg_test_in\") # Still have to deal with NaNs best"
   ]
  },
  {
   "cell_type": "markdown",
   "metadata": {},
   "source": [
    "# Cleanning data"
   ]
  },
  {
   "cell_type": "code",
   "execution_count": 2,
   "metadata": {
    "collapsed": true
   },
   "outputs": [],
   "source": [
    "tr_mean = tr_in.mean(axis=0)\n",
    "tr_std = tr_in.std(axis=0)\n",
    "tr_in_scaled = preprocessing.scale(tr_in)  # Clean (mean 0, variance 1) data-set"
   ]
  },
  {
   "cell_type": "markdown",
   "metadata": {},
   "source": [
    "# Split data: train & test (5-fold cv)"
   ]
  },
  {
   "cell_type": "code",
   "execution_count": 3,
   "metadata": {
    "collapsed": false
   },
   "outputs": [
    {
     "name": "stdout",
     "output_type": "stream",
     "text": [
      "('TRAIN:', 27360, 'TEST:', 6840)\n"
     ]
    }
   ],
   "source": [
    "cv = ShuffleSplit(n_splits=1,  test_size=0.20, random_state=random.randint(0,20), train_size=None) # 10_splits\n",
    "for train_index, test_index in cv.split(tr_in_scaled):\n",
    "    print(\"TRAIN:\", len(list(train_index)), \"TEST:\", len(test_index))"
   ]
  },
  {
   "cell_type": "code",
   "execution_count": 4,
   "metadata": {
    "collapsed": false
   },
   "outputs": [
    {
     "data": {
      "text/plain": [
       "(6840,)"
      ]
     },
     "execution_count": 4,
     "metadata": {},
     "output_type": "execute_result"
    }
   ],
   "source": [
    "X_train = tr_in_scaled[train_index]\n",
    "y_train = tr_out[train_index]\n",
    "X_test = tr_in_scaled[test_index]\n",
    "y_test = tr_out[test_index]\n",
    "np.shape(y_test)"
   ]
  },
  {
   "cell_type": "markdown",
   "metadata": {},
   "source": [
    "# Dimensionality reduction: 4-comp PCA"
   ]
  },
  {
   "cell_type": "code",
   "execution_count": 5,
   "metadata": {
    "collapsed": false
   },
   "outputs": [
    {
     "name": "stdout",
     "output_type": "stream",
     "text": [
      "Variance taken by each of the principal components [ 0.76477684  0.07234427  0.07163393  0.07100756]\n"
     ]
    }
   ],
   "source": [
    "pca = PCA(n_components=4)\n",
    "pca.fit(X_train)\n",
    "print \"Variance taken by each of the principal components\", pca.explained_variance_ratio_\n",
    "X_tr_pca = pca.transform(X_train)\n",
    "X_test_pca = pca.transform(X_test)"
   ]
  },
  {
   "cell_type": "markdown",
   "metadata": {},
   "source": [
    "# Exp 1: lasso"
   ]
  },
  {
   "cell_type": "markdown",
   "metadata": {},
   "source": [
    "# Exp 2: SVR linear\n"
   ]
  },
  {
   "cell_type": "code",
   "execution_count": 96,
   "metadata": {
    "collapsed": false
   },
   "outputs": [
    {
     "data": {
      "text/plain": [
       "SVR(C=1.0, cache_size=200, coef0=0.0, degree=3, epsilon=0.1, gamma='auto',\n",
       "  kernel='linear', max_iter=-1, shrinking=True, tol=0.001, verbose=False)"
      ]
     },
     "execution_count": 96,
     "metadata": {},
     "output_type": "execute_result"
    }
   ],
   "source": [
    "from sklearn.svm import SVR\n",
    "regression = SVR(kernel='linear')\n",
    "regression.fit(X_tr_pca, y_train)"
   ]
  },
  {
   "cell_type": "code",
   "execution_count": 97,
   "metadata": {
    "collapsed": false
   },
   "outputs": [
    {
     "name": "stdout",
     "output_type": "stream",
     "text": [
      "0.968108147417\n"
     ]
    }
   ],
   "source": [
    "y_pred = regression.predict(X_test_pca)\n",
    "score = mean_squared_error(y_test, y_pred)\n",
    "print score"
   ]
  },
  {
   "cell_type": "markdown",
   "metadata": {},
   "source": [
    "# Exp 3: SVR rbf"
   ]
  },
  {
   "cell_type": "code",
   "execution_count": 69,
   "metadata": {
    "collapsed": false
   },
   "outputs": [
    {
     "name": "stdout",
     "output_type": "stream",
     "text": [
      "0.468455379458\n"
     ]
    }
   ],
   "source": [
    "from sklearn.svm import SVR\n",
    "regression = SVR(kernel='rbf')\n",
    "regression.fit(X_tr_pca, y_train)\n",
    "y_pred = regression.predict(X_test_pca)\n",
    "score = mean_squared_error(y_test, y_pred)\n",
    "print score"
   ]
  },
  {
   "cell_type": "markdown",
   "metadata": {},
   "source": [
    "# Cross-validation function"
   ]
  },
  {
   "cell_type": "code",
   "execution_count": 94,
   "metadata": {
    "collapsed": false
   },
   "outputs": [],
   "source": [
    "def cross_validation(tr_in, tr_out, regression_type, test_percent, folds):\n",
    "    cv = ShuffleSplit(n_splits=folds,  test_size=test_percent, random_state=random.randint(0,20), train_size=None)\n",
    "    scores = [50]\n",
    "    for train_index, test_index in cv.split(X):\n",
    "        X_train = tr_in_scaled[train_index]\n",
    "        y_train = tr_out[train_index]\n",
    "        X_test = tr_in_scaled[test_index]\n",
    "        y_test = tr_out[test_index]\n",
    "        pca = PCA(n_components=4)\n",
    "        pca.fit(X_train)\n",
    "        X_tr_pca = pca.transform(X_train)\n",
    "        X_test_pca = pca.transform(X_test)\n",
    "        regression_type.fit(X_tr_pca, y_train)\n",
    "        y_pred = regression_type.predict(X_test_pca)\n",
    "        score = mean_squared_error(y_test, y_pred)\n",
    "        print score\n",
    "        if score < min(scores+[50]):\n",
    "            regression = regression_type\n",
    "            best_score = score\n",
    "        scores.append(score)\n",
    "    results = [np.mean(scores), regression, best_score]\n",
    "    return results"
   ]
  },
  {
   "cell_type": "code",
   "execution_count": 81,
   "metadata": {
    "collapsed": false
   },
   "outputs": [
    {
     "name": "stdout",
     "output_type": "stream",
     "text": [
      "0.967134987146\n",
      "0.983332714343\n",
      "0.982830039698\n",
      "0.980513834457\n",
      "0.958039434238\n"
     ]
    }
   ],
   "source": [
    "regression = SVR(kernel='linear')\n",
    "cross_validation(tr_in, tr_out, regression, 0.2, 5)"
   ]
  },
  {
   "cell_type": "code",
   "execution_count": null,
   "metadata": {
    "collapsed": true
   },
   "outputs": [],
   "source": []
  },
  {
   "cell_type": "code",
   "execution_count": 29,
   "metadata": {
    "collapsed": false
   },
   "outputs": [],
   "source": [
    "mean_tr = np.mean(tr_in,axis = 0)\n",
    "std_tr = np.std(tr_in,axis = 0)"
   ]
  },
  {
   "cell_type": "code",
   "execution_count": 40,
   "metadata": {
    "collapsed": false
   },
   "outputs": [],
   "source": [
    "df = pd.DataFrame()\n",
    "df = df.from_csv(\"reg_test_gp.csv\", header=None, sep=',', index_col=None)\n",
    "te_gp= np.asarray(df,dtype=\"float64\")\n",
    "X_test = np.divide(np.add(te_gp,-mean_tr),std_tr)\n",
    "\n",
    "pca = PCA(n_components=4)\n",
    "pca.fit(tr_in)\n",
    "Z = pca.transform(tr_in)\n",
    "Z_test = pca.transform(X_test)\n",
    "\n"
   ]
  },
  {
   "cell_type": "code",
   "execution_count": 41,
   "metadata": {
    "collapsed": false
   },
   "outputs": [],
   "source": [
    "from sklearn.svm import SVR\n",
    "regression = SVR(kernel='rbf')\n",
    "regression.fit(Z, tr_out)\n",
    "y_pred = regression.predict(Z_test)\n",
    "\n",
    "publish_pred(y_pred, \"reg_pre\")"
   ]
  },
  {
   "cell_type": "code",
   "execution_count": 45,
   "metadata": {
    "collapsed": false
   },
   "outputs": [
    {
     "ename": "SyntaxError",
     "evalue": "invalid syntax (<ipython-input-45-edd6c92da89f>, line 1)",
     "output_type": "error",
     "traceback": [
      "\u001b[0;36m  File \u001b[0;32m\"<ipython-input-45-edd6c92da89f>\"\u001b[0;36m, line \u001b[0;32m1\u001b[0m\n\u001b[0;31m    def publish_pred(y_pred, file_name)\u001b[0m\n\u001b[0m                                       ^\u001b[0m\n\u001b[0;31mSyntaxError\u001b[0m\u001b[0;31m:\u001b[0m invalid syntax\n"
     ]
    }
   ],
   "source": []
  },
  {
   "cell_type": "code",
   "execution_count": 30,
   "metadata": {
    "collapsed": false
   },
   "outputs": [
    {
     "data": {
      "text/plain": [
       "(14,)"
      ]
     },
     "execution_count": 30,
     "metadata": {},
     "output_type": "execute_result"
    }
   ],
   "source": [
    "np.shape(mean_tr)"
   ]
  },
  {
   "cell_type": "code",
   "execution_count": null,
   "metadata": {
    "collapsed": true
   },
   "outputs": [],
   "source": []
  }
 ],
 "metadata": {
  "anaconda-cloud": {},
  "kernelspec": {
   "display_name": "Python [conda env:Python]",
   "language": "python",
   "name": "conda-env-Python-py"
  },
  "language_info": {
   "codemirror_mode": {
    "name": "ipython",
    "version": 2
   },
   "file_extension": ".py",
   "mimetype": "text/x-python",
   "name": "python",
   "nbconvert_exporter": "python",
   "pygments_lexer": "ipython2",
   "version": "2.7.12"
  }
 },
 "nbformat": 4,
 "nbformat_minor": 2
}
