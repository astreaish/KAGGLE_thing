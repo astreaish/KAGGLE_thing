{
 "cells": [
  {
   "cell_type": "code",
   "execution_count": 3,
   "metadata": {
    "collapsed": true
   },
   "outputs": [],
   "source": [
    "import csv\n",
    "import numpy as np \n",
    "import pandas as pd \n",
    "import random\n",
    "import matplotlib.pyplot as plt\n",
    "# sklearn modules\n",
    "from sklearn import preprocessing\n",
    "from sklearn.model_selection import train_test_split\n",
    "from sklearn.model_selection import ShuffleSplit\n",
    "from sklearn.decomposition import PCA\n",
    "from sklearn.svm import SVR\n",
    "# Metric mean squared error, the lower the better\n",
    "from sklearn.metrics import mean_squared_error\n",
    "\n",
    "\n",
    "def read_csv(csv_file):\n",
    "    '''Returns numpy array and panda version of the file'''\n",
    "    csv_file = csv_file +\".csv\"\n",
    "    df = pd.DataFrame()\n",
    "    df = df.from_csv(csv_file, header=0, sep=',', index_col=0)\n",
    "#n=df.shape[0] # number of samples\n",
    "#d=df.shape[1] # number of features\n",
    "    array = np.asarray(df,dtype=\"|S6\")\n",
    "    if np.shape(array)[1] == 1:\n",
    "        array = array.ravel()\n",
    "    return array, df\n",
    "\n",
    "tr_in, df_in = read_csv(\"reg_train_in\")\n",
    "tr_in = np.asarray(tr_in,dtype=\"float64\")\n",
    "tr_out, df_out = read_csv(\"reg_train_out\")\n",
    "tr_out = np.asarray(tr_out,dtype=\"float64\")\n",
    "te_in, df = read_csv(\"reg_test_in\") # Still have to deal with NaNs best"
   ]
  },
  {
   "cell_type": "code",
   "execution_count": 5,
   "metadata": {
    "collapsed": false
   },
   "outputs": [
    {
     "name": "stdout",
     "output_type": "stream",
     "text": [
      "('TRAIN:', 27360, 'TEST:', 6840)\n"
     ]
    }
   ],
   "source": [
    "tr_mean = tr_in.mean(axis=0)\n",
    "tr_std = tr_in.std(axis=0)\n",
    "tr_in_scaled = preprocessing.scale(tr_in)  # Clean (mean 0, variance 1) data-set\n",
    "cv = ShuffleSplit(n_splits=1,  test_size=0.20, random_state=random.randint(0,20), train_size=None) # 10_splits\n",
    "for train_index, test_index in cv.split(tr_in_scaled):\n",
    "    print(\"TRAIN:\", len(list(train_index)), \"TEST:\", len(test_index))\n",
    "X_train = tr_in_scaled[train_index]\n",
    "y_train = tr_out[train_index]\n",
    "X_test = tr_in_scaled[test_index]\n",
    "y_test = tr_out[test_index]\n"
   ]
  },
  {
   "cell_type": "markdown",
   "metadata": {},
   "source": [
    "# Dim reduction using ICA and PCA shit!"
   ]
  },
  {
   "cell_type": "code",
   "execution_count": 6,
   "metadata": {
    "collapsed": true
   },
   "outputs": [],
   "source": [
    "from sklearn.decomposition import FastICA\n",
    "def dim_reduction(X_train):\n",
    "    X_train = preprocessing.scale(X_train)\n",
    "    corr_feat = [0,1,2,3,4,5,7,8,9,11,12,13]\n",
    "    other_feat = [0,6,10]# and 7 and 11\n",
    "    pca2 = PCA(n_components=2)\n",
    "    pca2.fit(X_train[:,corr_feat])\n",
    "    corr_feat_pca = pca2.transform(X_train[:,corr_feat])\n",
    "    ica = FastICA(n_components=2)\n",
    "    ica.fit(X_train[:,corr_feat])\n",
    "    other_feat_ica = pca2.transform(X_train[:,corr_feat])\n",
    "    A = preprocessing.scale(other_feat_ica)\n",
    "    B = preprocessing.scale(corr_feat_pca)\n",
    "    X_after = np.concatenate((A, B), axis=1)\n",
    "    return X_after"
   ]
  },
  {
   "cell_type": "code",
   "execution_count": 7,
   "metadata": {
    "collapsed": false
   },
   "outputs": [
    {
     "name": "stdout",
     "output_type": "stream",
     "text": [
      "0.970522943562\n"
     ]
    }
   ],
   "source": [
    "X_after = dim_reduction(X_train)\n",
    "X_test_after = dim_reduction(X_test)\n",
    "regression = SVR(kernel='linear')\n",
    "regression.fit(X_after, y_train)\n",
    "y_pred = regression.predict(X_test_after)\n",
    "score = mean_squared_error(y_test, y_pred)\n",
    "print score"
   ]
  },
  {
   "cell_type": "markdown",
   "metadata": {},
   "source": [
    "# Lasso PCA = without PCA?"
   ]
  },
  {
   "cell_type": "code",
   "execution_count": null,
   "metadata": {
    "collapsed": true
   },
   "outputs": [],
   "source": [
    "from sklearn.linear_model import Lasso\n",
    "regression = Lasso()\n",
    "regression.fit(X_train, y_train)\n",
    "y_pred = regression.predict(X_test)\n",
    "score = mean_squared_error(y_test, y_pred)\n",
    "print score\n",
    "from sklearn.linear_model import Lasso\n",
    "regression = Lasso()\n",
    "regression.fit(X_tr_pca, y_train)\n",
    "y_pred = regression.predict(X_test_pca)\n",
    "score = mean_squared_error(y_test, y_pred)\n",
    "print score"
   ]
  }
 ],
 "metadata": {
  "anaconda-cloud": {},
  "kernelspec": {
   "display_name": "Python [conda env:Python]",
   "language": "python",
   "name": "conda-env-Python-py"
  },
  "language_info": {
   "codemirror_mode": {
    "name": "ipython",
    "version": 2
   },
   "file_extension": ".py",
   "mimetype": "text/x-python",
   "name": "python",
   "nbconvert_exporter": "python",
   "pygments_lexer": "ipython2",
   "version": "2.7.12"
  }
 },
 "nbformat": 4,
 "nbformat_minor": 2
}
