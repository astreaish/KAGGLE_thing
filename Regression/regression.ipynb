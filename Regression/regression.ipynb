{
 "cells": [
  {
   "cell_type": "code",
   "execution_count": 6,
   "metadata": {
    "collapsed": false
   },
   "outputs": [
    {
     "name": "stderr",
     "output_type": "stream",
     "text": [
      "/home/sp838/miniconda2/envs/Python/lib/python2.7/site-packages/sklearn/cross_validation.py:44: DeprecationWarning: This module was deprecated in version 0.18 in favor of the model_selection module into which all the refactored classes and functions are moved. Also note that the interface of the new CV iterators are different from that of this module. This module will be removed in 0.20.\n",
      "  \"This module will be removed in 0.20.\", DeprecationWarning)\n"
     ]
    },
    {
     "name": "stdout",
     "output_type": "stream",
     "text": [
      "34200\n",
      "34200\n",
      "1800\n"
     ]
    }
   ],
   "source": [
    "from sklearn.svm import SVR\n",
    "#from PIL import Image\n",
    "import numpy as np\n",
    "from numpy import *\n",
    "import matplotlib.pyplot as plt\n",
    "import pandas as pd\n",
    "import csv\n",
    "#from PIL import Image\n",
    "import numpy as np\n",
    "from numpy import *\n",
    "from sklearn import preprocessing as prep\n",
    "from mpl_toolkits.mplot3d import Axes3D\n",
    "from matplotlib.colors import ListedColormap\n",
    "from sklearn.decomposition import PCA\n",
    "import matplotlib.pyplot as plt\n",
    "import sklearn.cross_validation as crval\n",
    "from sklearn.naive_bayes import GaussianNB\n",
    "from sklearn.datasets import fetch_mldata\n",
    "from scipy.interpolate import interp1d\n",
    "from sklearn.svm import LinearSVC\n",
    "from sklearn.svm import SVC\n",
    "import pylab\n",
    "import csv\n",
    "from sklearn.cross_validation import *\n",
    "from sklearn.linear_model import * \n",
    "from sklearn import neighbors\n",
    "#file = 'reg_train_in.csv'\n",
    "#tr_in1 = np.genfromtxt(file, delimiter = ',', filling_values = np.nan, names = True, dtype = type(None))\n",
    "#print len(tr_in1)\n",
    "\n",
    "\n",
    "tr_in=[]\n",
    "fp=open('reg_train_in.csv','r')\n",
    "trash=fp.readline()\n",
    "#print trash\n",
    "lines=fp.readlines()\n",
    "print len(lines)\n",
    "for line in lines:\n",
    "    data=line.split(',')\n",
    "    cleaned_data=data[1:len(data)]\n",
    "    tr_in.append(cleaned_data)\n",
    "\n",
    "tr_out=[]\n",
    "fp=open('reg_train_out.csv','r')\n",
    "trash=fp.readline()\n",
    "#print trash\n",
    "lines=fp.readlines()\n",
    "print len(lines)\n",
    "for line in lines:\n",
    "    data=line.split(',')\n",
    "    cleaned_data=data[1:len(data)]\n",
    "    tr_out.append(cleaned_data)\n",
    "\n",
    "te_in=[]\n",
    "fp=open('reg_test_in.csv','r')\n",
    "trash=fp.readline()\n",
    "#print trash\n",
    "lines=fp.readlines()\n",
    "print len(lines)\n",
    "for line in lines:\n",
    "    data=line.split(',')\n",
    "    cleaned_data=data[1:len(data)]\n",
    "    te_in.append(cleaned_data)"
   ]
  },
  {
   "cell_type": "code",
   "execution_count": 7,
   "metadata": {
    "collapsed": false
   },
   "outputs": [
    {
     "name": "stdout",
     "output_type": "stream",
     "text": [
      "(478800,)\n",
      "(34200,)\n",
      "(25200,)\n"
     ]
    }
   ],
   "source": [
    "# build arrays\n",
    "\n",
    "tr_in=np.asarray(tr_in)\n",
    "tr_in=tr_in.astype(np.float)\n",
    "tr_in=np.ravel(tr_in)\n",
    "print(shape(tr_in))  \n",
    "tr_in= tr_in.reshape(34200,14)\n",
    "\n",
    "tr_out=np.asarray(tr_out)\n",
    "#tr_out=tr_in.astype(np.float)\n",
    "tr_out=np.ravel(tr_out)\n",
    "print(shape(tr_out))\n",
    "\n",
    "te_in=np.asarray(te_in)\n",
    "te_in=te_in.astype(np.float)\n",
    "te_in=np.ravel(te_in)\n",
    "print(shape(te_in))  \n",
    "te_in= te_in.reshape(1800,14)\n"
   ]
  },
  {
   "cell_type": "code",
   "execution_count": 8,
   "metadata": {
    "collapsed": false
   },
   "outputs": [
    {
     "name": "stdout",
     "output_type": "stream",
     "text": [
      "1800\n",
      "219.541766786\n"
     ]
    }
   ],
   "source": [
    "print(len(te_in))\n",
    "nan1=te_in[400:600,0].reshape(200,1)\n",
    "nan2=te_in[1300:1400,0].reshape(100,1)\n",
    "nan3=te_in[1600:1700,0].reshape(100,1)\n",
    "\n",
    "training=np.zeros((1200,14))\n",
    "training[0:400]=te_in[0:400]\n",
    "training[400:1100]=te_in[600:1300]\n",
    "training[1100:1200]=te_in[1700:len(te_in)]\n",
    "\n",
    "#for t in training:\n",
    "#    print t\n",
    "#training=training[0]\n",
    "print(mean(training))\n"
   ]
  },
  {
   "cell_type": "code",
   "execution_count": 9,
   "metadata": {
    "collapsed": false
   },
   "outputs": [
    {
     "name": "stdout",
     "output_type": "stream",
     "text": [
      "(200, 14)\n",
      "(100, 14)\n",
      "(100, 14)\n",
      "79.710682195\n",
      "364.286548178\n",
      "540.15014606\n"
     ]
    }
   ],
   "source": [
    "n_neighbors = 5\n",
    "ynan1=np.zeros((14,200))\n",
    "ynan2=np.zeros((14,100))\n",
    "ynan3=np.zeros((14,100))\n",
    "for j in range(13):\n",
    "    train_data=training[:,0].ravel().reshape(1200,1)\n",
    "    #print(np.shape(train_data))\n",
    "    train_labels_column=training[:,j].ravel().reshape(1200,1)\n",
    "    #print np.shape(train_labels_column)\n",
    "    #print shape(nan1)\n",
    "   \n",
    "    for i, weights in enumerate(['uniform', 'distance']):\n",
    "        knn = neighbors.KNeighborsRegressor(n_neighbors, weights=weights) \n",
    "        model = knn.fit(train_data, train_labels_column)\n",
    "        predictions=model.predict(nan1)  \n",
    "        \n",
    "        y1 = model.predict(nan1)\n",
    "    \n",
    "        ynan1[j]=y1.ravel()\n",
    "        ynan2[j] = model.predict(nan2).ravel()\n",
    "        ynan3[j] = model.predict(nan3).ravel()\n",
    "     \n",
    "ynan1=np.transpose(ynan1)\n",
    "print(np.shape(ynan1))\n",
    "ynan2=np.transpose(ynan2)\n",
    "print(np.shape(ynan2))\n",
    "ynan3=np.transpose(ynan3)\n",
    "print(np.shape(ynan3))\n",
    "print mean(ynan1)\n",
    "print mean(ynan2)\n",
    "print mean(ynan3)\n"
   ]
  },
  {
   "cell_type": "code",
   "execution_count": 10,
   "metadata": {
    "collapsed": false
   },
   "outputs": [
    {
     "name": "stdout",
     "output_type": "stream",
     "text": [
      "255.789212102\n",
      "279.304382426\n"
     ]
    }
   ],
   "source": [
    "#test=np.zeros(len(te_in),14)\n",
    "test=te_in\n",
    "test[400:600]=ynan1\n",
    "test[1300:1400]=ynan2\n",
    "test[1600:1700]=ynan3\n",
    "print mean(test)\n",
    "print mean(tr_in)"
   ]
  },
  {
   "cell_type": "code",
   "execution_count": 11,
   "metadata": {
    "collapsed": false
   },
   "outputs": [
    {
     "name": "stdout",
     "output_type": "stream",
     "text": [
      "it had mean: 279.304382426 and std:1176.99696585\n",
      "NOW it has mean: -4.58973803918e-16 and std: 1.0\n",
      "it had mean: 255.789212102 and std:1112.18820531\n",
      "NOW it has mean: 4.10535802884e-16 and std: 1.0\n"
     ]
    }
   ],
   "source": [
    "#NORMALIZING DATA\n",
    "selX = tr_in\n",
    "std_scal=prep.StandardScaler()\n",
    "selX_scaled=std_scal.fit_transform(selX)\n",
    "print('it had mean: ' +str(mean(selX))+' and std:'+ str(std(selX)))\n",
    "print('NOW it has mean: '+str(mean(selX_scaled))+' and std: '+str(std(selX_scaled)))\n",
    "\n",
    "selX = test\n",
    "std_scal=prep.StandardScaler()\n",
    "test_scaled=std_scal.fit_transform(selX)\n",
    "print('it had mean: ' +str(mean(selX))+' and std:'+ str(std(selX)))\n",
    "print('NOW it has mean: '+str(mean(test_scaled))+' and std: '+str(std(test_scaled)))\n",
    "\n",
    "test=test_scaled\n",
    "tr_in=selX_scaled\n",
    "\n"
   ]
  },
  {
   "cell_type": "code",
   "execution_count": null,
   "metadata": {
    "collapsed": false
   },
   "outputs": [
    {
     "name": "stdout",
     "output_type": "stream",
     "text": [
      "Predict rbf...\n"
     ]
    }
   ],
   "source": [
    "svr_rbf = SVR(kernel='rbf', C=1e3, gamma=0.1)\n",
    "svr_lin = SVR(kernel='linear', C=1e3)\n",
    "svr_poly = SVR(kernel='poly', C=1e3, degree=2)\n",
    "#y_rbf = svr_rbf.fit(X, y).predict(X)\n",
    "#y_lin = svr_lin.fit(X, y).predict(X)\n",
    "#y_poly = svr_poly.fit(X, y).predict(X)\n",
    "\n",
    "print \"Predict rbf...\"\n",
    "y_rbf = svr_rbf.fit(tr_in, tr_out).predict(test)\n",
    "print \"Predict lin...\"\n",
    "#y_lin = svr_lin.fit(tr_in, tr_out).predict(test)\n",
    "print \"Predict poly...\"\n",
    "#y_poly = svr_poly.fit(tr_in, tr_out).predict(test)"
   ]
  },
  {
   "cell_type": "code",
   "execution_count": null,
   "metadata": {
    "collapsed": false
   },
   "outputs": [],
   "source": [
    "fp=open('answers_rbf.txt','w')\n",
    "fp.write('Point_ID,Output\\n')\n",
    "i=1\n",
    "\n",
    "for a in y_rbf:\n",
    "    string=str(a)\n",
    "    fp.write(str(i)+','+string+'\\n')\n",
    "    i+=1\n",
    "if i%1000==0:\n",
    "    print str(i)\n",
    "fp.close()"
   ]
  },
  {
   "cell_type": "code",
   "execution_count": null,
   "metadata": {
    "collapsed": false
   },
   "outputs": [],
   "source": [
    "n_neightbors=5\n",
    "print np.shape(tr_in)\n",
    "print np.shape(tr_out.ravel().reshape(34200,1))\n",
    "\n",
    "print np.shape(test)\n",
    "\n",
    "for i, weights in enumerate(['uniform', 'distance']):\n",
    "    knn = neighbors.KNeighborsRegressor(n_neighbors, weights=weights) \n",
    "    model = knn.fit(tr_in, tr_out)\n",
    "    predictions=model.score(test)  \n",
    "    \n",
    "print predictions"
   ]
  },
  {
   "cell_type": "code",
   "execution_count": null,
   "metadata": {
    "collapsed": true
   },
   "outputs": [],
   "source": [
    "fp = open('acc_svr_rbf.txt')"
   ]
  },
  {
   "cell_type": "code",
   "execution_count": null,
   "metadata": {
    "collapsed": true
   },
   "outputs": [],
   "source": [
    "lw = 2\n",
    "plt.scatter(X, y, color='darkorange', label='data')\n",
    "plt.hold('on')\n",
    "plt.plot(X, y_rbf, color='navy', lw=lw, label='RBF model')\n",
    "plt.plot(X, y_lin, color='c', lw=lw, label='Linear model')\n",
    "plt.plot(X, y_poly, color='cornflowerblue', lw=lw, label='Polynomial model')\n",
    "plt.xlabel('data')\n",
    "plt.ylabel('target')\n",
    "plt.title('Support Vector Regression')\n",
    "plt.legend()\n",
    "plt.show()"
   ]
  },
  {
   "cell_type": "code",
   "execution_count": null,
   "metadata": {
    "collapsed": false
   },
   "outputs": [],
   "source": [
    "X = [[0, 0], [2, 2]]\n",
    "y = [0.5, 2.5]\n",
    "clf = svm.SVR()\n",
    "clf.fit(X, y) \n",
    "SVR(C=1.0, cache_size=200, coef0=0.0, degree=3, epsilon=0.1, gamma='auto',kernel='rbf', max_iter=-1, shrinking=True, tol=0.001, verbose=False)\n",
    "clf.predict([[1, 1]])\n",
    "array([ 1.5])"
   ]
  },
  {
   "cell_type": "code",
   "execution_count": 12,
   "metadata": {
    "collapsed": false
   },
   "outputs": [
    {
     "ename": "NameError",
     "evalue": "name 'X' is not defined",
     "output_type": "error",
     "traceback": [
      "\u001b[0;31m---------------------------------------------------------------------------\u001b[0m",
      "\u001b[0;31mNameError\u001b[0m                                 Traceback (most recent call last)",
      "\u001b[0;32m<ipython-input-12-329970975c13>\u001b[0m in \u001b[0;36m<module>\u001b[0;34m()\u001b[0m\n\u001b[1;32m      1\u001b[0m \u001b[0;32mfrom\u001b[0m \u001b[0msklearn\u001b[0m\u001b[0;34m.\u001b[0m\u001b[0mlinear_model\u001b[0m \u001b[0;32mimport\u001b[0m \u001b[0mLasso\u001b[0m\u001b[0;34m\u001b[0m\u001b[0m\n\u001b[1;32m      2\u001b[0m \u001b[0mregression\u001b[0m \u001b[0;34m=\u001b[0m \u001b[0mLasso\u001b[0m\u001b[0;34m(\u001b[0m\u001b[0;34m)\u001b[0m\u001b[0;34m\u001b[0m\u001b[0m\n\u001b[0;32m----> 3\u001b[0;31m \u001b[0mregression\u001b[0m\u001b[0;34m.\u001b[0m\u001b[0mfit\u001b[0m\u001b[0;34m(\u001b[0m\u001b[0mX\u001b[0m\u001b[0;34m,\u001b[0m \u001b[0my\u001b[0m\u001b[0;34m)\u001b[0m\u001b[0;34m\u001b[0m\u001b[0m\n\u001b[0m\u001b[1;32m      4\u001b[0m \u001b[0;31m#regression.predict(X_test)\u001b[0m\u001b[0;34m\u001b[0m\u001b[0;34m\u001b[0m\u001b[0m\n",
      "\u001b[0;31mNameError\u001b[0m: name 'X' is not defined"
     ]
    }
   ],
   "source": [
    "from sklearn.linear_model import Lasso\n",
    "regression = Lasso()\n",
    "regression.fit(X, y)\n",
    "#regression.predict(X_test)"
   ]
  },
  {
   "cell_type": "code",
   "execution_count": 10,
   "metadata": {
    "collapsed": false
   },
   "outputs": [
    {
     "data": {
      "text/html": [
       "<div>\n",
       "<table border=\"1\" class=\"dataframe\">\n",
       "  <thead>\n",
       "    <tr style=\"text-align: right;\">\n",
       "      <th></th>\n",
       "      <th>Output</th>\n",
       "    </tr>\n",
       "    <tr>\n",
       "      <th>Point_ID</th>\n",
       "      <th></th>\n",
       "    </tr>\n",
       "  </thead>\n",
       "  <tbody>\n",
       "    <tr>\n",
       "      <th>1</th>\n",
       "      <td>1</td>\n",
       "    </tr>\n",
       "    <tr>\n",
       "      <th>2</th>\n",
       "      <td>2</td>\n",
       "    </tr>\n",
       "    <tr>\n",
       "      <th>3</th>\n",
       "      <td>3</td>\n",
       "    </tr>\n",
       "    <tr>\n",
       "      <th>4</th>\n",
       "      <td>4</td>\n",
       "    </tr>\n",
       "    <tr>\n",
       "      <th>5</th>\n",
       "      <td>5</td>\n",
       "    </tr>\n",
       "    <tr>\n",
       "      <th>6</th>\n",
       "      <td>6</td>\n",
       "    </tr>\n",
       "    <tr>\n",
       "      <th>7</th>\n",
       "      <td>7</td>\n",
       "    </tr>\n",
       "    <tr>\n",
       "      <th>8</th>\n",
       "      <td>8</td>\n",
       "    </tr>\n",
       "    <tr>\n",
       "      <th>9</th>\n",
       "      <td>9</td>\n",
       "    </tr>\n",
       "    <tr>\n",
       "      <th>10</th>\n",
       "      <td>10</td>\n",
       "    </tr>\n",
       "    <tr>\n",
       "      <th>11</th>\n",
       "      <td>11</td>\n",
       "    </tr>\n",
       "    <tr>\n",
       "      <th>12</th>\n",
       "      <td>12</td>\n",
       "    </tr>\n",
       "    <tr>\n",
       "      <th>13</th>\n",
       "      <td>13</td>\n",
       "    </tr>\n",
       "    <tr>\n",
       "      <th>14</th>\n",
       "      <td>14</td>\n",
       "    </tr>\n",
       "    <tr>\n",
       "      <th>15</th>\n",
       "      <td>15</td>\n",
       "    </tr>\n",
       "    <tr>\n",
       "      <th>16</th>\n",
       "      <td>16</td>\n",
       "    </tr>\n",
       "    <tr>\n",
       "      <th>17</th>\n",
       "      <td>17</td>\n",
       "    </tr>\n",
       "    <tr>\n",
       "      <th>18</th>\n",
       "      <td>18</td>\n",
       "    </tr>\n",
       "    <tr>\n",
       "      <th>19</th>\n",
       "      <td>19</td>\n",
       "    </tr>\n",
       "    <tr>\n",
       "      <th>20</th>\n",
       "      <td>20</td>\n",
       "    </tr>\n",
       "    <tr>\n",
       "      <th>21</th>\n",
       "      <td>21</td>\n",
       "    </tr>\n",
       "    <tr>\n",
       "      <th>22</th>\n",
       "      <td>22</td>\n",
       "    </tr>\n",
       "    <tr>\n",
       "      <th>23</th>\n",
       "      <td>23</td>\n",
       "    </tr>\n",
       "    <tr>\n",
       "      <th>24</th>\n",
       "      <td>24</td>\n",
       "    </tr>\n",
       "    <tr>\n",
       "      <th>25</th>\n",
       "      <td>25</td>\n",
       "    </tr>\n",
       "    <tr>\n",
       "      <th>26</th>\n",
       "      <td>26</td>\n",
       "    </tr>\n",
       "    <tr>\n",
       "      <th>27</th>\n",
       "      <td>27</td>\n",
       "    </tr>\n",
       "    <tr>\n",
       "      <th>28</th>\n",
       "      <td>28</td>\n",
       "    </tr>\n",
       "    <tr>\n",
       "      <th>29</th>\n",
       "      <td>29</td>\n",
       "    </tr>\n",
       "    <tr>\n",
       "      <th>30</th>\n",
       "      <td>30</td>\n",
       "    </tr>\n",
       "    <tr>\n",
       "      <th>...</th>\n",
       "      <td>...</td>\n",
       "    </tr>\n",
       "    <tr>\n",
       "      <th>1771</th>\n",
       "      <td>1771</td>\n",
       "    </tr>\n",
       "    <tr>\n",
       "      <th>1772</th>\n",
       "      <td>1772</td>\n",
       "    </tr>\n",
       "    <tr>\n",
       "      <th>1773</th>\n",
       "      <td>1773</td>\n",
       "    </tr>\n",
       "    <tr>\n",
       "      <th>1774</th>\n",
       "      <td>1774</td>\n",
       "    </tr>\n",
       "    <tr>\n",
       "      <th>1775</th>\n",
       "      <td>1775</td>\n",
       "    </tr>\n",
       "    <tr>\n",
       "      <th>1776</th>\n",
       "      <td>1776</td>\n",
       "    </tr>\n",
       "    <tr>\n",
       "      <th>1777</th>\n",
       "      <td>1777</td>\n",
       "    </tr>\n",
       "    <tr>\n",
       "      <th>1778</th>\n",
       "      <td>1778</td>\n",
       "    </tr>\n",
       "    <tr>\n",
       "      <th>1779</th>\n",
       "      <td>1779</td>\n",
       "    </tr>\n",
       "    <tr>\n",
       "      <th>1780</th>\n",
       "      <td>1780</td>\n",
       "    </tr>\n",
       "    <tr>\n",
       "      <th>1781</th>\n",
       "      <td>1781</td>\n",
       "    </tr>\n",
       "    <tr>\n",
       "      <th>1782</th>\n",
       "      <td>1782</td>\n",
       "    </tr>\n",
       "    <tr>\n",
       "      <th>1783</th>\n",
       "      <td>1783</td>\n",
       "    </tr>\n",
       "    <tr>\n",
       "      <th>1784</th>\n",
       "      <td>1784</td>\n",
       "    </tr>\n",
       "    <tr>\n",
       "      <th>1785</th>\n",
       "      <td>1785</td>\n",
       "    </tr>\n",
       "    <tr>\n",
       "      <th>1786</th>\n",
       "      <td>1786</td>\n",
       "    </tr>\n",
       "    <tr>\n",
       "      <th>1787</th>\n",
       "      <td>1787</td>\n",
       "    </tr>\n",
       "    <tr>\n",
       "      <th>1788</th>\n",
       "      <td>1788</td>\n",
       "    </tr>\n",
       "    <tr>\n",
       "      <th>1789</th>\n",
       "      <td>1789</td>\n",
       "    </tr>\n",
       "    <tr>\n",
       "      <th>1790</th>\n",
       "      <td>1790</td>\n",
       "    </tr>\n",
       "    <tr>\n",
       "      <th>1791</th>\n",
       "      <td>1791</td>\n",
       "    </tr>\n",
       "    <tr>\n",
       "      <th>1792</th>\n",
       "      <td>1792</td>\n",
       "    </tr>\n",
       "    <tr>\n",
       "      <th>1793</th>\n",
       "      <td>1793</td>\n",
       "    </tr>\n",
       "    <tr>\n",
       "      <th>1794</th>\n",
       "      <td>1794</td>\n",
       "    </tr>\n",
       "    <tr>\n",
       "      <th>1795</th>\n",
       "      <td>1795</td>\n",
       "    </tr>\n",
       "    <tr>\n",
       "      <th>1796</th>\n",
       "      <td>1796</td>\n",
       "    </tr>\n",
       "    <tr>\n",
       "      <th>1797</th>\n",
       "      <td>1797</td>\n",
       "    </tr>\n",
       "    <tr>\n",
       "      <th>1798</th>\n",
       "      <td>1798</td>\n",
       "    </tr>\n",
       "    <tr>\n",
       "      <th>1799</th>\n",
       "      <td>1799</td>\n",
       "    </tr>\n",
       "    <tr>\n",
       "      <th>1800</th>\n",
       "      <td>1800</td>\n",
       "    </tr>\n",
       "  </tbody>\n",
       "</table>\n",
       "<p>1800 rows × 1 columns</p>\n",
       "</div>"
      ],
      "text/plain": [
       "          Output\n",
       "Point_ID        \n",
       "1              1\n",
       "2              2\n",
       "3              3\n",
       "4              4\n",
       "5              5\n",
       "6              6\n",
       "7              7\n",
       "8              8\n",
       "9              9\n",
       "10            10\n",
       "11            11\n",
       "12            12\n",
       "13            13\n",
       "14            14\n",
       "15            15\n",
       "16            16\n",
       "17            17\n",
       "18            18\n",
       "19            19\n",
       "20            20\n",
       "21            21\n",
       "22            22\n",
       "23            23\n",
       "24            24\n",
       "25            25\n",
       "26            26\n",
       "27            27\n",
       "28            28\n",
       "29            29\n",
       "30            30\n",
       "...          ...\n",
       "1771        1771\n",
       "1772        1772\n",
       "1773        1773\n",
       "1774        1774\n",
       "1775        1775\n",
       "1776        1776\n",
       "1777        1777\n",
       "1778        1778\n",
       "1779        1779\n",
       "1780        1780\n",
       "1781        1781\n",
       "1782        1782\n",
       "1783        1783\n",
       "1784        1784\n",
       "1785        1785\n",
       "1786        1786\n",
       "1787        1787\n",
       "1788        1788\n",
       "1789        1789\n",
       "1790        1790\n",
       "1791        1791\n",
       "1792        1792\n",
       "1793        1793\n",
       "1794        1794\n",
       "1795        1795\n",
       "1796        1796\n",
       "1797        1797\n",
       "1798        1798\n",
       "1799        1799\n",
       "1800        1800\n",
       "\n",
       "[1800 rows x 1 columns]"
      ]
     },
     "execution_count": 10,
     "metadata": {},
     "output_type": "execute_result"
    }
   ],
   "source": [
    "import pandas as pd\n",
    "df = pd.DataFrame()\n",
    "df = df.from_csv(\"reg_sample_submission.csv\", header=0, sep=',', index_col=0)\n",
    "df[\"Output\"] = range(1,1801)\n",
    "df"
   ]
  },
  {
   "cell_type": "code",
   "execution_count": null,
   "metadata": {
    "collapsed": true
   },
   "outputs": [],
   "source": []
  }
 ],
 "metadata": {
  "anaconda-cloud": {},
  "kernelspec": {
   "display_name": "Python [default]",
   "language": "python",
   "name": "python2"
  },
  "language_info": {
   "codemirror_mode": {
    "name": "ipython",
    "version": 2
   },
   "file_extension": ".py",
   "mimetype": "text/x-python",
   "name": "python",
   "nbconvert_exporter": "python",
   "pygments_lexer": "ipython2",
   "version": "2.7.12"
  }
 },
 "nbformat": 4,
 "nbformat_minor": 1
}
