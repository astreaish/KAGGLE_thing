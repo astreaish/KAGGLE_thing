{
 "cells": [
  {
   "cell_type": "code",
   "execution_count": 1,
   "metadata": {
    "collapsed": false
   },
   "outputs": [
    {
     "name": "stdout",
     "output_type": "stream",
     "text": [
      "34200\n",
      "34200\n",
      "1800\n"
     ]
    }
   ],
   "source": [
    "from sklearn.svm import SVR\n",
    "from PIL import Image\n",
    "import numpy as np\n",
    "from numpy import *\n",
    "import matplotlib.pyplot as plt\n",
    "import pandas as pd\n",
    "import csv\n",
    "from PIL import Image\n",
    "import numpy as np\n",
    "from numpy import *\n",
    "from sklearn import preprocessing as prep\n",
    "from mpl_toolkits.mplot3d import Axes3D\n",
    "from matplotlib.colors import ListedColormap\n",
    "from sklearn.decomposition import PCA\n",
    "import matplotlib.pyplot as plt\n",
    "import sklearn.cross_validation as crval\n",
    "from sklearn.naive_bayes import GaussianNB\n",
    "from sklearn.datasets import fetch_mldata\n",
    "from scipy.interpolate import interp1d\n",
    "from sklearn.svm import LinearSVC\n",
    "from sklearn.svm import SVC\n",
    "import pylab\n",
    "import csv\n",
    "from sklearn.cross_validation import *\n",
    "from sklearn.linear_model import * \n",
    "from sklearn import neighbors\n",
    "#file = 'reg_train_in.csv'\n",
    "#tr_in1 = np.genfromtxt(file, delimiter = ',', filling_values = np.nan, names = True, dtype = type(None))\n",
    "#print len(tr_in1)\n",
    "\n",
    "\n",
    "tr_in=[]\n",
    "fp=open('reg_train_in.csv','r')\n",
    "trash=fp.readline()\n",
    "#print trash\n",
    "lines=fp.readlines()\n",
    "print len(lines)\n",
    "for line in lines:\n",
    "    data=line.split(',')\n",
    "    cleaned_data=data[1:len(data)]\n",
    "    tr_in.append(cleaned_data)\n",
    "\n",
    "tr_out=[]\n",
    "fp=open('reg_train_out.csv','r')\n",
    "trash=fp.readline()\n",
    "#print trash\n",
    "lines=fp.readlines()\n",
    "print len(lines)\n",
    "for line in lines:\n",
    "    data=line.split(',')\n",
    "    cleaned_data=data[1:len(data)]\n",
    "    tr_out.append(cleaned_data)\n",
    "\n",
    "te_in=[]\n",
    "fp=open('reg_test_in.csv','r')\n",
    "trash=fp.readline()\n",
    "#print trash\n",
    "lines=fp.readlines()\n",
    "print len(lines)\n",
    "for line in lines:\n",
    "    data=line.split(',')\n",
    "    cleaned_data=data[1:len(data)]\n",
    "    te_in.append(cleaned_data)"
   ]
  },
  {
   "cell_type": "code",
   "execution_count": 2,
   "metadata": {
    "collapsed": false
   },
   "outputs": [
    {
     "name": "stdout",
     "output_type": "stream",
     "text": [
      "(478800,)\n",
      "(34200,)\n",
      "(25200,)\n"
     ]
    }
   ],
   "source": [
    "# build arrays\n",
    "\n",
    "tr_in=np.asarray(tr_in)\n",
    "tr_in=tr_in.astype(np.float)\n",
    "tr_in=np.ravel(tr_in)\n",
    "print(shape(tr_in))  \n",
    "tr_in= tr_in.reshape(34200,14)\n",
    "\n",
    "tr_out=np.asarray(tr_out)\n",
    "#tr_out=tr_in.astype(np.float)\n",
    "tr_out=np.ravel(tr_out)\n",
    "print(shape(tr_out))\n",
    "\n",
    "te_in=np.asarray(te_in)\n",
    "te_in=te_in.astype(np.float)\n",
    "te_in=np.ravel(te_in)\n",
    "print(shape(te_in))  \n",
    "te_in= te_in.reshape(1800,14)\n"
   ]
  },
  {
   "cell_type": "code",
   "execution_count": 3,
   "metadata": {
    "collapsed": false
   },
   "outputs": [
    {
     "name": "stdout",
     "output_type": "stream",
     "text": [
      "1800\n",
      "219.541766786\n"
     ]
    }
   ],
   "source": [
    "print(len(te_in))\n",
    "nan1=te_in[400:600,0].reshape(200,1)\n",
    "nan2=te_in[1300:1400,0].reshape(100,1)\n",
    "nan3=te_in[1600:1700,0].reshape(100,1)\n",
    "\n",
    "training=np.zeros((1200,14))\n",
    "training[0:400]=te_in[0:400]\n",
    "training[400:1100]=te_in[600:1300]\n",
    "training[1100:1200]=te_in[1700:len(te_in)]\n",
    "\n",
    "#for t in training:\n",
    "#    print t\n",
    "#training=training[0]\n",
    "print(mean(training))\n"
   ]
  },
  {
   "cell_type": "code",
   "execution_count": 4,
   "metadata": {
    "collapsed": false
   },
   "outputs": [
    {
     "name": "stdout",
     "output_type": "stream",
     "text": [
      "(200, 14)\n",
      "(100, 14)\n",
      "(100, 14)\n",
      "79.710682195\n",
      "364.286548178\n",
      "540.15014606\n"
     ]
    }
   ],
   "source": [
    "n_neighbors = 5\n",
    "ynan1=np.zeros((14,200))\n",
    "ynan2=np.zeros((14,100))\n",
    "ynan3=np.zeros((14,100))\n",
    "for j in range(13):\n",
    "    train_data=training[:,0].ravel().reshape(1200,1)\n",
    "    #print(np.shape(train_data))\n",
    "    train_labels_column=training[:,j].ravel().reshape(1200,1)\n",
    "    #print np.shape(train_labels_column)\n",
    "    #print shape(nan1)\n",
    "   \n",
    "    for i, weights in enumerate(['uniform', 'distance']):\n",
    "        knn = neighbors.KNeighborsRegressor(n_neighbors, weights=weights) \n",
    "        model = knn.fit(train_data, train_labels_column)\n",
    "        predictions=model.predict(nan1)  \n",
    "        \n",
    "        y1 = model.predict(nan1)\n",
    "    \n",
    "        ynan1[j]=y1.ravel()\n",
    "        ynan2[j] = model.predict(nan2).ravel()\n",
    "        ynan3[j] = model.predict(nan3).ravel()\n",
    "     \n",
    "ynan1=np.transpose(ynan1)\n",
    "print(np.shape(ynan1))\n",
    "ynan2=np.transpose(ynan2)\n",
    "print(np.shape(ynan2))\n",
    "ynan3=np.transpose(ynan3)\n",
    "print(np.shape(ynan3))\n",
    "print mean(ynan1)\n",
    "print mean(ynan2)\n",
    "print mean(ynan3)\n"
   ]
  },
  {
   "cell_type": "code",
   "execution_count": 5,
   "metadata": {
    "collapsed": false
   },
   "outputs": [
    {
     "name": "stdout",
     "output_type": "stream",
     "text": [
      "255.789212102\n",
      "279.304382426\n"
     ]
    }
   ],
   "source": [
    "#test=np.zeros(len(te_in),14)\n",
    "test=te_in\n",
    "test[400:600]=ynan1\n",
    "test[1300:1400]=ynan2\n",
    "test[1600:1700]=ynan3\n",
    "print mean(test)\n",
    "print mean(tr_in)"
   ]
  },
  {
   "cell_type": "code",
   "execution_count": 6,
   "metadata": {
    "collapsed": false
   },
   "outputs": [
    {
     "name": "stdout",
     "output_type": "stream",
     "text": [
      "it had mean: 279.304382426 and std:1176.99696585\n",
      "NOW it has mean: -4.58973803918e-16 and std: 1.0\n",
      "it had mean: 255.789212102 and std:1112.18820531\n",
      "NOW it has mean: 4.10535802884e-16 and std: 1.0\n"
     ]
    }
   ],
   "source": [
    "#NORMALIZING DATA\n",
    "selX = tr_in\n",
    "std_scal=prep.StandardScaler()\n",
    "selX_scaled=std_scal.fit_transform(selX)\n",
    "print('it had mean: ' +str(mean(selX))+' and std:'+ str(std(selX)))\n",
    "print('NOW it has mean: '+str(mean(selX_scaled))+' and std: '+str(std(selX_scaled)))\n",
    "\n",
    "selX = test\n",
    "std_scal=prep.StandardScaler()\n",
    "test_scaled=std_scal.fit_transform(selX)\n",
    "print('it had mean: ' +str(mean(selX))+' and std:'+ str(std(selX)))\n",
    "print('NOW it has mean: '+str(mean(test_scaled))+' and std: '+str(std(test_scaled)))\n",
    "\n",
    "test=test_scaled\n",
    "tr_in=selX_scaled\n",
    "\n"
   ]
  },
  {
   "cell_type": "code",
   "execution_count": null,
   "metadata": {
    "collapsed": false
   },
   "outputs": [],
   "source": [
    "svr_rbf = SVR(kernel='rbf', C=1e3, gamma=0.1)\n",
    "svr_lin = SVR(kernel='linear', C=1e3)\n",
    "svr_poly = SVR(kernel='poly', C=1e3, degree=2)\n",
    "#y_rbf = svr_rbf.fit(X, y).predict(X)\n",
    "#y_lin = svr_lin.fit(X, y).predict(X)\n",
    "#y_poly = svr_poly.fit(X, y).predict(X)\n",
    "\n",
    "print \"Predict rbf...\"\n",
    "y_rbf = svr_rbf.fit(tr_in, tr_out).predict(test)\n",
    "print \"Predict lin...\"\n",
    "#y_lin = svr_lin.fit(tr_in, tr_out).predict(test)\n",
    "print \"Predict poly...\"\n",
    "#y_poly = svr_poly.fit(tr_in, tr_out).predict(test)"
   ]
  },
  {
   "cell_type": "code",
   "execution_count": null,
   "metadata": {
    "collapsed": false
   },
   "outputs": [],
   "source": [
    "fp=open('answers_rbf.txt','w')\n",
    "fp.write('Point_ID,Output\\n')\n",
    "i=1\n",
    "\n",
    "for a in y_rbf:\n",
    "    string=str(a)\n",
    "    fp.write(str(i)+','+string+'\\n')\n",
    "    i+=1\n",
    "if i%1000==0:\n",
    "    print str(i)\n",
    "fp.close()"
   ]
  },
  {
   "cell_type": "code",
   "execution_count": null,
   "metadata": {
    "collapsed": false
   },
   "outputs": [],
   "source": [
    "n_neightbors=5\n",
    "print np.shape(tr_in)\n",
    "print np.shape(tr_out.ravel().reshape(34200,1))\n",
    "\n",
    "print np.shape(test)\n",
    "\n",
    "for i, weights in enumerate(['uniform', 'distance']):\n",
    "    knn = neighbors.KNeighborsRegressor(n_neighbors, weights=weights) \n",
    "    model = knn.fit(tr_in, tr_out)\n",
    "    predictions=model.score(test)  \n",
    "    \n",
    "print predictions"
   ]
  },
  {
   "cell_type": "code",
   "execution_count": null,
   "metadata": {
    "collapsed": true
   },
   "outputs": [],
   "source": [
    "fp = open('acc_svr_rbf.txt')"
   ]
  },
  {
   "cell_type": "code",
   "execution_count": null,
   "metadata": {
    "collapsed": true
   },
   "outputs": [],
   "source": [
    "lw = 2\n",
    "plt.scatter(X, y, color='darkorange', label='data')\n",
    "plt.hold('on')\n",
    "plt.plot(X, y_rbf, color='navy', lw=lw, label='RBF model')\n",
    "plt.plot(X, y_lin, color='c', lw=lw, label='Linear model')\n",
    "plt.plot(X, y_poly, color='cornflowerblue', lw=lw, label='Polynomial model')\n",
    "plt.xlabel('data')\n",
    "plt.ylabel('target')\n",
    "plt.title('Support Vector Regression')\n",
    "plt.legend()\n",
    "plt.show()"
   ]
  },
  {
   "cell_type": "code",
   "execution_count": null,
   "metadata": {
    "collapsed": false
   },
   "outputs": [],
   "source": [
    "X = [[0, 0], [2, 2]]\n",
    "y = [0.5, 2.5]\n",
    "clf = svm.SVR()\n",
    "clf.fit(X, y) \n",
    "SVR(C=1.0, cache_size=200, coef0=0.0, degree=3, epsilon=0.1, gamma='auto',kernel='rbf', max_iter=-1, shrinking=True, tol=0.001, verbose=False)\n",
    "clf.predict([[1, 1]])\n",
    "array([ 1.5])"
   ]
  }
 ],
 "metadata": {
  "kernelspec": {
   "display_name": "Python 2",
   "language": "python",
   "name": "python2"
  },
  "language_info": {
   "codemirror_mode": {
    "name": "ipython",
    "version": 2
   },
   "file_extension": ".py",
   "mimetype": "text/x-python",
   "name": "python",
   "nbconvert_exporter": "python",
   "pygments_lexer": "ipython2",
   "version": "2.7.11"
  }
 },
 "nbformat": 4,
 "nbformat_minor": 1
}
